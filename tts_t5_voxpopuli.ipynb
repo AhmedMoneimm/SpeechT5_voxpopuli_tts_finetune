{
  "cells": [
    {
      "cell_type": "code",
      "execution_count": null,
      "metadata": {
        "collapsed": true,
        "id": "uYB2V6MFbQr5"
      },
      "outputs": [],
      "source": [
        "%%capture\n",
        "!pip install transformers datasets speechbrain\n",
        "# !git clone https://github.com/gabrielmittag/NISQA.git\n",
        "# %cd NISQA\n",
        "# !pip install -r requirements.txt\n",
        "# !wget -P models/ https://github.com/gabrielmittag/NISQA/releases/download/v1.0/nisqa_tts.ckpt\n"
      ]
    },
    {
      "cell_type": "code",
      "execution_count": null,
      "metadata": {
        "id": "BDev0Q9d6b8j"
      },
      "outputs": [],
      "source": []
    },
    {
      "cell_type": "markdown",
      "metadata": {
        "id": "TCfucMjCbQr7"
      },
      "source": [
        "# Text to speech"
      ]
    },
    {
      "cell_type": "markdown",
      "metadata": {
        "id": "OSskYWAwbQr-"
      },
      "source": [
        "## Load the dataset"
      ]
    },
    {
      "cell_type": "code",
      "execution_count": null,
      "metadata": {
        "id": "IjFA_U1GbQr-",
        "outputId": "49f1271a-59b5-40de-99af-e9cbbe1ef31e",
        "colab": {
          "base_uri": "https://localhost:8080/",
          "height": 191,
          "referenced_widgets": [
            "5f1539703ead45baa925c386927bf5e3",
            "64a8b8d6e0424b948694f73ddd1a050d",
            "31c36c344a634f6a89815bba39f380ca",
            "a579e8c494274818bc541281757dbf42",
            "b1bf26b15f1344e3b05b0727f5dc54ac",
            "190561b8d7424d75aea0e0ab12c787b6",
            "6276c6f2309948e888b576d910cf898e",
            "a315b69f506e425d94f6f0768bf8bc6a",
            "3715164e0337427f93f9f8e31227dbba",
            "540622123906486fa49d8945b8a7efe1",
            "23eabff5e09e4d1a95c6f63e059fe68d",
            "55b9f88fb8e147b2aae5faf6a7867f4f",
            "445ff4f83b8d4c4d9dd7197568ecd99b",
            "89c2108fee904670a9a5b1f9c0bbf3d6",
            "66c17df231dc4330b324f2d8b682a687",
            "5cb4a962d4cd4e2aba6ad901527ae64c",
            "cea77eff641447c5ba5b4a11a05933f9",
            "7c2b03d2d7ae4a4dbbedee5ab74699a7",
            "6588c10fcb3045e892ebc11ab0bbee61",
            "74ee9b889f7544de8f66be58af98f83d",
            "60cd0cf401be4891ab5cddd6bab0aa6d",
            "541b5ba69c4041bb910da7df7cd90b0b"
          ]
        }
      },
      "outputs": [
        {
          "output_type": "stream",
          "name": "stderr",
          "text": [
            "/usr/local/lib/python3.10/dist-packages/huggingface_hub/utils/_auth.py:94: UserWarning: \n",
            "The secret `HF_TOKEN` does not exist in your Colab secrets.\n",
            "To authenticate with the Hugging Face Hub, create a token in your settings tab (https://huggingface.co/settings/tokens), set it as secret in your Google Colab and restart your session.\n",
            "You will be able to reuse this secret in all of your notebooks.\n",
            "Please note that authentication is recommended but still optional to access public models or datasets.\n",
            "  warnings.warn(\n"
          ]
        },
        {
          "output_type": "display_data",
          "data": {
            "text/plain": [
              "README.md:   0%|          | 0.00/10.7k [00:00<?, ?B/s]"
            ],
            "application/vnd.jupyter.widget-view+json": {
              "version_major": 2,
              "version_minor": 0,
              "model_id": "5f1539703ead45baa925c386927bf5e3"
            }
          },
          "metadata": {}
        },
        {
          "output_type": "display_data",
          "data": {
            "text/plain": [
              "voxpopuli.py:   0%|          | 0.00/8.84k [00:00<?, ?B/s]"
            ],
            "application/vnd.jupyter.widget-view+json": {
              "version_major": 2,
              "version_minor": 0,
              "model_id": "55b9f88fb8e147b2aae5faf6a7867f4f"
            }
          },
          "metadata": {}
        }
      ],
      "source": [
        "from datasets import load_dataset, Audio, Dataset\n",
        "\n",
        "dataset = load_dataset(\"facebook/voxpopuli\", \"en\", split=\"train\", streaming = True,trust_remote_code=True)"
      ]
    },
    {
      "cell_type": "code",
      "execution_count": null,
      "metadata": {
        "id": "Prd11mdycLKD",
        "colab": {
          "base_uri": "https://localhost:8080/",
          "height": 173
        },
        "outputId": "9ddfed4c-f1db-4589-9a11-3cf67274d032"
      },
      "outputs": [
        {
          "output_type": "execute_result",
          "data": {
            "text/plain": [
              "datasets.iterable_dataset.IterableDataset"
            ],
            "text/html": [
              "<div style=\"max-width:800px; border: 1px solid var(--colab-border-color);\"><style>\n",
              "      pre.function-repr-contents {\n",
              "        overflow-x: auto;\n",
              "        padding: 8px 12px;\n",
              "        max-height: 500px;\n",
              "      }\n",
              "\n",
              "      pre.function-repr-contents.function-repr-contents-collapsed {\n",
              "        cursor: pointer;\n",
              "        max-height: 100px;\n",
              "      }\n",
              "    </style>\n",
              "    <pre style=\"white-space: initial; background:\n",
              "         var(--colab-secondary-surface-color); padding: 8px 12px;\n",
              "         border-bottom: 1px solid var(--colab-border-color);\"><b>datasets.iterable_dataset.IterableDataset</b><br/>def __init__(ex_iterable: _BaseExamplesIterable, info: Optional[DatasetInfo]=None, split: Optional[NamedSplit]=None, formatting: Optional[FormattingConfig]=None, shuffling: Optional[ShufflingConfig]=None, distributed: Optional[DistributedConfig]=None, token_per_repo_id: Optional[Dict[str, Union[str, bool, None]]]=None)</pre><pre class=\"function-repr-contents function-repr-contents-collapsed\" style=\"\"><a class=\"filepath\" style=\"display:none\" href=\"#\">/usr/local/lib/python3.10/dist-packages/datasets/iterable_dataset.py</a>A Dataset backed by an iterable.</pre>\n",
              "      <script>\n",
              "      if (google.colab.kernel.accessAllowed && google.colab.files && google.colab.files.view) {\n",
              "        for (const element of document.querySelectorAll('.filepath')) {\n",
              "          element.style.display = 'block'\n",
              "          element.onclick = (event) => {\n",
              "            event.preventDefault();\n",
              "            event.stopPropagation();\n",
              "            google.colab.files.view(element.textContent, 1767);\n",
              "          };\n",
              "        }\n",
              "      }\n",
              "      for (const element of document.querySelectorAll('.function-repr-contents')) {\n",
              "        element.onclick = (event) => {\n",
              "          event.preventDefault();\n",
              "          event.stopPropagation();\n",
              "          element.classList.toggle('function-repr-contents-collapsed');\n",
              "        };\n",
              "      }\n",
              "      </script>\n",
              "      </div>"
            ]
          },
          "metadata": {},
          "execution_count": 3
        }
      ],
      "source": [
        "type(dataset)"
      ]
    },
    {
      "cell_type": "code",
      "execution_count": null,
      "metadata": {
        "collapsed": true,
        "id": "B0m_hUoNdla5",
        "colab": {
          "base_uri": "https://localhost:8080/"
        },
        "outputId": "10f605dd-d410-4263-e613-1ac3e6ca7b21"
      },
      "outputs": [
        {
          "output_type": "stream",
          "name": "stdout",
          "text": [
            "<class 'datasets.arrow_dataset.Dataset'>\n",
            "1000\n"
          ]
        }
      ],
      "source": [
        "\n",
        "# Convert the streaming dataset to a list with 10k samples\n",
        "data_list = []\n",
        "for i, example in enumerate(dataset):\n",
        "    if i >= 1000:\n",
        "        break\n",
        "    data_list.append(example)\n",
        "\n",
        "# Convert the list back to a Dataset object\n",
        "dataset = Dataset.from_list(data_list)\n",
        "\n",
        "# Verify the dataset type and length\n",
        "print(type(dataset))\n",
        "print(len(dataset))"
      ]
    },
    {
      "cell_type": "code",
      "execution_count": null,
      "metadata": {
        "id": "7PfCq4k7bQr_"
      },
      "outputs": [],
      "source": [
        "dataset = dataset.cast_column(\"audio\", Audio(sampling_rate=16000))"
      ]
    },
    {
      "cell_type": "markdown",
      "metadata": {
        "id": "XapXi-k2bQsA"
      },
      "source": [
        "## Preprocess the data"
      ]
    },
    {
      "cell_type": "markdown",
      "metadata": {
        "id": "FTF_lF8hbQsA"
      },
      "source": [
        "Let's begin by defining the model checkpoint to use and loading the appropriate processor:"
      ]
    },
    {
      "cell_type": "code",
      "execution_count": null,
      "metadata": {
        "id": "rXpPIZW7bQsA",
        "colab": {
          "base_uri": "https://localhost:8080/",
          "height": 247,
          "referenced_widgets": [
            "1763f3a2b39a40b79033a1538c0afe6e",
            "3ef8416c66fd4aa0a91b1dc86bb6a5a6",
            "6d757df12c2947f98538cafb37faf905",
            "e19051fbd23c498b80771e81d6e153f4",
            "f150c3dba0024809a9fba81e51997fcf",
            "c0b8c288275d4d6ea9cfbf61a48e1758",
            "3f3745d28e0f4672adf7a693ebda8fc7",
            "c371de3691e0459dbf9bfb8c32fd84ef",
            "8403f43a547048e3a14e63697644a68e",
            "818582da21e74ceca5addc0f25e990c1",
            "7044ec569bfb49c38207ae41fc3b8a0c",
            "20336dc2a8c64cfe8330b23c18b97bf9",
            "51a1d9c0a6fd4286bc8042bdfe42c43a",
            "387db5945b8e455d9a6628abce2a6ad6",
            "7bbdfb41e50e433782276909f09cc033",
            "372414db9f57431ab656e46914444e8c",
            "4bdbe8e7062f4cb481a34e5388427711",
            "a34e1b310da24593bccdc6808465e97a",
            "67cc87540d244753af00b4628bf496ea",
            "7a4bc5076a3b44e7a3239a92173fc9f2",
            "ed857221922747c79b8c39e4c08e7e29",
            "104a36100b214b6f8ed7b7ee22efbd72",
            "f4a1441061484b729e4e5c1fdae8d303",
            "168ff26a2fb1466082abfdf52ff811a3",
            "165683cfc5984e308229736bec55fab1",
            "cdac927f905a4604a5d3279f9fddd5a1",
            "0c28f41dd34e498c883b40487e01aa00",
            "508a10e26c0d46a29b5110d8d1bf2495",
            "0f4b472c1549431f8ae8b0af1b60a8c6",
            "0034162c76e1422089797eed0d383687",
            "5ba07362d76a4873ab6534a2148ac71e",
            "0e5218c0af7f4d3982d64234f8187d4b",
            "aaa147425eb0466a84bb188858056b67",
            "687022d1ee5345dc8387594a58c55d15",
            "17e43e9328804759a369d15be10e60b1",
            "f46857b94fa44aa18b6ef4e4913a960e",
            "265e133a2d21411790284d911d76291b",
            "4953657b85e94ad7a2817befbe5d2177",
            "8be342eab3d9490088c04893da0a303a",
            "f0fdebf38e4c4c3c957ed9b2b7a65e94",
            "92beb10bc6dc4b43a478bfe1416952cb",
            "85cef7a821a948ddbccee208caa0b121",
            "092c3a2615424a88b864b1dd7ccf4ee4",
            "1022b6024849445a8e2d5fccb4e5b8d2",
            "33162cc847e742ec8eb2454eb9880be8",
            "549173e0483d4b55bf0c4c70277fb798",
            "fa4f60d329794914af0584261ed672aa",
            "705eba48198440378d46b55e6f459c14",
            "3886ce308ce04387b857f093c4f187a0",
            "dfea82ff706540e4a3280be9ebcbc915",
            "ec8106a9e9884c0099524a2d52af965b",
            "0a2d170c167942f98767eca3cf7f8272",
            "736dabdd22924482bb11b18e3abd0d6f",
            "04a0a69dc557463c8d0365abbe30b7fb",
            "0593587b7fa14099b457e19b1ee091c2",
            "b7705d0e1c20408ba75f847d48a62c41",
            "eb7baa9634e044b6a29bf6bf6867e984",
            "7517bbe9660a494cb36c79e5fcd87ab5",
            "9d3925093ffa4a5eaaf6b0ca514f87fe",
            "4ae69140ea604fdb83c92ca0eb8fb982",
            "698328bdf71e49d5acff3c7014eed5c8",
            "ead6739019ed4a8e8a148f53e8eef97e",
            "7a3b7d87e0ef4c259a7b6d290cc0126f",
            "11bc9736b5d349d5b2451c5a6087ffd0",
            "0150b07e80484a29a0600aa1b6512ed6",
            "bda3042d4ccd46828c6f090fb3637b3c"
          ]
        },
        "outputId": "479c9533-228f-4025-ae51-4dcf9f73da0f"
      },
      "outputs": [
        {
          "output_type": "stream",
          "name": "stderr",
          "text": [
            "The cache for model files in Transformers v4.22.0 has been updated. Migrating your old cache. This is a one-time only operation. You can interrupt this and resume the migration later on by calling `transformers.utils.move_cache()`.\n"
          ]
        },
        {
          "output_type": "display_data",
          "data": {
            "text/plain": [
              "0it [00:00, ?it/s]"
            ],
            "application/vnd.jupyter.widget-view+json": {
              "version_major": 2,
              "version_minor": 0,
              "model_id": "1763f3a2b39a40b79033a1538c0afe6e"
            }
          },
          "metadata": {}
        },
        {
          "output_type": "display_data",
          "data": {
            "text/plain": [
              "preprocessor_config.json:   0%|          | 0.00/433 [00:00<?, ?B/s]"
            ],
            "application/vnd.jupyter.widget-view+json": {
              "version_major": 2,
              "version_minor": 0,
              "model_id": "20336dc2a8c64cfe8330b23c18b97bf9"
            }
          },
          "metadata": {}
        },
        {
          "output_type": "display_data",
          "data": {
            "text/plain": [
              "tokenizer_config.json:   0%|          | 0.00/232 [00:00<?, ?B/s]"
            ],
            "application/vnd.jupyter.widget-view+json": {
              "version_major": 2,
              "version_minor": 0,
              "model_id": "f4a1441061484b729e4e5c1fdae8d303"
            }
          },
          "metadata": {}
        },
        {
          "output_type": "display_data",
          "data": {
            "text/plain": [
              "spm_char.model:   0%|          | 0.00/238k [00:00<?, ?B/s]"
            ],
            "application/vnd.jupyter.widget-view+json": {
              "version_major": 2,
              "version_minor": 0,
              "model_id": "687022d1ee5345dc8387594a58c55d15"
            }
          },
          "metadata": {}
        },
        {
          "output_type": "display_data",
          "data": {
            "text/plain": [
              "added_tokens.json:   0%|          | 0.00/40.0 [00:00<?, ?B/s]"
            ],
            "application/vnd.jupyter.widget-view+json": {
              "version_major": 2,
              "version_minor": 0,
              "model_id": "33162cc847e742ec8eb2454eb9880be8"
            }
          },
          "metadata": {}
        },
        {
          "output_type": "display_data",
          "data": {
            "text/plain": [
              "special_tokens_map.json:   0%|          | 0.00/234 [00:00<?, ?B/s]"
            ],
            "application/vnd.jupyter.widget-view+json": {
              "version_major": 2,
              "version_minor": 0,
              "model_id": "b7705d0e1c20408ba75f847d48a62c41"
            }
          },
          "metadata": {}
        }
      ],
      "source": [
        "from transformers import SpeechT5Processor\n",
        "\n",
        "checkpoint = \"microsoft/speecht5_tts\"\n",
        "processor = SpeechT5Processor.from_pretrained(checkpoint)"
      ]
    },
    {
      "cell_type": "markdown",
      "metadata": {
        "id": "HwwMFwjybQsA"
      },
      "source": [
        "### Text cleanup for SpeechT5 tokenization"
      ]
    },
    {
      "cell_type": "code",
      "execution_count": null,
      "metadata": {
        "id": "twXv2SslbQsA"
      },
      "outputs": [],
      "source": [
        "tokenizer = processor.tokenizer"
      ]
    },
    {
      "cell_type": "code",
      "execution_count": null,
      "metadata": {
        "id": "ppSwAIksbQsB",
        "colab": {
          "base_uri": "https://localhost:8080/",
          "height": 49,
          "referenced_widgets": [
            "c60f849b028e4c9dad5e699fb1b00f2b",
            "b70bbb84d0d84cf1a7dea39ed5edb9de",
            "0e85e5b9c0d345cea49b854fbdd5eb57",
            "5ac3754af39b4e8e8b2f1ac8dad94f85",
            "1785c69a7417469dae532502ec731687",
            "c2d306ae913d4c5b9c369b976f36f74c",
            "0bb5c00d8356434d981eb7215ebb129b",
            "f3a19a22da734298b687c420081c1796",
            "91d5a4cf771c45ef883e684b45f59483",
            "83078eaaeb7f44d089f81ec7e7660bba",
            "28c2df5a985541bbbdd72cba1e24f2a1"
          ]
        },
        "outputId": "1530cb42-7df8-48a6-8612-f08dbef835ae"
      },
      "outputs": [
        {
          "output_type": "display_data",
          "data": {
            "text/plain": [
              "Map:   0%|          | 0/1000 [00:00<?, ? examples/s]"
            ],
            "application/vnd.jupyter.widget-view+json": {
              "version_major": 2,
              "version_minor": 0,
              "model_id": "c60f849b028e4c9dad5e699fb1b00f2b"
            }
          },
          "metadata": {}
        }
      ],
      "source": [
        "def extract_all_chars(batch):\n",
        "    all_text = \" \".join(batch[\"normalized_text\"])\n",
        "    vocab = list(set(all_text))\n",
        "    return {\"vocab\": [vocab], \"all_text\": [all_text]}\n",
        "\n",
        "\n",
        "vocabs = dataset.map(\n",
        "    extract_all_chars,\n",
        "    batched=True,\n",
        "    batch_size=-1,\n",
        "    keep_in_memory=True,\n",
        "    remove_columns=dataset.column_names,\n",
        ")\n",
        "\n",
        "dataset_vocab = set(vocabs[\"vocab\"][0])\n",
        "tokenizer_vocab = {k for k, _ in tokenizer.get_vocab().items()}"
      ]
    },
    {
      "cell_type": "code",
      "execution_count": null,
      "metadata": {
        "id": "b7RIDy1dbQsB",
        "colab": {
          "base_uri": "https://localhost:8080/"
        },
        "outputId": "f2b8f03a-c13d-44aa-a1ca-1a151571aa7b"
      },
      "outputs": [
        {
          "output_type": "execute_result",
          "data": {
            "text/plain": [
              "{' '}"
            ]
          },
          "metadata": {},
          "execution_count": 9
        }
      ],
      "source": [
        "dataset_vocab - tokenizer_vocab"
      ]
    },
    {
      "cell_type": "markdown",
      "metadata": {
        "id": "BvoQC6MQbQsB"
      },
      "source": [
        "Spaces are already replaced by `▁` in the tokenizer and don't need to be handled separately."
      ]
    },
    {
      "cell_type": "markdown",
      "metadata": {
        "id": "6ZerTH_ibQsB"
      },
      "source": [
        "Now that you have dealt with special characters in the text, it's time to shift focus to the audio data."
      ]
    },
    {
      "cell_type": "markdown",
      "metadata": {
        "id": "zLTRQN31bQsC"
      },
      "source": [
        "### Speakers"
      ]
    },
    {
      "cell_type": "code",
      "execution_count": null,
      "metadata": {
        "id": "_85iywRqbQsC"
      },
      "outputs": [],
      "source": [
        "from collections import defaultdict\n",
        "\n",
        "speaker_counts = defaultdict(int)\n",
        "\n",
        "for speaker_id in dataset[\"speaker_id\"]:\n",
        "    speaker_counts[speaker_id] += 1"
      ]
    },
    {
      "cell_type": "markdown",
      "metadata": {
        "id": "BZs6lAv9bQsC"
      },
      "source": [
        "By plotting a histogram you can get a sense of how much data there is for each speaker."
      ]
    },
    {
      "cell_type": "code",
      "execution_count": null,
      "metadata": {
        "id": "S6ygHaZzbQsC",
        "colab": {
          "base_uri": "https://localhost:8080/",
          "height": 449
        },
        "outputId": "fac18228-5a6d-4f64-bb26-ef4e5a1fa7d6"
      },
      "outputs": [
        {
          "output_type": "display_data",
          "data": {
            "text/plain": [
              "<Figure size 640x480 with 1 Axes>"
            ],
            "image/png": "[encoded data removed]"
          },
          "metadata": {}
        }
      ],
      "source": [
        "import matplotlib.pyplot as plt\n",
        "\n",
        "plt.figure()\n",
        "plt.hist(speaker_counts.values(), bins=20)\n",
        "plt.ylabel(\"Speakers\")\n",
        "plt.xlabel(\"Examples\")\n",
        "plt.show()"
      ]
    },
    {
      "cell_type": "markdown",
      "metadata": {
        "id": "12m9BcPsbQsC"
      },
      "source": [
        "Let's check how many speakers remain:"
      ]
    },
    {
      "cell_type": "code",
      "execution_count": null,
      "metadata": {
        "id": "pYG-d5qAbQsC",
        "colab": {
          "base_uri": "https://localhost:8080/"
        },
        "outputId": "d7c6dfbd-049c-4e8e-c078-09da939a42f4"
      },
      "outputs": [
        {
          "output_type": "execute_result",
          "data": {
            "text/plain": [
              "251"
            ]
          },
          "metadata": {},
          "execution_count": 12
        }
      ],
      "source": [
        "len(set(dataset[\"speaker_id\"]))"
      ]
    },
    {
      "cell_type": "markdown",
      "metadata": {
        "id": "W99hU0M6bQsD"
      },
      "source": [
        "Let's see how many examples are left:"
      ]
    },
    {
      "cell_type": "code",
      "execution_count": null,
      "metadata": {
        "id": "-sworqBTbQsD",
        "colab": {
          "base_uri": "https://localhost:8080/"
        },
        "outputId": "fa955bfe-f972-4fac-d229-f7695f37ce04"
      },
      "outputs": [
        {
          "output_type": "execute_result",
          "data": {
            "text/plain": [
              "1000"
            ]
          },
          "metadata": {},
          "execution_count": 13
        }
      ],
      "source": [
        "len(dataset)"
      ]
    },
    {
      "cell_type": "markdown",
      "metadata": {
        "id": "zuveSyCEbQsD"
      },
      "source": [
        "### Speaker embeddings"
      ]
    },
    {
      "cell_type": "code",
      "execution_count": null,
      "metadata": {
        "id": "Z-Y8UxPLbQsD",
        "colab": {
          "base_uri": "https://localhost:8080/",
          "height": 343,
          "referenced_widgets": [
            "c2ac87baf3444ed0ad43491eaf0c327d",
            "b8981f89394c498d92f99d1f6a0d1f45",
            "b2bdd144f89845ba8ba1c6ff7f788be7",
            "18935eae462d4b0ba2d05c1ddbba967a",
            "d01b7d9c979c41d497d3b59012cf02a1",
            "a07ba035602543b5a634a8990765e7dd",
            "c8b6e9c015af4336b378c2d5a8966c89",
            "d25d5304a17d4029b5b0ffacb4788fa7",
            "d2a84d068a9b45bea628a43289465de6",
            "bc95b60b75fb4ba780a963c310febdb6",
            "29c6ce8fb2e3417ebca701acc6300cce",
            "63c9ae4df3ca4f2bba447262a51ab583",
            "ad417312dae04ffe9f2b831e056f7e3f",
            "43752dfc791a4050b5cd4599f0cd8a97",
            "bff25843ca8b457897053761f301f546",
            "446faf7c41194a9b9393625a790805aa",
            "9e829dd4c6874691bdacc9b7d2fe3d3a",
            "416eeea9a89f4a8c8e0830152ff9bbee",
            "5c714262e8ea445bb727611022bfc236",
            "622e4be91c874c9c9cba810387d93108",
            "3416a0368b9d4ea69fc6c8b40fbebdee",
            "92017722e53647aab29630ab315143b2",
            "b47b7f93e8ab49d1b35c31af900e8e8b",
            "faa627afcd4b432fb7805fb7ab0f73ec",
            "22b621865b444e0d81a1ea854a153c45",
            "c6105e4d16944880aed34fb79db4a4a7",
            "faa1bd1920444846a4cf673f1dd0bb7b",
            "6768b903fb18482b9f8a2300f0a297d2",
            "de97cbd3e7094bfb8d74c67d5b581945",
            "fbf435b7c38343c897e9b851afa5e96f",
            "ac390e108d184e8fbfacf6bd1ab0ac4a",
            "953d3a2195cc4b4b8af6869a2f6f17eb",
            "488a00eaffe941ccb0ce5b702288c4c7",
            "6d03f5548ed44acd85a5c9fa2102738f",
            "a2467976eac14bde86f35a905e9ff3c1",
            "8f3298d40bf247c596dd376ec05d3cb6",
            "6f3bf60ec3ae4503b0e0786bd424e2cf",
            "f1e468dcb6d04dd8a641a4542e51516a",
            "bd403e63ff77448c8b4ff04dc0eac413",
            "7ee59b83afc74bc696f1dee8f01afd1a",
            "10760be6bc794f549ed141a9edbc9bc9",
            "e8752a3b6d8c4cd583a119b1c24c0de9",
            "8b603550620c4a4e90bb8b26d026153d",
            "73e3bec673834edfb6a24c83595bd748",
            "d476493e99334aa09912ca90903c46d3",
            "a2522b65ab7c4468b5e2732b89583c35",
            "04bccf103e514802a1868c7c8b2e70bf",
            "1346174578f9486eb185b2a267119a5f",
            "1f8cac2d2c7a465db455e2f0e38fee32",
            "7cbd1142d5f841608609b8bcf4d30984",
            "d7aef0f249474b879ff3928b74c66c27",
            "3e038fef5fee45e688ff04326fcc5c97",
            "b4add5bb7baf42a1b45e85c1cb9801f0",
            "59aceb4883c34b29b7652aeecc27c339",
            "6eba4532b8184ef69c481f4093a9d3f1"
          ]
        },
        "outputId": "2a880da3-55d7-4e72-da47-aac540b8b433"
      },
      "outputs": [
        {
          "output_type": "stream",
          "name": "stderr",
          "text": [
            "<ipython-input-14-f28baad2ea60>:3: UserWarning: Module 'speechbrain.pretrained' was deprecated, redirecting to 'speechbrain.inference'. Please update your script. This is a change from SpeechBrain 1.0. See: https://github.com/speechbrain/speechbrain/releases/tag/v1.0.0\n",
            "  from speechbrain.pretrained import EncoderClassifier\n"
          ]
        },
        {
          "output_type": "display_data",
          "data": {
            "text/plain": [
              "hyperparams.yaml:   0%|          | 0.00/2.04k [00:00<?, ?B/s]"
            ],
            "application/vnd.jupyter.widget-view+json": {
              "version_major": 2,
              "version_minor": 0,
              "model_id": "c2ac87baf3444ed0ad43491eaf0c327d"
            }
          },
          "metadata": {}
        },
        {
          "output_type": "stream",
          "name": "stderr",
          "text": [
            "/usr/local/lib/python3.10/dist-packages/speechbrain/utils/autocast.py:68: FutureWarning: `torch.cuda.amp.custom_fwd(args...)` is deprecated. Please use `torch.amp.custom_fwd(args..., device_type='cuda')` instead.\n",
            "  wrapped_fwd = torch.cuda.amp.custom_fwd(fwd, cast_inputs=cast_inputs)\n"
          ]
        },
        {
          "output_type": "display_data",
          "data": {
            "text/plain": [
              "embedding_model.ckpt:   0%|          | 0.00/16.9M [00:00<?, ?B/s]"
            ],
            "application/vnd.jupyter.widget-view+json": {
              "version_major": 2,
              "version_minor": 0,
              "model_id": "63c9ae4df3ca4f2bba447262a51ab583"
            }
          },
          "metadata": {}
        },
        {
          "output_type": "display_data",
          "data": {
            "text/plain": [
              "mean_var_norm_emb.ckpt:   0%|          | 0.00/3.20k [00:00<?, ?B/s]"
            ],
            "application/vnd.jupyter.widget-view+json": {
              "version_major": 2,
              "version_minor": 0,
              "model_id": "b47b7f93e8ab49d1b35c31af900e8e8b"
            }
          },
          "metadata": {}
        },
        {
          "output_type": "display_data",
          "data": {
            "text/plain": [
              "classifier.ckpt:   0%|          | 0.00/15.9M [00:00<?, ?B/s]"
            ],
            "application/vnd.jupyter.widget-view+json": {
              "version_major": 2,
              "version_minor": 0,
              "model_id": "6d03f5548ed44acd85a5c9fa2102738f"
            }
          },
          "metadata": {}
        },
        {
          "output_type": "display_data",
          "data": {
            "text/plain": [
              "label_encoder.txt:   0%|          | 0.00/129k [00:00<?, ?B/s]"
            ],
            "application/vnd.jupyter.widget-view+json": {
              "version_major": 2,
              "version_minor": 0,
              "model_id": "d476493e99334aa09912ca90903c46d3"
            }
          },
          "metadata": {}
        },
        {
          "output_type": "stream",
          "name": "stderr",
          "text": [
            "/usr/local/lib/python3.10/dist-packages/speechbrain/utils/checkpoints.py:200: FutureWarning: You are using `torch.load` with `weights_only=False` (the current default value), which uses the default pickle module implicitly. It is possible to construct malicious pickle data which will execute arbitrary code during unpickling (See https://github.com/pytorch/pytorch/blob/main/SECURITY.md#untrusted-models for more details). In a future release, the default value for `weights_only` will be flipped to `True`. This limits the functions that could be executed during unpickling. Arbitrary objects will no longer be allowed to be loaded via this mode unless they are explicitly allowlisted by the user via `torch.serialization.add_safe_globals`. We recommend you start setting `weights_only=True` for any use case where you don't have full control of the loaded file. Please open an issue on GitHub for any issues related to this experimental feature.\n",
            "  state_dict = torch.load(path, map_location=device)\n",
            "/usr/local/lib/python3.10/dist-packages/speechbrain/processing/features.py:1311: FutureWarning: You are using `torch.load` with `weights_only=False` (the current default value), which uses the default pickle module implicitly. It is possible to construct malicious pickle data which will execute arbitrary code during unpickling (See https://github.com/pytorch/pytorch/blob/main/SECURITY.md#untrusted-models for more details). In a future release, the default value for `weights_only` will be flipped to `True`. This limits the functions that could be executed during unpickling. Arbitrary objects will no longer be allowed to be loaded via this mode unless they are explicitly allowlisted by the user via `torch.serialization.add_safe_globals`. We recommend you start setting `weights_only=True` for any use case where you don't have full control of the loaded file. Please open an issue on GitHub for any issues related to this experimental feature.\n",
            "  stats = torch.load(path, map_location=device)\n"
          ]
        }
      ],
      "source": [
        "import os\n",
        "import torch\n",
        "from speechbrain.pretrained import EncoderClassifier\n",
        "\n",
        "spk_model_name = \"speechbrain/spkrec-xvect-voxceleb\"\n",
        "\n",
        "device = \"cuda\" if torch.cuda.is_available() else \"cpu\"\n",
        "speaker_model = EncoderClassifier.from_hparams(\n",
        "    source=spk_model_name,\n",
        "    run_opts={\"device\": device},\n",
        "    savedir=os.path.join(\"/tmp\", spk_model_name),\n",
        ")\n",
        "\n",
        "\n",
        "def create_speaker_embedding(waveform):\n",
        "    with torch.no_grad():\n",
        "        speaker_embeddings = speaker_model.encode_batch(torch.tensor(waveform))\n",
        "        speaker_embeddings = torch.nn.functional.normalize(speaker_embeddings, dim=2)\n",
        "        speaker_embeddings = speaker_embeddings.squeeze().cpu().numpy()\n",
        "    return speaker_embeddings"
      ]
    },
    {
      "cell_type": "markdown",
      "metadata": {
        "id": "WJI97E7WbQsD"
      },
      "source": [
        "### Processing the dataset"
      ]
    },
    {
      "cell_type": "code",
      "execution_count": null,
      "metadata": {
        "id": "AvLuRIMxbQsH"
      },
      "outputs": [],
      "source": [
        "def prepare_dataset(example):\n",
        "    audio = example[\"audio\"]\n",
        "\n",
        "    example = processor(\n",
        "        text=example[\"normalized_text\"],\n",
        "        audio_target=audio[\"array\"],\n",
        "        sampling_rate=audio[\"sampling_rate\"],\n",
        "        return_attention_mask=False,\n",
        "    )\n",
        "\n",
        "    # strip off the batch dimension\n",
        "    example[\"labels\"] = example[\"labels\"][0]\n",
        "\n",
        "    # use SpeechBrain to obtain x-vector\n",
        "    example[\"speaker_embeddings\"] = create_speaker_embedding(audio[\"array\"])\n",
        "\n",
        "    return example"
      ]
    },
    {
      "cell_type": "markdown",
      "metadata": {
        "id": "ofptVYsAbQsH"
      },
      "source": [
        "Verify the processing is correct by looking at a single example:"
      ]
    },
    {
      "cell_type": "code",
      "execution_count": null,
      "metadata": {
        "id": "uIUnUkWlbQsH",
        "colab": {
          "base_uri": "https://localhost:8080/"
        },
        "outputId": "1f62ffdb-8472-45d6-b237-a622a235f56c"
      },
      "outputs": [
        {
          "output_type": "execute_result",
          "data": {
            "text/plain": [
              "['input_ids', 'labels', 'speaker_embeddings']"
            ]
          },
          "metadata": {},
          "execution_count": 16
        }
      ],
      "source": [
        "processed_example = prepare_dataset(dataset[0])\n",
        "list(processed_example.keys())"
      ]
    },
    {
      "cell_type": "markdown",
      "metadata": {
        "id": "zncVUC_CbQsH"
      },
      "source": [
        "Speaker embeddings should be a 512-element vector:"
      ]
    },
    {
      "cell_type": "code",
      "execution_count": null,
      "metadata": {
        "id": "EAVI62C8bQsH",
        "colab": {
          "base_uri": "https://localhost:8080/"
        },
        "outputId": "4fb725ef-bdd0-4c90-8050-36cd9c2c3cf1"
      },
      "outputs": [
        {
          "output_type": "execute_result",
          "data": {
            "text/plain": [
              "(512,)"
            ]
          },
          "metadata": {},
          "execution_count": 17
        }
      ],
      "source": [
        "processed_example[\"speaker_embeddings\"].shape"
      ]
    },
    {
      "cell_type": "markdown",
      "metadata": {
        "id": "MdwWYu-SbQsI"
      },
      "source": [
        "The labels should be a log-mel spectrogram with 80 mel bins."
      ]
    },
    {
      "cell_type": "code",
      "execution_count": null,
      "metadata": {
        "id": "l41JxzyqbQsI",
        "colab": {
          "base_uri": "https://localhost:8080/",
          "height": 141
        },
        "outputId": "19626708-368d-4bb2-b001-bd71ca258a95"
      },
      "outputs": [
        {
          "output_type": "display_data",
          "data": {
            "text/plain": [
              "<Figure size 640x480 with 1 Axes>"
            ],
            "image/png": "[encoded data removed]"
          },
          "metadata": {}
        }
      ],
      "source": [
        "import matplotlib.pyplot as plt\n",
        "\n",
        "plt.figure()\n",
        "plt.imshow(processed_example[\"labels\"].T)\n",
        "plt.show()"
      ]
    },
    {
      "cell_type": "code",
      "execution_count": null,
      "metadata": {
        "id": "GRHR1U2PbQsI",
        "colab": {
          "base_uri": "https://localhost:8080/",
          "height": 49,
          "referenced_widgets": [
            "ee6b518d95b349c192b624493dd4e921",
            "4d30bcf9187e4ff38e1bb76e470efb13",
            "0f1fabcd56d548a98bf4f2f7c45871ca",
            "308c1c78745447fdb2717f6ccf0fce1e",
            "46655286bc3a4208ae277435844ca258",
            "f52bb6c24d9b4289b21ac4687884c1ac",
            "bbca39c36a394378826d36b62b45e9a8",
            "ce48bfd7c4564886bcaabe1da3a479e7",
            "7e6f8186ff9d4da5a211e56e96767fdf",
            "1af2b728962640e0bdf372ae42f8ac91",
            "40894bf3c3334b12bf8369a5842bc613"
          ]
        },
        "outputId": "159e782e-13a7-45c0-e3e7-3a7e622fcd1f"
      },
      "outputs": [
        {
          "output_type": "display_data",
          "data": {
            "text/plain": [
              "Map:   0%|          | 0/1000 [00:00<?, ? examples/s]"
            ],
            "application/vnd.jupyter.widget-view+json": {
              "version_major": 2,
              "version_minor": 0,
              "model_id": "ee6b518d95b349c192b624493dd4e921"
            }
          },
          "metadata": {}
        }
      ],
      "source": [
        "dataset = dataset.map(prepare_dataset, remove_columns=dataset.column_names)"
      ]
    },
    {
      "cell_type": "code",
      "execution_count": null,
      "metadata": {
        "id": "v9iS36ZNbQsI",
        "colab": {
          "base_uri": "https://localhost:8080/",
          "height": 67,
          "referenced_widgets": [
            "157758b843ea49b09b6f6219286b62a5",
            "059f4d4252a944c0abe99a88db7c78a3",
            "f6cb4a25a8054d2bacdc48e6792f23cb",
            "c389187e38a74deb83b54e05ccd5e97a",
            "2f133f9a2dbb44e499e47f603a653440",
            "ed11b8289c2e482cb02af975925228d5",
            "270faab0613f40ff88704bb80a97b3d4",
            "8ef6ee9b55bf4895970a971abd163c4a",
            "fef538e761774c7ba724d94f0f1ba491",
            "c7f4dc21a3cb4b41b24c669afe1d64c4",
            "fc9e7b04e99d4ae684516ed1078795f1"
          ]
        },
        "outputId": "fef989ea-bc8f-44fa-bc57-644cf1378830"
      },
      "outputs": [
        {
          "output_type": "display_data",
          "data": {
            "text/plain": [
              "Filter:   0%|          | 0/1000 [00:00<?, ? examples/s]"
            ],
            "application/vnd.jupyter.widget-view+json": {
              "version_major": 2,
              "version_minor": 0,
              "model_id": "157758b843ea49b09b6f6219286b62a5"
            }
          },
          "metadata": {}
        },
        {
          "output_type": "execute_result",
          "data": {
            "text/plain": [
              "743"
            ]
          },
          "metadata": {},
          "execution_count": 20
        }
      ],
      "source": [
        "def is_not_too_long(input_ids):\n",
        "    input_length = len(input_ids)\n",
        "    return input_length < 200\n",
        "\n",
        "\n",
        "dataset = dataset.filter(is_not_too_long, input_columns=[\"input_ids\"])\n",
        "len(dataset)"
      ]
    },
    {
      "cell_type": "markdown",
      "metadata": {
        "id": "bkt2rYFNbQsJ"
      },
      "source": [
        "Next, create a basic train/test split:"
      ]
    },
    {
      "cell_type": "code",
      "execution_count": null,
      "metadata": {
        "id": "4tnBFRtkNAI6",
        "colab": {
          "base_uri": "https://localhost:8080/"
        },
        "outputId": "1b275916-46df-4c23-ea74-9b94fd7e0fb7"
      },
      "outputs": [
        {
          "output_type": "execute_result",
          "data": {
            "text/plain": [
              "{'train': Dataset({\n",
              "     features: ['input_ids', 'labels', 'speaker_embeddings'],\n",
              "     num_rows: 593\n",
              " }),\n",
              " 'val': Dataset({\n",
              "     features: ['input_ids', 'labels', 'speaker_embeddings'],\n",
              "     num_rows: 75\n",
              " }),\n",
              " 'test': Dataset({\n",
              "     features: ['input_ids', 'labels', 'speaker_embeddings'],\n",
              "     num_rows: 75\n",
              " })}"
            ]
          },
          "metadata": {},
          "execution_count": 21
        }
      ],
      "source": [
        "# Step 1: Split the dataset into train+val (90%) and test (10%)\n",
        "train_val_dataset = dataset.train_test_split(test_size=0.1)\n",
        "\n",
        "# Step 2: Split train+val into train (80%) and val (10% of total)\n",
        "train_val_split = train_val_dataset['train'].train_test_split(test_size=0.1111)  # Ensures ~10% of total\n",
        "\n",
        "# Final Step: Reassign the splits to the `dataset` variable\n",
        "dataset = {\n",
        "    'train': train_val_split['train'],\n",
        "    'val': train_val_split['test'],\n",
        "    'test': train_val_dataset['test']\n",
        "}\n",
        "\n",
        "dataset"
      ]
    },
    {
      "cell_type": "markdown",
      "metadata": {
        "id": "EVrpRWesbQsJ"
      },
      "source": [
        "### Data collator"
      ]
    },
    {
      "cell_type": "code",
      "execution_count": null,
      "metadata": {
        "id": "v6__0ZynbQsJ"
      },
      "outputs": [],
      "source": [
        "from dataclasses import dataclass\n",
        "from typing import Any, Dict, List, Union\n",
        "\n",
        "\n",
        "@dataclass\n",
        "class TTSDataCollatorWithPadding:\n",
        "    processor: Any\n",
        "\n",
        "    def __call__(self, features: List[Dict[str, Union[List[int], torch.Tensor]]]) -> Dict[str, torch.Tensor]:\n",
        "        input_ids = [{\"input_ids\": feature[\"input_ids\"]} for feature in features]\n",
        "        label_features = [{\"input_values\": feature[\"labels\"]} for feature in features]\n",
        "        speaker_features = [feature[\"speaker_embeddings\"] for feature in features]\n",
        "\n",
        "        # collate the inputs and targets into a batch\n",
        "        batch = processor.pad(input_ids=input_ids, labels=label_features, return_tensors=\"pt\")\n",
        "\n",
        "        # replace padding with -100 to ignore loss correctly\n",
        "        batch[\"labels\"] = batch[\"labels\"].masked_fill(batch.decoder_attention_mask.unsqueeze(-1).ne(1), -100)\n",
        "\n",
        "        # not used during fine-tuning\n",
        "        del batch[\"decoder_attention_mask\"]\n",
        "\n",
        "        # round down target lengths to multiple of reduction factor\n",
        "        if model.config.reduction_factor > 1:\n",
        "            target_lengths = torch.tensor([len(feature[\"input_values\"]) for feature in label_features])\n",
        "            target_lengths = target_lengths.new(\n",
        "                [length - length % model.config.reduction_factor for length in target_lengths]\n",
        "            )\n",
        "            max_length = max(target_lengths)\n",
        "            batch[\"labels\"] = batch[\"labels\"][:, :max_length]\n",
        "\n",
        "        # also add in the speaker embeddings\n",
        "        batch[\"speaker_embeddings\"] = torch.tensor(speaker_features)\n",
        "\n",
        "        return batch"
      ]
    },
    {
      "cell_type": "code",
      "execution_count": null,
      "metadata": {
        "id": "G4WfW4HfbQsJ"
      },
      "outputs": [],
      "source": [
        "data_collator = TTSDataCollatorWithPadding(processor=processor)"
      ]
    },
    {
      "cell_type": "markdown",
      "metadata": {
        "id": "bo_hOa_sbQsK"
      },
      "source": [
        "## Train the model"
      ]
    },
    {
      "cell_type": "markdown",
      "metadata": {
        "id": "ShNz3COKbQsK"
      },
      "source": [
        "Load the pre-trained model from the same checkpoint as you used for loading the processor:"
      ]
    },
    {
      "cell_type": "code",
      "execution_count": null,
      "metadata": {
        "id": "QyqbnIWtbQsK",
        "colab": {
          "base_uri": "https://localhost:8080/",
          "height": 81,
          "referenced_widgets": [
            "edebdf4ae421435ebde7d93528c0d6df",
            "32652a39b29e4f51a9c0c16edcaf4b16",
            "e705952c6edc4a53af0fab1bff4191ef",
            "f76fff75480c4001968e74bdeca3a626",
            "2d7b2888b61d44ed89b12eed38a68152",
            "12d716d358bf4f43898001898db271ea",
            "e0171d5dff0040a09456715406f4ce24",
            "18ce648bc53d4736a4af4f702f07a199",
            "08def8c6590844cbaf87dc68e5680fb7",
            "f15c5803302a4404b835bc26c642a63d",
            "292055846e954fdc91b7872f6df8ae58",
            "7f0397f7767a474db8b2fea84ae3a3d8",
            "62618de0a4f749c39fb890ef47b32585",
            "3ecd21fbf5a443a9bcac5d21a7d43a72",
            "290de5d3f174485b98917cf418ea6eb9",
            "90ea70b5c693448dadd00123b3aaa762",
            "6e6b8c6b480b40e49399abe83ab7336e",
            "a538579caddb4c84b1dc5936b1e898fb",
            "9464792db3294b48b8842384fd0517a9",
            "e9a5fcaaa4be4c1ba3c275efe45f7002",
            "b60c550289044e7097097294de459f3a",
            "796c7acdb11242e7bacbaf3bba8a2afa"
          ]
        },
        "outputId": "577a5a7e-cb31-4981-b473-4c9378f3d950"
      },
      "outputs": [
        {
          "output_type": "display_data",
          "data": {
            "text/plain": [
              "config.json:   0%|          | 0.00/2.06k [00:00<?, ?B/s]"
            ],
            "application/vnd.jupyter.widget-view+json": {
              "version_major": 2,
              "version_minor": 0,
              "model_id": "edebdf4ae421435ebde7d93528c0d6df"
            }
          },
          "metadata": {}
        },
        {
          "output_type": "display_data",
          "data": {
            "text/plain": [
              "pytorch_model.bin:   0%|          | 0.00/585M [00:00<?, ?B/s]"
            ],
            "application/vnd.jupyter.widget-view+json": {
              "version_major": 2,
              "version_minor": 0,
              "model_id": "7f0397f7767a474db8b2fea84ae3a3d8"
            }
          },
          "metadata": {}
        }
      ],
      "source": [
        "from transformers import SpeechT5ForTextToSpeech\n",
        "\n",
        "model = SpeechT5ForTextToSpeech.from_pretrained(checkpoint)"
      ]
    },
    {
      "cell_type": "markdown",
      "metadata": {
        "id": "HoMGgYHUbQsK"
      },
      "source": [
        "The `use_cache=True` option is incompatible with gradient checkpointing. Disable it for training."
      ]
    },
    {
      "cell_type": "code",
      "execution_count": null,
      "metadata": {
        "id": "DPWpMPl1bQsK"
      },
      "outputs": [],
      "source": [
        "model.config.use_cache = False"
      ]
    },
    {
      "cell_type": "code",
      "execution_count": null,
      "metadata": {
        "id": "mTbEALlaM6mM",
        "colab": {
          "base_uri": "https://localhost:8080/"
        },
        "outputId": "b2a4a702-999d-4a55-da5d-72e6892f8014"
      },
      "outputs": [
        {
          "output_type": "execute_result",
          "data": {
            "text/plain": [
              "{'train': Dataset({\n",
              "     features: ['input_ids', 'labels', 'speaker_embeddings'],\n",
              "     num_rows: 593\n",
              " }),\n",
              " 'val': Dataset({\n",
              "     features: ['input_ids', 'labels', 'speaker_embeddings'],\n",
              "     num_rows: 75\n",
              " }),\n",
              " 'test': Dataset({\n",
              "     features: ['input_ids', 'labels', 'speaker_embeddings'],\n",
              "     num_rows: 75\n",
              " })}"
            ]
          },
          "metadata": {},
          "execution_count": 26
        }
      ],
      "source": [
        "dataset"
      ]
    },
    {
      "cell_type": "code",
      "execution_count": null,
      "metadata": {
        "id": "kgHx31xr7zfE"
      },
      "outputs": [],
      "source": []
    },
    {
      "cell_type": "code",
      "execution_count": null,
      "metadata": {
        "id": "87U1o6VcbQsK",
        "colab": {
          "base_uri": "https://localhost:8080/",
          "height": 427
        },
        "outputId": "227889a1-ad43-4c6f-d3e2-912b633c7ecd"
      },
      "outputs": [
        {
          "output_type": "stream",
          "name": "stdout",
          "text": [
            "Using device: cuda\n"
          ]
        },
        {
          "output_type": "stream",
          "name": "stderr",
          "text": [
            "/usr/local/lib/python3.10/dist-packages/torch/utils/data/dataloader.py:617: UserWarning: This DataLoader will create 4 worker processes in total. Our suggested max number of worker in current system is 2, which is smaller than what this DataLoader is going to create. Please be aware that excessive worker creation might get DataLoader running slow or even freeze, lower the worker number to avoid potential slowness/freeze if necessary.\n",
            "  warnings.warn(\n"
          ]
        },
        {
          "output_type": "display_data",
          "data": {
            "text/plain": [
              "<IPython.core.display.HTML object>"
            ],
            "text/html": [
              "\n",
              "    <div>\n",
              "      \n",
              "      <progress value='54' max='54' style='width:300px; height:20px; vertical-align: middle;'></progress>\n",
              "      [54/54 02:14, Epoch 2/3]\n",
              "    </div>\n",
              "    <table border=\"1\" class=\"dataframe\">\n",
              "  <thead>\n",
              " <tr style=\"text-align: left;\">\n",
              "      <th>Epoch</th>\n",
              "      <th>Training Loss</th>\n",
              "      <th>Validation Loss</th>\n",
              "    </tr>\n",
              "  </thead>\n",
              "  <tbody>\n",
              "    <tr>\n",
              "      <td>0</td>\n",
              "      <td>3.251600</td>\n",
              "      <td>0.676817</td>\n",
              "    </tr>\n",
              "    <tr>\n",
              "      <td>1</td>\n",
              "      <td>3.017700</td>\n",
              "      <td>0.664700</td>\n",
              "    </tr>\n",
              "    <tr>\n",
              "      <td>2</td>\n",
              "      <td>3.014100</td>\n",
              "      <td>0.652041</td>\n",
              "    </tr>\n",
              "  </tbody>\n",
              "</table><p>"
            ]
          },
          "metadata": {}
        },
        {
          "output_type": "stream",
          "name": "stderr",
          "text": [
            "/usr/local/lib/python3.10/dist-packages/transformers/modeling_utils.py:2817: UserWarning: Moving the following attributes in the config to the generation config: {'max_length': 1876}. You are seeing this warning because you've set generation parameters in the model config, as opposed to in the generation config.\n",
            "  warnings.warn(\n",
            "/usr/local/lib/python3.10/dist-packages/torch/utils/data/dataloader.py:617: UserWarning: This DataLoader will create 4 worker processes in total. Our suggested max number of worker in current system is 2, which is smaller than what this DataLoader is going to create. Please be aware that excessive worker creation might get DataLoader running slow or even freeze, lower the worker number to avoid potential slowness/freeze if necessary.\n",
            "  warnings.warn(\n",
            "/usr/local/lib/python3.10/dist-packages/torch/utils/data/dataloader.py:617: UserWarning: This DataLoader will create 4 worker processes in total. Our suggested max number of worker in current system is 2, which is smaller than what this DataLoader is going to create. Please be aware that excessive worker creation might get DataLoader running slow or even freeze, lower the worker number to avoid potential slowness/freeze if necessary.\n",
            "  warnings.warn(\n",
            "/usr/local/lib/python3.10/dist-packages/torch/utils/data/dataloader.py:617: UserWarning: This DataLoader will create 4 worker processes in total. Our suggested max number of worker in current system is 2, which is smaller than what this DataLoader is going to create. Please be aware that excessive worker creation might get DataLoader running slow or even freeze, lower the worker number to avoid potential slowness/freeze if necessary.\n",
            "  warnings.warn(\n"
          ]
        },
        {
          "output_type": "execute_result",
          "data": {
            "text/plain": [
              "TrainOutput(global_step=54, training_loss=3.0944642667417175, metrics={'train_runtime': 139.5809, 'train_samples_per_second': 12.745, 'train_steps_per_second': 0.387, 'total_flos': 266133356945280.0, 'train_loss': 3.0944642667417175, 'epoch': 2.96})"
            ]
          },
          "metadata": {},
          "execution_count": 27
        }
      ],
      "source": [
        "from transformers import Seq2SeqTrainingArguments, Seq2SeqTrainer\n",
        "\n",
        "# Check if GPU is available\n",
        "device = torch.device(\"cuda\" if torch.cuda.is_available() else \"cpu\")\n",
        "print(f\"Using device: {device}\")\n",
        "\n",
        "# Updated training configuration for epochs\n",
        "training_args = Seq2SeqTrainingArguments(\n",
        "    output_dir=\"speecht5_finetuned_voxpopuli_en\",  # Output directory\n",
        "    per_device_train_batch_size=8,  # Increased batch size for better throughput\n",
        "    gradient_accumulation_steps=4,  # Adjust gradient accumulation for better memory management\n",
        "    learning_rate=1e-5,  # Low learning rate for fine-tuning\n",
        "    warmup_steps=500,  # Set warmup steps\n",
        "    num_train_epochs=3,  # Number of epochs for training\n",
        "    gradient_checkpointing=False,  # Disable gradient checkpointing for faster training (optional)\n",
        "    fp16=True,  # Use mixed precision for faster training\n",
        "    eval_strategy=\"epoch\",  # Evaluate model at the end of each epoch\n",
        "    save_strategy=\"epoch\",  # Save model at the end of each epoch\n",
        "    logging_strategy=\"epoch\",  # Log at the end of each epoch\n",
        "    per_device_eval_batch_size=4,  # Increase batch size for evaluation\n",
        "    report_to=[\"tensorboard\"],  # Log to TensorBoard for monitoring\n",
        "    load_best_model_at_end=True,  # Load the best model at the end of training\n",
        "    greater_is_better=False,  # Set evaluation metric to use for model selection\n",
        "    label_names=[\"labels\"],  # Label names for training\n",
        "    push_to_hub=False,  # Skip pushing to HuggingFace Hub\n",
        "    dataloader_num_workers=4,  # Increase the number of workers for faster data loading\n",
        "    dataloader_pin_memory=True,  # Pin memory for faster data transfer to GPU\n",
        ")\n",
        "\n",
        "# Ensure the model is on the correct device\n",
        "model.to(device)\n",
        "\n",
        "# Create the Trainer\n",
        "trainer = Seq2SeqTrainer(\n",
        "    args=training_args,\n",
        "    model=model,\n",
        "    train_dataset=dataset[\"train\"],\n",
        "    eval_dataset=dataset[\"val\"],\n",
        "    data_collator=data_collator,\n",
        "    processing_class=processor,  # tokenizer\n",
        ")\n",
        "\n",
        "# Now you can start training\n",
        "trainer.train()\n"
      ]
    },
    {
      "cell_type": "code",
      "execution_count": null,
      "metadata": {
        "id": "AOFkZ8amgaSJ",
        "colab": {
          "base_uri": "https://localhost:8080/",
          "height": 112
        },
        "outputId": "1c41f73b-dd2b-4bb8-a8fe-e91284e538ef"
      },
      "outputs": [
        {
          "output_type": "stream",
          "name": "stderr",
          "text": [
            "/usr/local/lib/python3.10/dist-packages/torch/utils/data/dataloader.py:617: UserWarning: This DataLoader will create 4 worker processes in total. Our suggested max number of worker in current system is 2, which is smaller than what this DataLoader is going to create. Please be aware that excessive worker creation might get DataLoader running slow or even freeze, lower the worker number to avoid potential slowness/freeze if necessary.\n",
            "  warnings.warn(\n"
          ]
        },
        {
          "output_type": "display_data",
          "data": {
            "text/plain": [
              "<IPython.core.display.HTML object>"
            ],
            "text/html": [
              "\n",
              "    <div>\n",
              "      \n",
              "      <progress value='19' max='19' style='width:300px; height:20px; vertical-align: middle;'></progress>\n",
              "      [19/19 00:01]\n",
              "    </div>\n",
              "    "
            ]
          },
          "metadata": {}
        },
        {
          "output_type": "stream",
          "name": "stdout",
          "text": [
            "{'eval_loss': 0.6450127959251404, 'eval_runtime': 2.9057, 'eval_samples_per_second': 25.811, 'eval_steps_per_second': 6.539, 'epoch': 2.96}\n"
          ]
        }
      ],
      "source": [
        "# Evaluate on the test dataset\n",
        "test_results = trainer.evaluate(eval_dataset=dataset[\"test\"])\n",
        "print(test_results)"
      ]
    },
    {
      "cell_type": "code",
      "execution_count": null,
      "metadata": {
        "id": "w43KWyxYfLss",
        "colab": {
          "base_uri": "https://localhost:8080/"
        },
        "outputId": "a6920d66-2a9e-41ed-da72-1265bab5e404"
      },
      "outputs": [
        {
          "output_type": "stream",
          "name": "stdout",
          "text": [
            "Model saved to: Speecht5_finetuned_voxpopuli_en_saved\n"
          ]
        }
      ],
      "source": [
        "# Save the fine-tuned model\n",
        "save_path = \"Speecht5_finetuned_voxpopuli_en_saved\"\n",
        "trainer.save_model(save_path)\n",
        "\n",
        "# Print the exact path where the model is saved\n",
        "print(f\"Model saved to: {save_path}\")\n"
      ]
    },
    {
      "cell_type": "markdown",
      "metadata": {
        "id": "f1q6bB6bbQsL"
      },
      "source": [
        "## Inference"
      ]
    },
    {
      "cell_type": "code",
      "execution_count": null,
      "metadata": {
        "id": "JgP1yWK5fStQ"
      },
      "outputs": [],
      "source": [
        "model = SpeechT5ForTextToSpeech.from_pretrained(\"Speecht5_finetuned_voxpopuli_en_saved\")"
      ]
    },
    {
      "cell_type": "markdown",
      "metadata": {
        "id": "F5WXu5OnbQsM"
      },
      "source": [
        "Pick an example, here we'll take one from the test dataset. Obtain a speaker embedding."
      ]
    },
    {
      "cell_type": "code",
      "execution_count": null,
      "metadata": {
        "id": "_nu5Vt1PbQsM"
      },
      "outputs": [],
      "source": [
        "example = dataset[\"test\"][3]\n",
        "speaker_embeddings = torch.tensor(example[\"speaker_embeddings\"]).unsqueeze(0)"
      ]
    },
    {
      "cell_type": "code",
      "execution_count": null,
      "metadata": {
        "id": "7wfcZ-rxSAla",
        "colab": {
          "base_uri": "https://localhost:8080/"
        },
        "outputId": "1cd1a54a-9b27-4791-d703-626beba7e75a"
      },
      "outputs": [
        {
          "output_type": "stream",
          "name": "stdout",
          "text": [
            "Speaker embeddings saved to 'speaker_embeddings.pt'\n"
          ]
        }
      ],
      "source": [
        "# Save to file\n",
        "torch.save(speaker_embeddings, \"speaker_embeddings.pt\")\n",
        "print(\"Speaker embeddings saved to 'speaker_embeddings.pt'\")"
      ]
    },
    {
      "cell_type": "markdown",
      "metadata": {
        "id": "xDhefGTnbQsM"
      },
      "source": [
        "Define some input text and tokenize it."
      ]
    },
    {
      "cell_type": "code",
      "execution_count": null,
      "metadata": {
        "id": "omIis69wbQsM"
      },
      "outputs": [],
      "source": [
        "text = \"Hello my name is steve and today we are having\""
      ]
    },
    {
      "cell_type": "markdown",
      "metadata": {
        "id": "fEoaeCwlbQsM"
      },
      "source": [
        "Preprocess the input text:"
      ]
    },
    {
      "cell_type": "code",
      "execution_count": null,
      "metadata": {
        "id": "bHUy4LB3bQsM"
      },
      "outputs": [],
      "source": [
        "inputs = processor(text=text, return_tensors=\"pt\")"
      ]
    },
    {
      "cell_type": "markdown",
      "metadata": {
        "id": "MkxjMAq0bQsM"
      },
      "source": [
        "Create a spectrogram with your model:"
      ]
    },
    {
      "cell_type": "code",
      "execution_count": null,
      "metadata": {
        "id": "dlz_zwB5bQsM"
      },
      "outputs": [],
      "source": [
        "spectrogram = model.generate_speech(inputs[\"input_ids\"], speaker_embeddings)"
      ]
    },
    {
      "cell_type": "markdown",
      "metadata": {
        "id": "uh8rDw5FbQsM"
      },
      "source": [
        "Visualize the spectrogram, if you'd like to:"
      ]
    },
    {
      "cell_type": "code",
      "execution_count": null,
      "metadata": {
        "id": "jWjaX5XKbQsN",
        "colab": {
          "base_uri": "https://localhost:8080/",
          "height": 278
        },
        "outputId": "f2d050ba-505a-4fcf-f543-57fa996ce021"
      },
      "outputs": [
        {
          "output_type": "display_data",
          "data": {
            "text/plain": [
              "<Figure size 640x480 with 1 Axes>"
            ],
            "image/png": "[encoded data removed]"
          },
          "metadata": {}
        }
      ],
      "source": [
        "plt.figure()\n",
        "plt.imshow(spectrogram.T)\n",
        "plt.show()"
      ]
    },
    {
      "cell_type": "code",
      "execution_count": null,
      "metadata": {
        "id": "qaXd6SziRXk3",
        "colab": {
          "base_uri": "https://localhost:8080/",
          "height": 81,
          "referenced_widgets": [
            "6d84fd78983b4040b4b792c1d66d154a",
            "460d1d5755834967822b24daed1cdac6",
            "50451e715baa4d548b20446c49c90423",
            "22a936f0a15149f0b470c10682cddc56",
            "70ba35322004415083481f99a1e6838c",
            "013f85f4169e4852ada360482005aa8d",
            "eef3d504b4314d8da3dc29fa95285118",
            "d1a609597c2345a69148e85aacffe224",
            "9563bada1d1b40c9a7d63c7c4a8ada29",
            "78ebb323c8ac4f16a98c62d2bff6c8f8",
            "9a8d5628b5c54f8bbc58db3573bd6134",
            "a0a2a6b6cf244d8d9398533947b5c05a",
            "85d26ad493d442d79110b93829430722",
            "e1ac386564f7419cbb6e844421b94f8f",
            "01af46e1096d4e4dbcc0d9d5efdeb4b1",
            "6bab4fa3711b4520ba93b4d7f78642ae",
            "bbe98e8ed3a14da1a8b8b70133eb9ac3",
            "4d2ca1dbbfd8459eb044f9fbf441626f",
            "d1a0a0d2b7db4d9ca677f11f9df9da88",
            "5a64ad67c6d74564b4a8882770efb56c",
            "b38f301247a144cc86680f4fbd1124db",
            "4ad4dbedc50d4c8aa7acbc1bc3bd768e"
          ]
        },
        "outputId": "d3056314-bf61-4517-fc7c-c2dcf056fe80"
      },
      "outputs": [
        {
          "output_type": "display_data",
          "data": {
            "text/plain": [
              "config.json:   0%|          | 0.00/636 [00:00<?, ?B/s]"
            ],
            "application/vnd.jupyter.widget-view+json": {
              "version_major": 2,
              "version_minor": 0,
              "model_id": "6d84fd78983b4040b4b792c1d66d154a"
            }
          },
          "metadata": {}
        },
        {
          "output_type": "display_data",
          "data": {
            "text/plain": [
              "pytorch_model.bin:   0%|          | 0.00/50.7M [00:00<?, ?B/s]"
            ],
            "application/vnd.jupyter.widget-view+json": {
              "version_major": 2,
              "version_minor": 0,
              "model_id": "a0a2a6b6cf244d8d9398533947b5c05a"
            }
          },
          "metadata": {}
        }
      ],
      "source": [
        "from transformers import SpeechT5HifiGan\n",
        "\n",
        "vocoder = SpeechT5HifiGan.from_pretrained(\"microsoft/speecht5_hifigan\")\n",
        "speech = model.generate_speech(inputs[\"input_ids\"], speaker_embeddings, vocoder=vocoder)"
      ]
    },
    {
      "cell_type": "code",
      "execution_count": null,
      "metadata": {
        "id": "HEkWaMa2RaRN",
        "colab": {
          "base_uri": "https://localhost:8080/",
          "height": 75
        },
        "outputId": "580bca27-aca1-4e4e-b9ff-a97280015c81"
      },
      "outputs": [
        {
          "output_type": "execute_result",
          "data": {
            "text/plain": [
              "<IPython.lib.display.Audio object>"
            ],
            "text/html": [
              "\n",
              "                <audio  controls=\"controls\" >\n",
              "                    <source src=\"data:audio/wav;base64,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\" type=\"audio/wav\" />\n",
              "                    Your browser does not support the audio element.\n",
              "                </audio>\n",
              "              "
            ]
          },
          "metadata": {},
          "execution_count": 38
        }
      ],
      "source": [
        "from IPython.display import Audio\n",
        "\n",
        "Audio(speech.numpy(), rate=16000)"
      ]
    },
    {
      "cell_type": "markdown",
      "metadata": {
        "id": "oxtenNxnl1c4"
      },
      "source": [
        "# Application"
      ]
    },
    {
      "cell_type": "code",
      "execution_count": null,
      "metadata": {
        "id": "LGut3Hr-zkbE"
      },
      "outputs": [],
      "source": [
        "%%capture\n",
        "!pip install streamlit pyngrok"
      ]
    },
    {
      "cell_type": "code",
      "execution_count": null,
      "metadata": {
        "id": "fkFqrDOcPSe3",
        "colab": {
          "base_uri": "https://localhost:8080/"
        },
        "outputId": "de0041aa-34d7-4a04-a088-b4e9282f1fe2"
      },
      "outputs": [
        {
          "output_type": "stream",
          "name": "stdout",
          "text": [
            "Writing app.py\n"
          ]
        }
      ],
      "source": [
        "%%writefile app.py\n",
        "import torch\n",
        "import numpy as np\n",
        "import streamlit as st\n",
        "from transformers import SpeechT5ForTextToSpeech, SpeechT5Processor, SpeechT5HifiGan\n",
        "from tempfile import NamedTemporaryFile\n",
        "import os\n",
        "import scipy.io.wavfile as wav\n",
        "\n",
        "# Initialize the processor (shared for both models)\n",
        "processor = None\n",
        "\n",
        "# Lazy loading of models\n",
        "def load_processor():\n",
        "    global processor\n",
        "    if processor is None:\n",
        "        processor = SpeechT5Processor.from_pretrained(\"microsoft/speecht5_tts\")\n",
        "\n",
        "def load_baseline_model():\n",
        "    return SpeechT5ForTextToSpeech.from_pretrained(\"microsoft/speecht5_tts\")\n",
        "\n",
        "def load_finetuned_model():\n",
        "    return SpeechT5ForTextToSpeech.from_pretrained(\"/content/Speecht5_finetuned_voxpopuli_en_saved\")\n",
        "\n",
        "def load_vocoder():\n",
        "    return SpeechT5HifiGan.from_pretrained(\"microsoft/speecht5_hifigan\")\n",
        "\n",
        "# Load speaker embeddings from the local path\n",
        "def load_speaker_embeddings():\n",
        "    speaker_embeddings_path = \"/content/speaker_embeddings.pt\"\n",
        "    if not os.path.exists(speaker_embeddings_path):\n",
        "        raise FileNotFoundError(f\"Speaker embeddings not found at {speaker_embeddings_path}\")\n",
        "    embeddings = torch.load(speaker_embeddings_path)\n",
        "    # Make sure embeddings have correct shape (add a batch dimension if needed)\n",
        "    if len(embeddings.shape) == 1:\n",
        "        embeddings = embeddings.unsqueeze(0)\n",
        "    return embeddings\n",
        "\n",
        "# Streamlit UI\n",
        "st.title(\"SpeechT5 Text-to-Speech\")\n",
        "st.write(\"Generate speech from text using baseline or fine-tuned model.\")\n",
        "\n",
        "# Input text from the user\n",
        "text_input = st.text_area(\"Enter the text to convert to speech\", \"Hello, world!\")\n",
        "\n",
        "# Model type selection (Baseline or Fine-tuned)\n",
        "model_type = st.radio(\"Select the model\", [\"baseline\", \"finetuned\"])\n",
        "\n",
        "# Generate speech button\n",
        "if st.button(\"Generate Speech\"):\n",
        "    try:\n",
        "        # Load required resources on demand\n",
        "        load_processor()\n",
        "        speaker_embeddings = load_speaker_embeddings()\n",
        "        vocoder = load_vocoder()\n",
        "\n",
        "        # Select the model based on user input\n",
        "        if model_type == \"finetuned\":\n",
        "            model = load_finetuned_model()\n",
        "        elif model_type == \"baseline\":\n",
        "            model = load_baseline_model()\n",
        "\n",
        "        # Process input text\n",
        "        inputs = processor(text=text_input, return_tensors=\"pt\")\n",
        "\n",
        "        # Generate speech (spectrogram to waveform)\n",
        "        speech = model.generate_speech(inputs[\"input_ids\"], speaker_embeddings, vocoder=vocoder)\n",
        "\n",
        "        # Convert the speech tensor to numpy array and ensure it's in the correct format (float32)\n",
        "        speech_numpy = speech.squeeze().cpu().numpy()\n",
        "\n",
        "        # Assuming the model's sample rate is 22050 Hz (adjust as needed)\n",
        "        sample_rate = 22050\n",
        "\n",
        "        # Save the speech to a temporary .wav file\n",
        "        with NamedTemporaryFile(delete=False, suffix=\".wav\") as temp_audio:\n",
        "            # The wav file expects an integer sample rate and data in 16-bit PCM format\n",
        "            wav.write(temp_audio.name, sample_rate, (speech_numpy * 32767).astype(np.int16))  # Convert to 16-bit PCM\n",
        "\n",
        "        # Play audio in the app\n",
        "        st.audio(temp_audio.name, format=\"audio/wav\")\n",
        "    except Exception as e:\n",
        "        st.error(f\"Error: {e}\")\n"
      ]
    },
    {
      "cell_type": "code",
      "execution_count": null,
      "metadata": {
        "id": "11I_qBkZSEg0"
      },
      "outputs": [],
      "source": [
        "!pkill ngrok"
      ]
    },
    {
      "cell_type": "code",
      "execution_count": null,
      "metadata": {
        "id": "93FSx7B2SGbU",
        "colab": {
          "base_uri": "https://localhost:8080/"
        },
        "outputId": "5c6671d6-00b6-49e8-d672-ddc10320fb66"
      },
      "outputs": [
        {
          "output_type": "stream",
          "name": "stdout",
          "text": [
            "Streamlit app is live at NgrokTunnel: \"https://db26-35-197-140-218.ngrok-free.app\" -> \"http://localhost:8501\"\n",
            "Visit the following URL to view the Streamlit app:\n",
            "NgrokTunnel: \"https://db26-35-197-140-218.ngrok-free.app\" -> \"http://localhost:8501\"\n"
          ]
        }
      ],
      "source": [
        "\n",
        "# Set up ngrok tunnel and run the Streamlit app\n",
        "from pyngrok import ngrok\n",
        "import os\n",
        "\n",
        "# Authenticate with your ngrok authtoken (replace with your own if needed)\n",
        "ngrok.set_auth_token(\"2qe660ETbU1aCf9nYaweYL6zVR7_GqGRja7q9X8ZwGpiEbig\")\n",
        "\n",
        "# Open an ngrok tunnel to the Streamlit app running on port 8501\n",
        "public_url = ngrok.connect(8501)\n",
        "\n",
        "# Print the URL where the app is accessible\n",
        "print(f\"Streamlit app is live at {public_url}\")\n",
        "\n",
        "# Run the Streamlit app in the background\n",
        "os.system(\"streamlit run app.py &\")\n",
        "\n",
        "# Print the website URL explicitly\n",
        "print(\"Visit the following URL to view the Streamlit app:\")\n",
        "print(public_url)\n"
      ]
    },
    {
      "cell_type": "code",
      "execution_count": null,
      "metadata": {
        "id": "dSyOW3hl9ZOc"
      },
      "outputs": [],
      "source": []
    }
  ],
  "metadata": {
    "accelerator": "GPU",
    "colab": {
      "gpuType": "T4",
      "provenance": []
    },
    "kernelspec": {
      "display_name": "Python 3",
      "name": "python3"
    },
    "language_info": {
      "name": "python"
    },
    "widgets": {
      "application/vnd.jupyter.widget-state+json": {
        "5f1539703ead45baa925c386927bf5e3": {
          "model_module": "@jupyter-widgets/controls",
          "model_name": "HBoxModel",
          "model_module_version": "1.5.0",
          "state": {
            "_dom_classes": [],
            "_model_module": "@jupyter-widgets/controls",
            "_model_module_version": "1.5.0",
            "_model_name": "HBoxModel",
            "_view_count": null,
            "_view_module": "@jupyter-widgets/controls",
            "_view_module_version": "1.5.0",
            "_view_name": "HBoxView",
            "box_style": "",
            "children": [
              "IPY_MODEL_64a8b8d6e0424b948694f73ddd1a050d",
              "IPY_MODEL_31c36c344a634f6a89815bba39f380ca",
              "IPY_MODEL_a579e8c494274818bc541281757dbf42"
            ],
            "layout": "IPY_MODEL_b1bf26b15f1344e3b05b0727f5dc54ac"
          }
        },
        "64a8b8d6e0424b948694f73ddd1a050d": {
          "model_module": "@jupyter-widgets/controls",
          "model_name": "HTMLModel",
          "model_module_version": "1.5.0",
          "state": {
            "_dom_classes": [],
            "_model_module": "@jupyter-widgets/controls",
            "_model_module_version": "1.5.0",
            "_model_name": "HTMLModel",
            "_view_count": null,
            "_view_module": "@jupyter-widgets/controls",
            "_view_module_version": "1.5.0",
            "_view_name": "HTMLView",
            "description": "",
            "description_tooltip": null,
            "layout": "IPY_MODEL_190561b8d7424d75aea0e0ab12c787b6",
            "placeholder": "​",
            "style": "IPY_MODEL_6276c6f2309948e888b576d910cf898e",
            "value": "README.md: 100%"
          }
        },
        "31c36c344a634f6a89815bba39f380ca": {
          "model_module": "@jupyter-widgets/controls",
          "model_name": "FloatProgressModel",
          "model_module_version": "1.5.0",
          "state": {
            "_dom_classes": [],
            "_model_module": "@jupyter-widgets/controls",
            "_model_module_version": "1.5.0",
            "_model_name": "FloatProgressModel",
            "_view_count": null,
            "_view_module": "@jupyter-widgets/controls",
            "_view_module_version": "1.5.0",
            "_view_name": "ProgressView",
            "bar_style": "success",
            "description": "",
            "description_tooltip": null,
            "layout": "IPY_MODEL_a315b69f506e425d94f6f0768bf8bc6a",
            "max": 10663,
            "min": 0,
            "orientation": "horizontal",
            "style": "IPY_MODEL_3715164e0337427f93f9f8e31227dbba",
            "value": 10663
          }
        },
        "a579e8c494274818bc541281757dbf42": {
          "model_module": "@jupyter-widgets/controls",
          "model_name": "HTMLModel",
          "model_module_version": "1.5.0",
          "state": {
            "_dom_classes": [],
            "_model_module": "@jupyter-widgets/controls",
            "_model_module_version": "1.5.0",
            "_model_name": "HTMLModel",
            "_view_count": null,
            "_view_module": "@jupyter-widgets/controls",
            "_view_module_version": "1.5.0",
            "_view_name": "HTMLView",
            "description": "",
            "description_tooltip": null,
            "layout": "IPY_MODEL_540622123906486fa49d8945b8a7efe1",
            "placeholder": "​",
            "style": "IPY_MODEL_23eabff5e09e4d1a95c6f63e059fe68d",
            "value": " 10.7k/10.7k [00:00&lt;00:00, 667kB/s]"
          }
        },
        "b1bf26b15f1344e3b05b0727f5dc54ac": {
          "model_module": "@jupyter-widgets/base",
          "model_name": "LayoutModel",
          "model_module_version": "1.2.0",
          "state": {
            "_model_module": "@jupyter-widgets/base",
            "_model_module_version": "1.2.0",
            "_model_name": "LayoutModel",
            "_view_count": null,
            "_view_module": "@jupyter-widgets/base",
            "_view_module_version": "1.2.0",
            "_view_name": "LayoutView",
            "align_content": null,
            "align_items": null,
            "align_self": null,
            "border": null,
            "bottom": null,
            "display": null,
            "flex": null,
            "flex_flow": null,
            "grid_area": null,
            "grid_auto_columns": null,
            "grid_auto_flow": null,
            "grid_auto_rows": null,
            "grid_column": null,
            "grid_gap": null,
            "grid_row": null,
            "grid_template_areas": null,
            "grid_template_columns": null,
            "grid_template_rows": null,
            "height": null,
            "justify_content": null,
            "justify_items": null,
            "left": null,
            "margin": null,
            "max_height": null,
            "max_width": null,
            "min_height": null,
            "min_width": null,
            "object_fit": null,
            "object_position": null,
            "order": null,
            "overflow": null,
            "overflow_x": null,
            "overflow_y": null,
            "padding": null,
            "right": null,
            "top": null,
            "visibility": null,
            "width": null
          }
        },
        "190561b8d7424d75aea0e0ab12c787b6": {
          "model_module": "@jupyter-widgets/base",
          "model_name": "LayoutModel",
          "model_module_version": "1.2.0",
          "state": {
            "_model_module": "@jupyter-widgets/base",
            "_model_module_version": "1.2.0",
            "_model_name": "LayoutModel",
            "_view_count": null,
            "_view_module": "@jupyter-widgets/base",
            "_view_module_version": "1.2.0",
            "_view_name": "LayoutView",
            "align_content": null,
            "align_items": null,
            "align_self": null,
            "border": null,
            "bottom": null,
            "display": null,
            "flex": null,
            "flex_flow": null,
            "grid_area": null,
            "grid_auto_columns": null,
            "grid_auto_flow": null,
            "grid_auto_rows": null,
            "grid_column": null,
            "grid_gap": null,
            "grid_row": null,
            "grid_template_areas": null,
            "grid_template_columns": null,
            "grid_template_rows": null,
            "height": null,
            "justify_content": null,
            "justify_items": null,
            "left": null,
            "margin": null,
            "max_height": null,
            "max_width": null,
            "min_height": null,
            "min_width": null,
            "object_fit": null,
            "object_position": null,
            "order": null,
            "overflow": null,
            "overflow_x": null,
            "overflow_y": null,
            "padding": null,
            "right": null,
            "top": null,
            "visibility": null,
            "width": null
          }
        },
        "6276c6f2309948e888b576d910cf898e": {
          "model_module": "@jupyter-widgets/controls",
          "model_name": "DescriptionStyleModel",
          "model_module_version": "1.5.0",
          "state": {
            "_model_module": "@jupyter-widgets/controls",
            "_model_module_version": "1.5.0",
            "_model_name": "DescriptionStyleModel",
            "_view_count": null,
            "_view_module": "@jupyter-widgets/base",
            "_view_module_version": "1.2.0",
            "_view_name": "StyleView",
            "description_width": ""
          }
        },
        "a315b69f506e425d94f6f0768bf8bc6a": {
          "model_module": "@jupyter-widgets/base",
          "model_name": "LayoutModel",
          "model_module_version": "1.2.0",
          "state": {
            "_model_module": "@jupyter-widgets/base",
            "_model_module_version": "1.2.0",
            "_model_name": "LayoutModel",
            "_view_count": null,
            "_view_module": "@jupyter-widgets/base",
            "_view_module_version": "1.2.0",
            "_view_name": "LayoutView",
            "align_content": null,
            "align_items": null,
            "align_self": null,
            "border": null,
            "bottom": null,
            "display": null,
            "flex": null,
            "flex_flow": null,
            "grid_area": null,
            "grid_auto_columns": null,
            "grid_auto_flow": null,
            "grid_auto_rows": null,
            "grid_column": null,
            "grid_gap": null,
            "grid_row": null,
            "grid_template_areas": null,
            "grid_template_columns": null,
            "grid_template_rows": null,
            "height": null,
            "justify_content": null,
            "justify_items": null,
            "left": null,
            "margin": null,
            "max_height": null,
            "max_width": null,
            "min_height": null,
            "min_width": null,
            "object_fit": null,
            "object_position": null,
            "order": null,
            "overflow": null,
            "overflow_x": null,
            "overflow_y": null,
            "padding": null,
            "right": null,
            "top": null,
            "visibility": null,
            "width": null
          }
        },
        "3715164e0337427f93f9f8e31227dbba": {
          "model_module": "@jupyter-widgets/controls",
          "model_name": "ProgressStyleModel",
          "model_module_version": "1.5.0",
          "state": {
            "_model_module": "@jupyter-widgets/controls",
            "_model_module_version": "1.5.0",
            "_model_name": "ProgressStyleModel",
            "_view_count": null,
            "_view_module": "@jupyter-widgets/base",
            "_view_module_version": "1.2.0",
            "_view_name": "StyleView",
            "bar_color": null,
            "description_width": ""
          }
        },
        "540622123906486fa49d8945b8a7efe1": {
          "model_module": "@jupyter-widgets/base",
          "model_name": "LayoutModel",
          "model_module_version": "1.2.0",
          "state": {
            "_model_module": "@jupyter-widgets/base",
            "_model_module_version": "1.2.0",
            "_model_name": "LayoutModel",
            "_view_count": null,
            "_view_module": "@jupyter-widgets/base",
            "_view_module_version": "1.2.0",
            "_view_name": "LayoutView",
            "align_content": null,
            "align_items": null,
            "align_self": null,
            "border": null,
            "bottom": null,
            "display": null,
            "flex": null,
            "flex_flow": null,
            "grid_area": null,
            "grid_auto_columns": null,
            "grid_auto_flow": null,
            "grid_auto_rows": null,
            "grid_column": null,
            "grid_gap": null,
            "grid_row": null,
            "grid_template_areas": null,
            "grid_template_columns": null,
            "grid_template_rows": null,
            "height": null,
            "justify_content": null,
            "justify_items": null,
            "left": null,
            "margin": null,
            "max_height": null,
            "max_width": null,
            "min_height": null,
            "min_width": null,
            "object_fit": null,
            "object_position": null,
            "order": null,
            "overflow": null,
            "overflow_x": null,
            "overflow_y": null,
            "padding": null,
            "right": null,
            "top": null,
            "visibility": null,
            "width": null
          }
        },
        "23eabff5e09e4d1a95c6f63e059fe68d": {
          "model_module": "@jupyter-widgets/controls",
          "model_name": "DescriptionStyleModel",
          "model_module_version": "1.5.0",
          "state": {
            "_model_module": "@jupyter-widgets/controls",
            "_model_module_version": "1.5.0",
            "_model_name": "DescriptionStyleModel",
            "_view_count": null,
            "_view_module": "@jupyter-widgets/base",
            "_view_module_version": "1.2.0",
            "_view_name": "StyleView",
            "description_width": ""
          }
        },
        "55b9f88fb8e147b2aae5faf6a7867f4f": {
          "model_module": "@jupyter-widgets/controls",
          "model_name": "HBoxModel",
          "model_module_version": "1.5.0",
          "state": {
            "_dom_classes": [],
            "_model_module": "@jupyter-widgets/controls",
            "_model_module_version": "1.5.0",
            "_model_name": "HBoxModel",
            "_view_count": null,
            "_view_module": "@jupyter-widgets/controls",
            "_view_module_version": "1.5.0",
            "_view_name": "HBoxView",
            "box_style": "",
            "children": [
              "IPY_MODEL_445ff4f83b8d4c4d9dd7197568ecd99b",
              "IPY_MODEL_89c2108fee904670a9a5b1f9c0bbf3d6",
              "IPY_MODEL_66c17df231dc4330b324f2d8b682a687"
            ],
            "layout": "IPY_MODEL_5cb4a962d4cd4e2aba6ad901527ae64c"
          }
        },
        "445ff4f83b8d4c4d9dd7197568ecd99b": {
          "model_module": "@jupyter-widgets/controls",
          "model_name": "HTMLModel",
          "model_module_version": "1.5.0",
          "state": {
            "_dom_classes": [],
            "_model_module": "@jupyter-widgets/controls",
            "_model_module_version": "1.5.0",
            "_model_name": "HTMLModel",
            "_view_count": null,
            "_view_module": "@jupyter-widgets/controls",
            "_view_module_version": "1.5.0",
            "_view_name": "HTMLView",
            "description": "",
            "description_tooltip": null,
            "layout": "IPY_MODEL_cea77eff641447c5ba5b4a11a05933f9",
            "placeholder": "​",
            "style": "IPY_MODEL_7c2b03d2d7ae4a4dbbedee5ab74699a7",
            "value": "voxpopuli.py: 100%"
          }
        },
        "89c2108fee904670a9a5b1f9c0bbf3d6": {
          "model_module": "@jupyter-widgets/controls",
          "model_name": "FloatProgressModel",
          "model_module_version": "1.5.0",
          "state": {
            "_dom_classes": [],
            "_model_module": "@jupyter-widgets/controls",
            "_model_module_version": "1.5.0",
            "_model_name": "FloatProgressModel",
            "_view_count": null,
            "_view_module": "@jupyter-widgets/controls",
            "_view_module_version": "1.5.0",
            "_view_name": "ProgressView",
            "bar_style": "success",
            "description": "",
            "description_tooltip": null,
            "layout": "IPY_MODEL_6588c10fcb3045e892ebc11ab0bbee61",
            "max": 8839,
            "min": 0,
            "orientation": "horizontal",
            "style": "IPY_MODEL_74ee9b889f7544de8f66be58af98f83d",
            "value": 8839
          }
        },
        "66c17df231dc4330b324f2d8b682a687": {
          "model_module": "@jupyter-widgets/controls",
          "model_name": "HTMLModel",
          "model_module_version": "1.5.0",
          "state": {
            "_dom_classes": [],
            "_model_module": "@jupyter-widgets/controls",
            "_model_module_version": "1.5.0",
            "_model_name": "HTMLModel",
            "_view_count": null,
            "_view_module": "@jupyter-widgets/controls",
            "_view_module_version": "1.5.0",
            "_view_name": "HTMLView",
            "description": "",
            "description_tooltip": null,
            "layout": "IPY_MODEL_60cd0cf401be4891ab5cddd6bab0aa6d",
            "placeholder": "​",
            "style": "IPY_MODEL_541b5ba69c4041bb910da7df7cd90b0b",
            "value": " 8.84k/8.84k [00:00&lt;00:00, 532kB/s]"
          }
        },
        "5cb4a962d4cd4e2aba6ad901527ae64c": {
          "model_module": "@jupyter-widgets/base",
          "model_name": "LayoutModel",
          "model_module_version": "1.2.0",
          "state": {
            "_model_module": "@jupyter-widgets/base",
            "_model_module_version": "1.2.0",
            "_model_name": "LayoutModel",
            "_view_count": null,
            "_view_module": "@jupyter-widgets/base",
            "_view_module_version": "1.2.0",
            "_view_name": "LayoutView",
            "align_content": null,
            "align_items": null,
            "align_self": null,
            "border": null,
            "bottom": null,
            "display": null,
            "flex": null,
            "flex_flow": null,
            "grid_area": null,
            "grid_auto_columns": null,
            "grid_auto_flow": null,
            "grid_auto_rows": null,
            "grid_column": null,
            "grid_gap": null,
            "grid_row": null,
            "grid_template_areas": null,
            "grid_template_columns": null,
            "grid_template_rows": null,
            "height": null,
            "justify_content": null,
            "justify_items": null,
            "left": null,
            "margin": null,
            "max_height": null,
            "max_width": null,
            "min_height": null,
            "min_width": null,
            "object_fit": null,
            "object_position": null,
            "order": null,
            "overflow": null,
            "overflow_x": null,
            "overflow_y": null,
            "padding": null,
            "right": null,
            "top": null,
            "visibility": null,
            "width": null
          }
        },
        "cea77eff641447c5ba5b4a11a05933f9": {
          "model_module": "@jupyter-widgets/base",
          "model_name": "LayoutModel",
          "model_module_version": "1.2.0",
          "state": {
            "_model_module": "@jupyter-widgets/base",
            "_model_module_version": "1.2.0",
            "_model_name": "LayoutModel",
            "_view_count": null,
            "_view_module": "@jupyter-widgets/base",
            "_view_module_version": "1.2.0",
            "_view_name": "LayoutView",
            "align_content": null,
            "align_items": null,
            "align_self": null,
            "border": null,
            "bottom": null,
            "display": null,
            "flex": null,
            "flex_flow": null,
            "grid_area": null,
            "grid_auto_columns": null,
            "grid_auto_flow": null,
            "grid_auto_rows": null,
            "grid_column": null,
            "grid_gap": null,
            "grid_row": null,
            "grid_template_areas": null,
            "grid_template_columns": null,
            "grid_template_rows": null,
            "height": null,
            "justify_content": null,
            "justify_items": null,
            "left": null,
            "margin": null,
            "max_height": null,
            "max_width": null,
            "min_height": null,
            "min_width": null,
            "object_fit": null,
            "object_position": null,
            "order": null,
            "overflow": null,
            "overflow_x": null,
            "overflow_y": null,
            "padding": null,
            "right": null,
            "top": null,
            "visibility": null,
            "width": null
          }
        },
        "7c2b03d2d7ae4a4dbbedee5ab74699a7": {
          "model_module": "@jupyter-widgets/controls",
          "model_name": "DescriptionStyleModel",
          "model_module_version": "1.5.0",
          "state": {
            "_model_module": "@jupyter-widgets/controls",
            "_model_module_version": "1.5.0",
            "_model_name": "DescriptionStyleModel",
            "_view_count": null,
            "_view_module": "@jupyter-widgets/base",
            "_view_module_version": "1.2.0",
            "_view_name": "StyleView",
            "description_width": ""
          }
        },
        "6588c10fcb3045e892ebc11ab0bbee61": {
          "model_module": "@jupyter-widgets/base",
          "model_name": "LayoutModel",
          "model_module_version": "1.2.0",
          "state": {
            "_model_module": "@jupyter-widgets/base",
            "_model_module_version": "1.2.0",
            "_model_name": "LayoutModel",
            "_view_count": null,
            "_view_module": "@jupyter-widgets/base",
            "_view_module_version": "1.2.0",
            "_view_name": "LayoutView",
            "align_content": null,
            "align_items": null,
            "align_self": null,
            "border": null,
            "bottom": null,
            "display": null,
            "flex": null,
            "flex_flow": null,
            "grid_area": null,
            "grid_auto_columns": null,
            "grid_auto_flow": null,
            "grid_auto_rows": null,
            "grid_column": null,
            "grid_gap": null,
            "grid_row": null,
            "grid_template_areas": null,
            "grid_template_columns": null,
            "grid_template_rows": null,
            "height": null,
            "justify_content": null,
            "justify_items": null,
            "left": null,
            "margin": null,
            "max_height": null,
            "max_width": null,
            "min_height": null,
            "min_width": null,
            "object_fit": null,
            "object_position": null,
            "order": null,
            "overflow": null,
            "overflow_x": null,
            "overflow_y": null,
            "padding": null,
            "right": null,
            "top": null,
            "visibility": null,
            "width": null
          }
        },
        "74ee9b889f7544de8f66be58af98f83d": {
          "model_module": "@jupyter-widgets/controls",
          "model_name": "ProgressStyleModel",
          "model_module_version": "1.5.0",
          "state": {
            "_model_module": "@jupyter-widgets/controls",
            "_model_module_version": "1.5.0",
            "_model_name": "ProgressStyleModel",
            "_view_count": null,
            "_view_module": "@jupyter-widgets/base",
            "_view_module_version": "1.2.0",
            "_view_name": "StyleView",
            "bar_color": null,
            "description_width": ""
          }
        },
        "60cd0cf401be4891ab5cddd6bab0aa6d": {
          "model_module": "@jupyter-widgets/base",
          "model_name": "LayoutModel",
          "model_module_version": "1.2.0",
          "state": {
            "_model_module": "@jupyter-widgets/base",
            "_model_module_version": "1.2.0",
            "_model_name": "LayoutModel",
            "_view_count": null,
            "_view_module": "@jupyter-widgets/base",
            "_view_module_version": "1.2.0",
            "_view_name": "LayoutView",
            "align_content": null,
            "align_items": null,
            "align_self": null,
            "border": null,
            "bottom": null,
            "display": null,
            "flex": null,
            "flex_flow": null,
            "grid_area": null,
            "grid_auto_columns": null,
            "grid_auto_flow": null,
            "grid_auto_rows": null,
            "grid_column": null,
            "grid_gap": null,
            "grid_row": null,
            "grid_template_areas": null,
            "grid_template_columns": null,
            "grid_template_rows": null,
            "height": null,
            "justify_content": null,
            "justify_items": null,
            "left": null,
            "margin": null,
            "max_height": null,
            "max_width": null,
            "min_height": null,
            "min_width": null,
            "object_fit": null,
            "object_position": null,
            "order": null,
            "overflow": null,
            "overflow_x": null,
            "overflow_y": null,
            "padding": null,
            "right": null,
            "top": null,
            "visibility": null,
            "width": null
          }
        },
        "541b5ba69c4041bb910da7df7cd90b0b": {
          "model_module": "@jupyter-widgets/controls",
          "model_name": "DescriptionStyleModel",
          "model_module_version": "1.5.0",
          "state": {
            "_model_module": "@jupyter-widgets/controls",
            "_model_module_version": "1.5.0",
            "_model_name": "DescriptionStyleModel",
            "_view_count": null,
            "_view_module": "@jupyter-widgets/base",
            "_view_module_version": "1.2.0",
            "_view_name": "StyleView",
            "description_width": ""
          }
        },
        "1763f3a2b39a40b79033a1538c0afe6e": {
          "model_module": "@jupyter-widgets/controls",
          "model_name": "HBoxModel",
          "model_module_version": "1.5.0",
          "state": {
            "_dom_classes": [],
            "_model_module": "@jupyter-widgets/controls",
            "_model_module_version": "1.5.0",
            "_model_name": "HBoxModel",
            "_view_count": null,
            "_view_module": "@jupyter-widgets/controls",
            "_view_module_version": "1.5.0",
            "_view_name": "HBoxView",
            "box_style": "",
            "children": [
              "IPY_MODEL_3ef8416c66fd4aa0a91b1dc86bb6a5a6",
              "IPY_MODEL_6d757df12c2947f98538cafb37faf905",
              "IPY_MODEL_e19051fbd23c498b80771e81d6e153f4"
            ],
            "layout": "IPY_MODEL_f150c3dba0024809a9fba81e51997fcf"
          }
        },
        "3ef8416c66fd4aa0a91b1dc86bb6a5a6": {
          "model_module": "@jupyter-widgets/controls",
          "model_name": "HTMLModel",
          "model_module_version": "1.5.0",
          "state": {
            "_dom_classes": [],
            "_model_module": "@jupyter-widgets/controls",
            "_model_module_version": "1.5.0",
            "_model_name": "HTMLModel",
            "_view_count": null,
            "_view_module": "@jupyter-widgets/controls",
            "_view_module_version": "1.5.0",
            "_view_name": "HTMLView",
            "description": "",
            "description_tooltip": null,
            "layout": "IPY_MODEL_c0b8c288275d4d6ea9cfbf61a48e1758",
            "placeholder": "​",
            "style": "IPY_MODEL_3f3745d28e0f4672adf7a693ebda8fc7",
            "value": ""
          }
        },
        "6d757df12c2947f98538cafb37faf905": {
          "model_module": "@jupyter-widgets/controls",
          "model_name": "FloatProgressModel",
          "model_module_version": "1.5.0",
          "state": {
            "_dom_classes": [],
            "_model_module": "@jupyter-widgets/controls",
            "_model_module_version": "1.5.0",
            "_model_name": "FloatProgressModel",
            "_view_count": null,
            "_view_module": "@jupyter-widgets/controls",
            "_view_module_version": "1.5.0",
            "_view_name": "ProgressView",
            "bar_style": "success",
            "description": "",
            "description_tooltip": null,
            "layout": "IPY_MODEL_c371de3691e0459dbf9bfb8c32fd84ef",
            "max": 1,
            "min": 0,
            "orientation": "horizontal",
            "style": "IPY_MODEL_8403f43a547048e3a14e63697644a68e",
            "value": 0
          }
        },
        "e19051fbd23c498b80771e81d6e153f4": {
          "model_module": "@jupyter-widgets/controls",
          "model_name": "HTMLModel",
          "model_module_version": "1.5.0",
          "state": {
            "_dom_classes": [],
            "_model_module": "@jupyter-widgets/controls",
            "_model_module_version": "1.5.0",
            "_model_name": "HTMLModel",
            "_view_count": null,
            "_view_module": "@jupyter-widgets/controls",
            "_view_module_version": "1.5.0",
            "_view_name": "HTMLView",
            "description": "",
            "description_tooltip": null,
            "layout": "IPY_MODEL_818582da21e74ceca5addc0f25e990c1",
            "placeholder": "​",
            "style": "IPY_MODEL_7044ec569bfb49c38207ae41fc3b8a0c",
            "value": " 0/0 [00:00&lt;?, ?it/s]"
          }
        },
        "f150c3dba0024809a9fba81e51997fcf": {
          "model_module": "@jupyter-widgets/base",
          "model_name": "LayoutModel",
          "model_module_version": "1.2.0",
          "state": {
            "_model_module": "@jupyter-widgets/base",
            "_model_module_version": "1.2.0",
            "_model_name": "LayoutModel",
            "_view_count": null,
            "_view_module": "@jupyter-widgets/base",
            "_view_module_version": "1.2.0",
            "_view_name": "LayoutView",
            "align_content": null,
            "align_items": null,
            "align_self": null,
            "border": null,
            "bottom": null,
            "display": null,
            "flex": null,
            "flex_flow": null,
            "grid_area": null,
            "grid_auto_columns": null,
            "grid_auto_flow": null,
            "grid_auto_rows": null,
            "grid_column": null,
            "grid_gap": null,
            "grid_row": null,
            "grid_template_areas": null,
            "grid_template_columns": null,
            "grid_template_rows": null,
            "height": null,
            "justify_content": null,
            "justify_items": null,
            "left": null,
            "margin": null,
            "max_height": null,
            "max_width": null,
            "min_height": null,
            "min_width": null,
            "object_fit": null,
            "object_position": null,
            "order": null,
            "overflow": null,
            "overflow_x": null,
            "overflow_y": null,
            "padding": null,
            "right": null,
            "top": null,
            "visibility": null,
            "width": null
          }
        },
        "c0b8c288275d4d6ea9cfbf61a48e1758": {
          "model_module": "@jupyter-widgets/base",
          "model_name": "LayoutModel",
          "model_module_version": "1.2.0",
          "state": {
            "_model_module": "@jupyter-widgets/base",
            "_model_module_version": "1.2.0",
            "_model_name": "LayoutModel",
            "_view_count": null,
            "_view_module": "@jupyter-widgets/base",
            "_view_module_version": "1.2.0",
            "_view_name": "LayoutView",
            "align_content": null,
            "align_items": null,
            "align_self": null,
            "border": null,
            "bottom": null,
            "display": null,
            "flex": null,
            "flex_flow": null,
            "grid_area": null,
            "grid_auto_columns": null,
            "grid_auto_flow": null,
            "grid_auto_rows": null,
            "grid_column": null,
            "grid_gap": null,
            "grid_row": null,
            "grid_template_areas": null,
            "grid_template_columns": null,
            "grid_template_rows": null,
            "height": null,
            "justify_content": null,
            "justify_items": null,
            "left": null,
            "margin": null,
            "max_height": null,
            "max_width": null,
            "min_height": null,
            "min_width": null,
            "object_fit": null,
            "object_position": null,
            "order": null,
            "overflow": null,
            "overflow_x": null,
            "overflow_y": null,
            "padding": null,
            "right": null,
            "top": null,
            "visibility": null,
            "width": null
          }
        },
        "3f3745d28e0f4672adf7a693ebda8fc7": {
          "model_module": "@jupyter-widgets/controls",
          "model_name": "DescriptionStyleModel",
          "model_module_version": "1.5.0",
          "state": {
            "_model_module": "@jupyter-widgets/controls",
            "_model_module_version": "1.5.0",
            "_model_name": "DescriptionStyleModel",
            "_view_count": null,
            "_view_module": "@jupyter-widgets/base",
            "_view_module_version": "1.2.0",
            "_view_name": "StyleView",
            "description_width": ""
          }
        },
        "c371de3691e0459dbf9bfb8c32fd84ef": {
          "model_module": "@jupyter-widgets/base",
          "model_name": "LayoutModel",
          "model_module_version": "1.2.0",
          "state": {
            "_model_module": "@jupyter-widgets/base",
            "_model_module_version": "1.2.0",
            "_model_name": "LayoutModel",
            "_view_count": null,
            "_view_module": "@jupyter-widgets/base",
            "_view_module_version": "1.2.0",
            "_view_name": "LayoutView",
            "align_content": null,
            "align_items": null,
            "align_self": null,
            "border": null,
            "bottom": null,
            "display": null,
            "flex": null,
            "flex_flow": null,
            "grid_area": null,
            "grid_auto_columns": null,
            "grid_auto_flow": null,
            "grid_auto_rows": null,
            "grid_column": null,
            "grid_gap": null,
            "grid_row": null,
            "grid_template_areas": null,
            "grid_template_columns": null,
            "grid_template_rows": null,
            "height": null,
            "justify_content": null,
            "justify_items": null,
            "left": null,
            "margin": null,
            "max_height": null,
            "max_width": null,
            "min_height": null,
            "min_width": null,
            "object_fit": null,
            "object_position": null,
            "order": null,
            "overflow": null,
            "overflow_x": null,
            "overflow_y": null,
            "padding": null,
            "right": null,
            "top": null,
            "visibility": null,
            "width": "20px"
          }
        },
        "8403f43a547048e3a14e63697644a68e": {
          "model_module": "@jupyter-widgets/controls",
          "model_name": "ProgressStyleModel",
          "model_module_version": "1.5.0",
          "state": {
            "_model_module": "@jupyter-widgets/controls",
            "_model_module_version": "1.5.0",
            "_model_name": "ProgressStyleModel",
            "_view_count": null,
            "_view_module": "@jupyter-widgets/base",
            "_view_module_version": "1.2.0",
            "_view_name": "StyleView",
            "bar_color": null,
            "description_width": ""
          }
        },
        "818582da21e74ceca5addc0f25e990c1": {
          "model_module": "@jupyter-widgets/base",
          "model_name": "LayoutModel",
          "model_module_version": "1.2.0",
          "state": {
            "_model_module": "@jupyter-widgets/base",
            "_model_module_version": "1.2.0",
            "_model_name": "LayoutModel",
            "_view_count": null,
            "_view_module": "@jupyter-widgets/base",
            "_view_module_version": "1.2.0",
            "_view_name": "LayoutView",
            "align_content": null,
            "align_items": null,
            "align_self": null,
            "border": null,
            "bottom": null,
            "display": null,
            "flex": null,
            "flex_flow": null,
            "grid_area": null,
            "grid_auto_columns": null,
            "grid_auto_flow": null,
            "grid_auto_rows": null,
            "grid_column": null,
            "grid_gap": null,
            "grid_row": null,
            "grid_template_areas": null,
            "grid_template_columns": null,
            "grid_template_rows": null,
            "height": null,
            "justify_content": null,
            "justify_items": null,
            "left": null,
            "margin": null,
            "max_height": null,
            "max_width": null,
            "min_height": null,
            "min_width": null,
            "object_fit": null,
            "object_position": null,
            "order": null,
            "overflow": null,
            "overflow_x": null,
            "overflow_y": null,
            "padding": null,
            "right": null,
            "top": null,
            "visibility": null,
            "width": null
          }
        },
        "7044ec569bfb49c38207ae41fc3b8a0c": {
          "model_module": "@jupyter-widgets/controls",
          "model_name": "DescriptionStyleModel",
          "model_module_version": "1.5.0",
          "state": {
            "_model_module": "@jupyter-widgets/controls",
            "_model_module_version": "1.5.0",
            "_model_name": "DescriptionStyleModel",
            "_view_count": null,
            "_view_module": "@jupyter-widgets/base",
            "_view_module_version": "1.2.0",
            "_view_name": "StyleView",
            "description_width": ""
          }
        },
        "20336dc2a8c64cfe8330b23c18b97bf9": {
          "model_module": "@jupyter-widgets/controls",
          "model_name": "HBoxModel",
          "model_module_version": "1.5.0",
          "state": {
            "_dom_classes": [],
            "_model_module": "@jupyter-widgets/controls",
            "_model_module_version": "1.5.0",
            "_model_name": "HBoxModel",
            "_view_count": null,
            "_view_module": "@jupyter-widgets/controls",
            "_view_module_version": "1.5.0",
            "_view_name": "HBoxView",
            "box_style": "",
            "children": [
              "IPY_MODEL_51a1d9c0a6fd4286bc8042bdfe42c43a",
              "IPY_MODEL_387db5945b8e455d9a6628abce2a6ad6",
              "IPY_MODEL_7bbdfb41e50e433782276909f09cc033"
            ],
            "layout": "IPY_MODEL_372414db9f57431ab656e46914444e8c"
          }
        },
        "51a1d9c0a6fd4286bc8042bdfe42c43a": {
          "model_module": "@jupyter-widgets/controls",
          "model_name": "HTMLModel",
          "model_module_version": "1.5.0",
          "state": {
            "_dom_classes": [],
            "_model_module": "@jupyter-widgets/controls",
            "_model_module_version": "1.5.0",
            "_model_name": "HTMLModel",
            "_view_count": null,
            "_view_module": "@jupyter-widgets/controls",
            "_view_module_version": "1.5.0",
            "_view_name": "HTMLView",
            "description": "",
            "description_tooltip": null,
            "layout": "IPY_MODEL_4bdbe8e7062f4cb481a34e5388427711",
            "placeholder": "​",
            "style": "IPY_MODEL_a34e1b310da24593bccdc6808465e97a",
            "value": "preprocessor_config.json: 100%"
          }
        },
        "387db5945b8e455d9a6628abce2a6ad6": {
          "model_module": "@jupyter-widgets/controls",
          "model_name": "FloatProgressModel",
          "model_module_version": "1.5.0",
          "state": {
            "_dom_classes": [],
            "_model_module": "@jupyter-widgets/controls",
            "_model_module_version": "1.5.0",
            "_model_name": "FloatProgressModel",
            "_view_count": null,
            "_view_module": "@jupyter-widgets/controls",
            "_view_module_version": "1.5.0",
            "_view_name": "ProgressView",
            "bar_style": "success",
            "description": "",
            "description_tooltip": null,
            "layout": "IPY_MODEL_67cc87540d244753af00b4628bf496ea",
            "max": 433,
            "min": 0,
            "orientation": "horizontal",
            "style": "IPY_MODEL_7a4bc5076a3b44e7a3239a92173fc9f2",
            "value": 433
          }
        },
        "7bbdfb41e50e433782276909f09cc033": {
          "model_module": "@jupyter-widgets/controls",
          "model_name": "HTMLModel",
          "model_module_version": "1.5.0",
          "state": {
            "_dom_classes": [],
            "_model_module": "@jupyter-widgets/controls",
            "_model_module_version": "1.5.0",
            "_model_name": "HTMLModel",
            "_view_count": null,
            "_view_module": "@jupyter-widgets/controls",
            "_view_module_version": "1.5.0",
            "_view_name": "HTMLView",
            "description": "",
            "description_tooltip": null,
            "layout": "IPY_MODEL_ed857221922747c79b8c39e4c08e7e29",
            "placeholder": "​",
            "style": "IPY_MODEL_104a36100b214b6f8ed7b7ee22efbd72",
            "value": " 433/433 [00:00&lt;00:00, 29.1kB/s]"
          }
        },
        "372414db9f57431ab656e46914444e8c": {
          "model_module": "@jupyter-widgets/base",
          "model_name": "LayoutModel",
          "model_module_version": "1.2.0",
          "state": {
            "_model_module": "@jupyter-widgets/base",
            "_model_module_version": "1.2.0",
            "_model_name": "LayoutModel",
            "_view_count": null,
            "_view_module": "@jupyter-widgets/base",
            "_view_module_version": "1.2.0",
            "_view_name": "LayoutView",
            "align_content": null,
            "align_items": null,
            "align_self": null,
            "border": null,
            "bottom": null,
            "display": null,
            "flex": null,
            "flex_flow": null,
            "grid_area": null,
            "grid_auto_columns": null,
            "grid_auto_flow": null,
            "grid_auto_rows": null,
            "grid_column": null,
            "grid_gap": null,
            "grid_row": null,
            "grid_template_areas": null,
            "grid_template_columns": null,
            "grid_template_rows": null,
            "height": null,
            "justify_content": null,
            "justify_items": null,
            "left": null,
            "margin": null,
            "max_height": null,
            "max_width": null,
            "min_height": null,
            "min_width": null,
            "object_fit": null,
            "object_position": null,
            "order": null,
            "overflow": null,
            "overflow_x": null,
            "overflow_y": null,
            "padding": null,
            "right": null,
            "top": null,
            "visibility": null,
            "width": null
          }
        },
        "4bdbe8e7062f4cb481a34e5388427711": {
          "model_module": "@jupyter-widgets/base",
          "model_name": "LayoutModel",
          "model_module_version": "1.2.0",
          "state": {
            "_model_module": "@jupyter-widgets/base",
            "_model_module_version": "1.2.0",
            "_model_name": "LayoutModel",
            "_view_count": null,
            "_view_module": "@jupyter-widgets/base",
            "_view_module_version": "1.2.0",
            "_view_name": "LayoutView",
            "align_content": null,
            "align_items": null,
            "align_self": null,
            "border": null,
            "bottom": null,
            "display": null,
            "flex": null,
            "flex_flow": null,
            "grid_area": null,
            "grid_auto_columns": null,
            "grid_auto_flow": null,
            "grid_auto_rows": null,
            "grid_column": null,
            "grid_gap": null,
            "grid_row": null,
            "grid_template_areas": null,
            "grid_template_columns": null,
            "grid_template_rows": null,
            "height": null,
            "justify_content": null,
            "justify_items": null,
            "left": null,
            "margin": null,
            "max_height": null,
            "max_width": null,
            "min_height": null,
            "min_width": null,
            "object_fit": null,
            "object_position": null,
            "order": null,
            "overflow": null,
            "overflow_x": null,
            "overflow_y": null,
            "padding": null,
            "right": null,
            "top": null,
            "visibility": null,
            "width": null
          }
        },
        "a34e1b310da24593bccdc6808465e97a": {
          "model_module": "@jupyter-widgets/controls",
          "model_name": "DescriptionStyleModel",
          "model_module_version": "1.5.0",
          "state": {
            "_model_module": "@jupyter-widgets/controls",
            "_model_module_version": "1.5.0",
            "_model_name": "DescriptionStyleModel",
            "_view_count": null,
            "_view_module": "@jupyter-widgets/base",
            "_view_module_version": "1.2.0",
            "_view_name": "StyleView",
            "description_width": ""
          }
        },
        "67cc87540d244753af00b4628bf496ea": {
          "model_module": "@jupyter-widgets/base",
          "model_name": "LayoutModel",
          "model_module_version": "1.2.0",
          "state": {
            "_model_module": "@jupyter-widgets/base",
            "_model_module_version": "1.2.0",
            "_model_name": "LayoutModel",
            "_view_count": null,
            "_view_module": "@jupyter-widgets/base",
            "_view_module_version": "1.2.0",
            "_view_name": "LayoutView",
            "align_content": null,
            "align_items": null,
            "align_self": null,
            "border": null,
            "bottom": null,
            "display": null,
            "flex": null,
            "flex_flow": null,
            "grid_area": null,
            "grid_auto_columns": null,
            "grid_auto_flow": null,
            "grid_auto_rows": null,
            "grid_column": null,
            "grid_gap": null,
            "grid_row": null,
            "grid_template_areas": null,
            "grid_template_columns": null,
            "grid_template_rows": null,
            "height": null,
            "justify_content": null,
            "justify_items": null,
            "left": null,
            "margin": null,
            "max_height": null,
            "max_width": null,
            "min_height": null,
            "min_width": null,
            "object_fit": null,
            "object_position": null,
            "order": null,
            "overflow": null,
            "overflow_x": null,
            "overflow_y": null,
            "padding": null,
            "right": null,
            "top": null,
            "visibility": null,
            "width": null
          }
        },
        "7a4bc5076a3b44e7a3239a92173fc9f2": {
          "model_module": "@jupyter-widgets/controls",
          "model_name": "ProgressStyleModel",
          "model_module_version": "1.5.0",
          "state": {
            "_model_module": "@jupyter-widgets/controls",
            "_model_module_version": "1.5.0",
            "_model_name": "ProgressStyleModel",
            "_view_count": null,
            "_view_module": "@jupyter-widgets/base",
            "_view_module_version": "1.2.0",
            "_view_name": "StyleView",
            "bar_color": null,
            "description_width": ""
          }
        },
        "ed857221922747c79b8c39e4c08e7e29": {
          "model_module": "@jupyter-widgets/base",
          "model_name": "LayoutModel",
          "model_module_version": "1.2.0",
          "state": {
            "_model_module": "@jupyter-widgets/base",
            "_model_module_version": "1.2.0",
            "_model_name": "LayoutModel",
            "_view_count": null,
            "_view_module": "@jupyter-widgets/base",
            "_view_module_version": "1.2.0",
            "_view_name": "LayoutView",
            "align_content": null,
            "align_items": null,
            "align_self": null,
            "border": null,
            "bottom": null,
            "display": null,
            "flex": null,
            "flex_flow": null,
            "grid_area": null,
            "grid_auto_columns": null,
            "grid_auto_flow": null,
            "grid_auto_rows": null,
            "grid_column": null,
            "grid_gap": null,
            "grid_row": null,
            "grid_template_areas": null,
            "grid_template_columns": null,
            "grid_template_rows": null,
            "height": null,
            "justify_content": null,
            "justify_items": null,
            "left": null,
            "margin": null,
            "max_height": null,
            "max_width": null,
            "min_height": null,
            "min_width": null,
            "object_fit": null,
            "object_position": null,
            "order": null,
            "overflow": null,
            "overflow_x": null,
            "overflow_y": null,
            "padding": null,
            "right": null,
            "top": null,
            "visibility": null,
            "width": null
          }
        },
        "104a36100b214b6f8ed7b7ee22efbd72": {
          "model_module": "@jupyter-widgets/controls",
          "model_name": "DescriptionStyleModel",
          "model_module_version": "1.5.0",
          "state": {
            "_model_module": "@jupyter-widgets/controls",
            "_model_module_version": "1.5.0",
            "_model_name": "DescriptionStyleModel",
            "_view_count": null,
            "_view_module": "@jupyter-widgets/base",
            "_view_module_version": "1.2.0",
            "_view_name": "StyleView",
            "description_width": ""
          }
        },
        "f4a1441061484b729e4e5c1fdae8d303": {
          "model_module": "@jupyter-widgets/controls",
          "model_name": "HBoxModel",
          "model_module_version": "1.5.0",
          "state": {
            "_dom_classes": [],
            "_model_module": "@jupyter-widgets/controls",
            "_model_module_version": "1.5.0",
            "_model_name": "HBoxModel",
            "_view_count": null,
            "_view_module": "@jupyter-widgets/controls",
            "_view_module_version": "1.5.0",
            "_view_name": "HBoxView",
            "box_style": "",
            "children": [
              "IPY_MODEL_168ff26a2fb1466082abfdf52ff811a3",
              "IPY_MODEL_165683cfc5984e308229736bec55fab1",
              "IPY_MODEL_cdac927f905a4604a5d3279f9fddd5a1"
            ],
            "layout": "IPY_MODEL_0c28f41dd34e498c883b40487e01aa00"
          }
        },
        "168ff26a2fb1466082abfdf52ff811a3": {
          "model_module": "@jupyter-widgets/controls",
          "model_name": "HTMLModel",
          "model_module_version": "1.5.0",
          "state": {
            "_dom_classes": [],
            "_model_module": "@jupyter-widgets/controls",
            "_model_module_version": "1.5.0",
            "_model_name": "HTMLModel",
            "_view_count": null,
            "_view_module": "@jupyter-widgets/controls",
            "_view_module_version": "1.5.0",
            "_view_name": "HTMLView",
            "description": "",
            "description_tooltip": null,
            "layout": "IPY_MODEL_508a10e26c0d46a29b5110d8d1bf2495",
            "placeholder": "​",
            "style": "IPY_MODEL_0f4b472c1549431f8ae8b0af1b60a8c6",
            "value": "tokenizer_config.json: 100%"
          }
        },
        "165683cfc5984e308229736bec55fab1": {
          "model_module": "@jupyter-widgets/controls",
          "model_name": "FloatProgressModel",
          "model_module_version": "1.5.0",
          "state": {
            "_dom_classes": [],
            "_model_module": "@jupyter-widgets/controls",
            "_model_module_version": "1.5.0",
            "_model_name": "FloatProgressModel",
            "_view_count": null,
            "_view_module": "@jupyter-widgets/controls",
            "_view_module_version": "1.5.0",
            "_view_name": "ProgressView",
            "bar_style": "success",
            "description": "",
            "description_tooltip": null,
            "layout": "IPY_MODEL_0034162c76e1422089797eed0d383687",
            "max": 232,
            "min": 0,
            "orientation": "horizontal",
            "style": "IPY_MODEL_5ba07362d76a4873ab6534a2148ac71e",
            "value": 232
          }
        },
        "cdac927f905a4604a5d3279f9fddd5a1": {
          "model_module": "@jupyter-widgets/controls",
          "model_name": "HTMLModel",
          "model_module_version": "1.5.0",
          "state": {
            "_dom_classes": [],
            "_model_module": "@jupyter-widgets/controls",
            "_model_module_version": "1.5.0",
            "_model_name": "HTMLModel",
            "_view_count": null,
            "_view_module": "@jupyter-widgets/controls",
            "_view_module_version": "1.5.0",
            "_view_name": "HTMLView",
            "description": "",
            "description_tooltip": null,
            "layout": "IPY_MODEL_0e5218c0af7f4d3982d64234f8187d4b",
            "placeholder": "​",
            "style": "IPY_MODEL_aaa147425eb0466a84bb188858056b67",
            "value": " 232/232 [00:00&lt;00:00, 15.2kB/s]"
          }
        },
        "0c28f41dd34e498c883b40487e01aa00": {
          "model_module": "@jupyter-widgets/base",
          "model_name": "LayoutModel",
          "model_module_version": "1.2.0",
          "state": {
            "_model_module": "@jupyter-widgets/base",
            "_model_module_version": "1.2.0",
            "_model_name": "LayoutModel",
            "_view_count": null,
            "_view_module": "@jupyter-widgets/base",
            "_view_module_version": "1.2.0",
            "_view_name": "LayoutView",
            "align_content": null,
            "align_items": null,
            "align_self": null,
            "border": null,
            "bottom": null,
            "display": null,
            "flex": null,
            "flex_flow": null,
            "grid_area": null,
            "grid_auto_columns": null,
            "grid_auto_flow": null,
            "grid_auto_rows": null,
            "grid_column": null,
            "grid_gap": null,
            "grid_row": null,
            "grid_template_areas": null,
            "grid_template_columns": null,
            "grid_template_rows": null,
            "height": null,
            "justify_content": null,
            "justify_items": null,
            "left": null,
            "margin": null,
            "max_height": null,
            "max_width": null,
            "min_height": null,
            "min_width": null,
            "object_fit": null,
            "object_position": null,
            "order": null,
            "overflow": null,
            "overflow_x": null,
            "overflow_y": null,
            "padding": null,
            "right": null,
            "top": null,
            "visibility": null,
            "width": null
          }
        },
        "508a10e26c0d46a29b5110d8d1bf2495": {
          "model_module": "@jupyter-widgets/base",
          "model_name": "LayoutModel",
          "model_module_version": "1.2.0",
          "state": {
            "_model_module": "@jupyter-widgets/base",
            "_model_module_version": "1.2.0",
            "_model_name": "LayoutModel",
            "_view_count": null,
            "_view_module": "@jupyter-widgets/base",
            "_view_module_version": "1.2.0",
            "_view_name": "LayoutView",
            "align_content": null,
            "align_items": null,
            "align_self": null,
            "border": null,
            "bottom": null,
            "display": null,
            "flex": null,
            "flex_flow": null,
            "grid_area": null,
            "grid_auto_columns": null,
            "grid_auto_flow": null,
            "grid_auto_rows": null,
            "grid_column": null,
            "grid_gap": null,
            "grid_row": null,
            "grid_template_areas": null,
            "grid_template_columns": null,
            "grid_template_rows": null,
            "height": null,
            "justify_content": null,
            "justify_items": null,
            "left": null,
            "margin": null,
            "max_height": null,
            "max_width": null,
            "min_height": null,
            "min_width": null,
            "object_fit": null,
            "object_position": null,
            "order": null,
            "overflow": null,
            "overflow_x": null,
            "overflow_y": null,
            "padding": null,
            "right": null,
            "top": null,
            "visibility": null,
            "width": null
          }
        },
        "0f4b472c1549431f8ae8b0af1b60a8c6": {
          "model_module": "@jupyter-widgets/controls",
          "model_name": "DescriptionStyleModel",
          "model_module_version": "1.5.0",
          "state": {
            "_model_module": "@jupyter-widgets/controls",
            "_model_module_version": "1.5.0",
            "_model_name": "DescriptionStyleModel",
            "_view_count": null,
            "_view_module": "@jupyter-widgets/base",
            "_view_module_version": "1.2.0",
            "_view_name": "StyleView",
            "description_width": ""
          }
        },
        "0034162c76e1422089797eed0d383687": {
          "model_module": "@jupyter-widgets/base",
          "model_name": "LayoutModel",
          "model_module_version": "1.2.0",
          "state": {
            "_model_module": "@jupyter-widgets/base",
            "_model_module_version": "1.2.0",
            "_model_name": "LayoutModel",
            "_view_count": null,
            "_view_module": "@jupyter-widgets/base",
            "_view_module_version": "1.2.0",
            "_view_name": "LayoutView",
            "align_content": null,
            "align_items": null,
            "align_self": null,
            "border": null,
            "bottom": null,
            "display": null,
            "flex": null,
            "flex_flow": null,
            "grid_area": null,
            "grid_auto_columns": null,
            "grid_auto_flow": null,
            "grid_auto_rows": null,
            "grid_column": null,
            "grid_gap": null,
            "grid_row": null,
            "grid_template_areas": null,
            "grid_template_columns": null,
            "grid_template_rows": null,
            "height": null,
            "justify_content": null,
            "justify_items": null,
            "left": null,
            "margin": null,
            "max_height": null,
            "max_width": null,
            "min_height": null,
            "min_width": null,
            "object_fit": null,
            "object_position": null,
            "order": null,
            "overflow": null,
            "overflow_x": null,
            "overflow_y": null,
            "padding": null,
            "right": null,
            "top": null,
            "visibility": null,
            "width": null
          }
        },
        "5ba07362d76a4873ab6534a2148ac71e": {
          "model_module": "@jupyter-widgets/controls",
          "model_name": "ProgressStyleModel",
          "model_module_version": "1.5.0",
          "state": {
            "_model_module": "@jupyter-widgets/controls",
            "_model_module_version": "1.5.0",
            "_model_name": "ProgressStyleModel",
            "_view_count": null,
            "_view_module": "@jupyter-widgets/base",
            "_view_module_version": "1.2.0",
            "_view_name": "StyleView",
            "bar_color": null,
            "description_width": ""
          }
        },
        "0e5218c0af7f4d3982d64234f8187d4b": {
          "model_module": "@jupyter-widgets/base",
          "model_name": "LayoutModel",
          "model_module_version": "1.2.0",
          "state": {
            "_model_module": "@jupyter-widgets/base",
            "_model_module_version": "1.2.0",
            "_model_name": "LayoutModel",
            "_view_count": null,
            "_view_module": "@jupyter-widgets/base",
            "_view_module_version": "1.2.0",
            "_view_name": "LayoutView",
            "align_content": null,
            "align_items": null,
            "align_self": null,
            "border": null,
            "bottom": null,
            "display": null,
            "flex": null,
            "flex_flow": null,
            "grid_area": null,
            "grid_auto_columns": null,
            "grid_auto_flow": null,
            "grid_auto_rows": null,
            "grid_column": null,
            "grid_gap": null,
            "grid_row": null,
            "grid_template_areas": null,
            "grid_template_columns": null,
            "grid_template_rows": null,
            "height": null,
            "justify_content": null,
            "justify_items": null,
            "left": null,
            "margin": null,
            "max_height": null,
            "max_width": null,
            "min_height": null,
            "min_width": null,
            "object_fit": null,
            "object_position": null,
            "order": null,
            "overflow": null,
            "overflow_x": null,
            "overflow_y": null,
            "padding": null,
            "right": null,
            "top": null,
            "visibility": null,
            "width": null
          }
        },
        "aaa147425eb0466a84bb188858056b67": {
          "model_module": "@jupyter-widgets/controls",
          "model_name": "DescriptionStyleModel",
          "model_module_version": "1.5.0",
          "state": {
            "_model_module": "@jupyter-widgets/controls",
            "_model_module_version": "1.5.0",
            "_model_name": "DescriptionStyleModel",
            "_view_count": null,
            "_view_module": "@jupyter-widgets/base",
            "_view_module_version": "1.2.0",
            "_view_name": "StyleView",
            "description_width": ""
          }
        },
        "687022d1ee5345dc8387594a58c55d15": {
          "model_module": "@jupyter-widgets/controls",
          "model_name": "HBoxModel",
          "model_module_version": "1.5.0",
          "state": {
            "_dom_classes": [],
            "_model_module": "@jupyter-widgets/controls",
            "_model_module_version": "1.5.0",
            "_model_name": "HBoxModel",
            "_view_count": null,
            "_view_module": "@jupyter-widgets/controls",
            "_view_module_version": "1.5.0",
            "_view_name": "HBoxView",
            "box_style": "",
            "children": [
              "IPY_MODEL_17e43e9328804759a369d15be10e60b1",
              "IPY_MODEL_f46857b94fa44aa18b6ef4e4913a960e",
              "IPY_MODEL_265e133a2d21411790284d911d76291b"
            ],
            "layout": "IPY_MODEL_4953657b85e94ad7a2817befbe5d2177"
          }
        },
        "17e43e9328804759a369d15be10e60b1": {
          "model_module": "@jupyter-widgets/controls",
          "model_name": "HTMLModel",
          "model_module_version": "1.5.0",
          "state": {
            "_dom_classes": [],
            "_model_module": "@jupyter-widgets/controls",
            "_model_module_version": "1.5.0",
            "_model_name": "HTMLModel",
            "_view_count": null,
            "_view_module": "@jupyter-widgets/controls",
            "_view_module_version": "1.5.0",
            "_view_name": "HTMLView",
            "description": "",
            "description_tooltip": null,
            "layout": "IPY_MODEL_8be342eab3d9490088c04893da0a303a",
            "placeholder": "​",
            "style": "IPY_MODEL_f0fdebf38e4c4c3c957ed9b2b7a65e94",
            "value": "spm_char.model: 100%"
          }
        },
        "f46857b94fa44aa18b6ef4e4913a960e": {
          "model_module": "@jupyter-widgets/controls",
          "model_name": "FloatProgressModel",
          "model_module_version": "1.5.0",
          "state": {
            "_dom_classes": [],
            "_model_module": "@jupyter-widgets/controls",
            "_model_module_version": "1.5.0",
            "_model_name": "FloatProgressModel",
            "_view_count": null,
            "_view_module": "@jupyter-widgets/controls",
            "_view_module_version": "1.5.0",
            "_view_name": "ProgressView",
            "bar_style": "success",
            "description": "",
            "description_tooltip": null,
            "layout": "IPY_MODEL_92beb10bc6dc4b43a478bfe1416952cb",
            "max": 238473,
            "min": 0,
            "orientation": "horizontal",
            "style": "IPY_MODEL_85cef7a821a948ddbccee208caa0b121",
            "value": 238473
          }
        },
        "265e133a2d21411790284d911d76291b": {
          "model_module": "@jupyter-widgets/controls",
          "model_name": "HTMLModel",
          "model_module_version": "1.5.0",
          "state": {
            "_dom_classes": [],
            "_model_module": "@jupyter-widgets/controls",
            "_model_module_version": "1.5.0",
            "_model_name": "HTMLModel",
            "_view_count": null,
            "_view_module": "@jupyter-widgets/controls",
            "_view_module_version": "1.5.0",
            "_view_name": "HTMLView",
            "description": "",
            "description_tooltip": null,
            "layout": "IPY_MODEL_092c3a2615424a88b864b1dd7ccf4ee4",
            "placeholder": "​",
            "style": "IPY_MODEL_1022b6024849445a8e2d5fccb4e5b8d2",
            "value": " 238k/238k [00:00&lt;00:00, 17.0MB/s]"
          }
        },
        "4953657b85e94ad7a2817befbe5d2177": {
          "model_module": "@jupyter-widgets/base",
          "model_name": "LayoutModel",
          "model_module_version": "1.2.0",
          "state": {
            "_model_module": "@jupyter-widgets/base",
            "_model_module_version": "1.2.0",
            "_model_name": "LayoutModel",
            "_view_count": null,
            "_view_module": "@jupyter-widgets/base",
            "_view_module_version": "1.2.0",
            "_view_name": "LayoutView",
            "align_content": null,
            "align_items": null,
            "align_self": null,
            "border": null,
            "bottom": null,
            "display": null,
            "flex": null,
            "flex_flow": null,
            "grid_area": null,
            "grid_auto_columns": null,
            "grid_auto_flow": null,
            "grid_auto_rows": null,
            "grid_column": null,
            "grid_gap": null,
            "grid_row": null,
            "grid_template_areas": null,
            "grid_template_columns": null,
            "grid_template_rows": null,
            "height": null,
            "justify_content": null,
            "justify_items": null,
            "left": null,
            "margin": null,
            "max_height": null,
            "max_width": null,
            "min_height": null,
            "min_width": null,
            "object_fit": null,
            "object_position": null,
            "order": null,
            "overflow": null,
            "overflow_x": null,
            "overflow_y": null,
            "padding": null,
            "right": null,
            "top": null,
            "visibility": null,
            "width": null
          }
        },
        "8be342eab3d9490088c04893da0a303a": {
          "model_module": "@jupyter-widgets/base",
          "model_name": "LayoutModel",
          "model_module_version": "1.2.0",
          "state": {
            "_model_module": "@jupyter-widgets/base",
            "_model_module_version": "1.2.0",
            "_model_name": "LayoutModel",
            "_view_count": null,
            "_view_module": "@jupyter-widgets/base",
            "_view_module_version": "1.2.0",
            "_view_name": "LayoutView",
            "align_content": null,
            "align_items": null,
            "align_self": null,
            "border": null,
            "bottom": null,
            "display": null,
            "flex": null,
            "flex_flow": null,
            "grid_area": null,
            "grid_auto_columns": null,
            "grid_auto_flow": null,
            "grid_auto_rows": null,
            "grid_column": null,
            "grid_gap": null,
            "grid_row": null,
            "grid_template_areas": null,
            "grid_template_columns": null,
            "grid_template_rows": null,
            "height": null,
            "justify_content": null,
            "justify_items": null,
            "left": null,
            "margin": null,
            "max_height": null,
            "max_width": null,
            "min_height": null,
            "min_width": null,
            "object_fit": null,
            "object_position": null,
            "order": null,
            "overflow": null,
            "overflow_x": null,
            "overflow_y": null,
            "padding": null,
            "right": null,
            "top": null,
            "visibility": null,
            "width": null
          }
        },
        "f0fdebf38e4c4c3c957ed9b2b7a65e94": {
          "model_module": "@jupyter-widgets/controls",
          "model_name": "DescriptionStyleModel",
          "model_module_version": "1.5.0",
          "state": {
            "_model_module": "@jupyter-widgets/controls",
            "_model_module_version": "1.5.0",
            "_model_name": "DescriptionStyleModel",
            "_view_count": null,
            "_view_module": "@jupyter-widgets/base",
            "_view_module_version": "1.2.0",
            "_view_name": "StyleView",
            "description_width": ""
          }
        },
        "92beb10bc6dc4b43a478bfe1416952cb": {
          "model_module": "@jupyter-widgets/base",
          "model_name": "LayoutModel",
          "model_module_version": "1.2.0",
          "state": {
            "_model_module": "@jupyter-widgets/base",
            "_model_module_version": "1.2.0",
            "_model_name": "LayoutModel",
            "_view_count": null,
            "_view_module": "@jupyter-widgets/base",
            "_view_module_version": "1.2.0",
            "_view_name": "LayoutView",
            "align_content": null,
            "align_items": null,
            "align_self": null,
            "border": null,
            "bottom": null,
            "display": null,
            "flex": null,
            "flex_flow": null,
            "grid_area": null,
            "grid_auto_columns": null,
            "grid_auto_flow": null,
            "grid_auto_rows": null,
            "grid_column": null,
            "grid_gap": null,
            "grid_row": null,
            "grid_template_areas": null,
            "grid_template_columns": null,
            "grid_template_rows": null,
            "height": null,
            "justify_content": null,
            "justify_items": null,
            "left": null,
            "margin": null,
            "max_height": null,
            "max_width": null,
            "min_height": null,
            "min_width": null,
            "object_fit": null,
            "object_position": null,
            "order": null,
            "overflow": null,
            "overflow_x": null,
            "overflow_y": null,
            "padding": null,
            "right": null,
            "top": null,
            "visibility": null,
            "width": null
          }
        },
        "85cef7a821a948ddbccee208caa0b121": {
          "model_module": "@jupyter-widgets/controls",
          "model_name": "ProgressStyleModel",
          "model_module_version": "1.5.0",
          "state": {
            "_model_module": "@jupyter-widgets/controls",
            "_model_module_version": "1.5.0",
            "_model_name": "ProgressStyleModel",
            "_view_count": null,
            "_view_module": "@jupyter-widgets/base",
            "_view_module_version": "1.2.0",
            "_view_name": "StyleView",
            "bar_color": null,
            "description_width": ""
          }
        },
        "092c3a2615424a88b864b1dd7ccf4ee4": {
          "model_module": "@jupyter-widgets/base",
          "model_name": "LayoutModel",
          "model_module_version": "1.2.0",
          "state": {
            "_model_module": "@jupyter-widgets/base",
            "_model_module_version": "1.2.0",
            "_model_name": "LayoutModel",
            "_view_count": null,
            "_view_module": "@jupyter-widgets/base",
            "_view_module_version": "1.2.0",
            "_view_name": "LayoutView",
            "align_content": null,
            "align_items": null,
            "align_self": null,
            "border": null,
            "bottom": null,
            "display": null,
            "flex": null,
            "flex_flow": null,
            "grid_area": null,
            "grid_auto_columns": null,
            "grid_auto_flow": null,
            "grid_auto_rows": null,
            "grid_column": null,
            "grid_gap": null,
            "grid_row": null,
            "grid_template_areas": null,
            "grid_template_columns": null,
            "grid_template_rows": null,
            "height": null,
            "justify_content": null,
            "justify_items": null,
            "left": null,
            "margin": null,
            "max_height": null,
            "max_width": null,
            "min_height": null,
            "min_width": null,
            "object_fit": null,
            "object_position": null,
            "order": null,
            "overflow": null,
            "overflow_x": null,
            "overflow_y": null,
            "padding": null,
            "right": null,
            "top": null,
            "visibility": null,
            "width": null
          }
        },
        "1022b6024849445a8e2d5fccb4e5b8d2": {
          "model_module": "@jupyter-widgets/controls",
          "model_name": "DescriptionStyleModel",
          "model_module_version": "1.5.0",
          "state": {
            "_model_module": "@jupyter-widgets/controls",
            "_model_module_version": "1.5.0",
            "_model_name": "DescriptionStyleModel",
            "_view_count": null,
            "_view_module": "@jupyter-widgets/base",
            "_view_module_version": "1.2.0",
            "_view_name": "StyleView",
            "description_width": ""
          }
        },
        "33162cc847e742ec8eb2454eb9880be8": {
          "model_module": "@jupyter-widgets/controls",
          "model_name": "HBoxModel",
          "model_module_version": "1.5.0",
          "state": {
            "_dom_classes": [],
            "_model_module": "@jupyter-widgets/controls",
            "_model_module_version": "1.5.0",
            "_model_name": "HBoxModel",
            "_view_count": null,
            "_view_module": "@jupyter-widgets/controls",
            "_view_module_version": "1.5.0",
            "_view_name": "HBoxView",
            "box_style": "",
            "children": [
              "IPY_MODEL_549173e0483d4b55bf0c4c70277fb798",
              "IPY_MODEL_fa4f60d329794914af0584261ed672aa",
              "IPY_MODEL_705eba48198440378d46b55e6f459c14"
            ],
            "layout": "IPY_MODEL_3886ce308ce04387b857f093c4f187a0"
          }
        },
        "549173e0483d4b55bf0c4c70277fb798": {
          "model_module": "@jupyter-widgets/controls",
          "model_name": "HTMLModel",
          "model_module_version": "1.5.0",
          "state": {
            "_dom_classes": [],
            "_model_module": "@jupyter-widgets/controls",
            "_model_module_version": "1.5.0",
            "_model_name": "HTMLModel",
            "_view_count": null,
            "_view_module": "@jupyter-widgets/controls",
            "_view_module_version": "1.5.0",
            "_view_name": "HTMLView",
            "description": "",
            "description_tooltip": null,
            "layout": "IPY_MODEL_dfea82ff706540e4a3280be9ebcbc915",
            "placeholder": "​",
            "style": "IPY_MODEL_ec8106a9e9884c0099524a2d52af965b",
            "value": "added_tokens.json: 100%"
          }
        },
        "fa4f60d329794914af0584261ed672aa": {
          "model_module": "@jupyter-widgets/controls",
          "model_name": "FloatProgressModel",
          "model_module_version": "1.5.0",
          "state": {
            "_dom_classes": [],
            "_model_module": "@jupyter-widgets/controls",
            "_model_module_version": "1.5.0",
            "_model_name": "FloatProgressModel",
            "_view_count": null,
            "_view_module": "@jupyter-widgets/controls",
            "_view_module_version": "1.5.0",
            "_view_name": "ProgressView",
            "bar_style": "success",
            "description": "",
            "description_tooltip": null,
            "layout": "IPY_MODEL_0a2d170c167942f98767eca3cf7f8272",
            "max": 40,
            "min": 0,
            "orientation": "horizontal",
            "style": "IPY_MODEL_736dabdd22924482bb11b18e3abd0d6f",
            "value": 40
          }
        },
        "705eba48198440378d46b55e6f459c14": {
          "model_module": "@jupyter-widgets/controls",
          "model_name": "HTMLModel",
          "model_module_version": "1.5.0",
          "state": {
            "_dom_classes": [],
            "_model_module": "@jupyter-widgets/controls",
            "_model_module_version": "1.5.0",
            "_model_name": "HTMLModel",
            "_view_count": null,
            "_view_module": "@jupyter-widgets/controls",
            "_view_module_version": "1.5.0",
            "_view_name": "HTMLView",
            "description": "",
            "description_tooltip": null,
            "layout": "IPY_MODEL_04a0a69dc557463c8d0365abbe30b7fb",
            "placeholder": "​",
            "style": "IPY_MODEL_0593587b7fa14099b457e19b1ee091c2",
            "value": " 40.0/40.0 [00:00&lt;00:00, 2.86kB/s]"
          }
        },
        "3886ce308ce04387b857f093c4f187a0": {
          "model_module": "@jupyter-widgets/base",
          "model_name": "LayoutModel",
          "model_module_version": "1.2.0",
          "state": {
            "_model_module": "@jupyter-widgets/base",
            "_model_module_version": "1.2.0",
            "_model_name": "LayoutModel",
            "_view_count": null,
            "_view_module": "@jupyter-widgets/base",
            "_view_module_version": "1.2.0",
            "_view_name": "LayoutView",
            "align_content": null,
            "align_items": null,
            "align_self": null,
            "border": null,
            "bottom": null,
            "display": null,
            "flex": null,
            "flex_flow": null,
            "grid_area": null,
            "grid_auto_columns": null,
            "grid_auto_flow": null,
            "grid_auto_rows": null,
            "grid_column": null,
            "grid_gap": null,
            "grid_row": null,
            "grid_template_areas": null,
            "grid_template_columns": null,
            "grid_template_rows": null,
            "height": null,
            "justify_content": null,
            "justify_items": null,
            "left": null,
            "margin": null,
            "max_height": null,
            "max_width": null,
            "min_height": null,
            "min_width": null,
            "object_fit": null,
            "object_position": null,
            "order": null,
            "overflow": null,
            "overflow_x": null,
            "overflow_y": null,
            "padding": null,
            "right": null,
            "top": null,
            "visibility": null,
            "width": null
          }
        },
        "dfea82ff706540e4a3280be9ebcbc915": {
          "model_module": "@jupyter-widgets/base",
          "model_name": "LayoutModel",
          "model_module_version": "1.2.0",
          "state": {
            "_model_module": "@jupyter-widgets/base",
            "_model_module_version": "1.2.0",
            "_model_name": "LayoutModel",
            "_view_count": null,
            "_view_module": "@jupyter-widgets/base",
            "_view_module_version": "1.2.0",
            "_view_name": "LayoutView",
            "align_content": null,
            "align_items": null,
            "align_self": null,
            "border": null,
            "bottom": null,
            "display": null,
            "flex": null,
            "flex_flow": null,
            "grid_area": null,
            "grid_auto_columns": null,
            "grid_auto_flow": null,
            "grid_auto_rows": null,
            "grid_column": null,
            "grid_gap": null,
            "grid_row": null,
            "grid_template_areas": null,
            "grid_template_columns": null,
            "grid_template_rows": null,
            "height": null,
            "justify_content": null,
            "justify_items": null,
            "left": null,
            "margin": null,
            "max_height": null,
            "max_width": null,
            "min_height": null,
            "min_width": null,
            "object_fit": null,
            "object_position": null,
            "order": null,
            "overflow": null,
            "overflow_x": null,
            "overflow_y": null,
            "padding": null,
            "right": null,
            "top": null,
            "visibility": null,
            "width": null
          }
        },
        "ec8106a9e9884c0099524a2d52af965b": {
          "model_module": "@jupyter-widgets/controls",
          "model_name": "DescriptionStyleModel",
          "model_module_version": "1.5.0",
          "state": {
            "_model_module": "@jupyter-widgets/controls",
            "_model_module_version": "1.5.0",
            "_model_name": "DescriptionStyleModel",
            "_view_count": null,
            "_view_module": "@jupyter-widgets/base",
            "_view_module_version": "1.2.0",
            "_view_name": "StyleView",
            "description_width": ""
          }
        },
        "0a2d170c167942f98767eca3cf7f8272": {
          "model_module": "@jupyter-widgets/base",
          "model_name": "LayoutModel",
          "model_module_version": "1.2.0",
          "state": {
            "_model_module": "@jupyter-widgets/base",
            "_model_module_version": "1.2.0",
            "_model_name": "LayoutModel",
            "_view_count": null,
            "_view_module": "@jupyter-widgets/base",
            "_view_module_version": "1.2.0",
            "_view_name": "LayoutView",
            "align_content": null,
            "align_items": null,
            "align_self": null,
            "border": null,
            "bottom": null,
            "display": null,
            "flex": null,
            "flex_flow": null,
            "grid_area": null,
            "grid_auto_columns": null,
            "grid_auto_flow": null,
            "grid_auto_rows": null,
            "grid_column": null,
            "grid_gap": null,
            "grid_row": null,
            "grid_template_areas": null,
            "grid_template_columns": null,
            "grid_template_rows": null,
            "height": null,
            "justify_content": null,
            "justify_items": null,
            "left": null,
            "margin": null,
            "max_height": null,
            "max_width": null,
            "min_height": null,
            "min_width": null,
            "object_fit": null,
            "object_position": null,
            "order": null,
            "overflow": null,
            "overflow_x": null,
            "overflow_y": null,
            "padding": null,
            "right": null,
            "top": null,
            "visibility": null,
            "width": null
          }
        },
        "736dabdd22924482bb11b18e3abd0d6f": {
          "model_module": "@jupyter-widgets/controls",
          "model_name": "ProgressStyleModel",
          "model_module_version": "1.5.0",
          "state": {
            "_model_module": "@jupyter-widgets/controls",
            "_model_module_version": "1.5.0",
            "_model_name": "ProgressStyleModel",
            "_view_count": null,
            "_view_module": "@jupyter-widgets/base",
            "_view_module_version": "1.2.0",
            "_view_name": "StyleView",
            "bar_color": null,
            "description_width": ""
          }
        },
        "04a0a69dc557463c8d0365abbe30b7fb": {
          "model_module": "@jupyter-widgets/base",
          "model_name": "LayoutModel",
          "model_module_version": "1.2.0",
          "state": {
            "_model_module": "@jupyter-widgets/base",
            "_model_module_version": "1.2.0",
            "_model_name": "LayoutModel",
            "_view_count": null,
            "_view_module": "@jupyter-widgets/base",
            "_view_module_version": "1.2.0",
            "_view_name": "LayoutView",
            "align_content": null,
            "align_items": null,
            "align_self": null,
            "border": null,
            "bottom": null,
            "display": null,
            "flex": null,
            "flex_flow": null,
            "grid_area": null,
            "grid_auto_columns": null,
            "grid_auto_flow": null,
            "grid_auto_rows": null,
            "grid_column": null,
            "grid_gap": null,
            "grid_row": null,
            "grid_template_areas": null,
            "grid_template_columns": null,
            "grid_template_rows": null,
            "height": null,
            "justify_content": null,
            "justify_items": null,
            "left": null,
            "margin": null,
            "max_height": null,
            "max_width": null,
            "min_height": null,
            "min_width": null,
            "object_fit": null,
            "object_position": null,
            "order": null,
            "overflow": null,
            "overflow_x": null,
            "overflow_y": null,
            "padding": null,
            "right": null,
            "top": null,
            "visibility": null,
            "width": null
          }
        },
        "0593587b7fa14099b457e19b1ee091c2": {
          "model_module": "@jupyter-widgets/controls",
          "model_name": "DescriptionStyleModel",
          "model_module_version": "1.5.0",
          "state": {
            "_model_module": "@jupyter-widgets/controls",
            "_model_module_version": "1.5.0",
            "_model_name": "DescriptionStyleModel",
            "_view_count": null,
            "_view_module": "@jupyter-widgets/base",
            "_view_module_version": "1.2.0",
            "_view_name": "StyleView",
            "description_width": ""
          }
        },
        "b7705d0e1c20408ba75f847d48a62c41": {
          "model_module": "@jupyter-widgets/controls",
          "model_name": "HBoxModel",
          "model_module_version": "1.5.0",
          "state": {
            "_dom_classes": [],
            "_model_module": "@jupyter-widgets/controls",
            "_model_module_version": "1.5.0",
            "_model_name": "HBoxModel",
            "_view_count": null,
            "_view_module": "@jupyter-widgets/controls",
            "_view_module_version": "1.5.0",
            "_view_name": "HBoxView",
            "box_style": "",
            "children": [
              "IPY_MODEL_eb7baa9634e044b6a29bf6bf6867e984",
              "IPY_MODEL_7517bbe9660a494cb36c79e5fcd87ab5",
              "IPY_MODEL_9d3925093ffa4a5eaaf6b0ca514f87fe"
            ],
            "layout": "IPY_MODEL_4ae69140ea604fdb83c92ca0eb8fb982"
          }
        },
        "eb7baa9634e044b6a29bf6bf6867e984": {
          "model_module": "@jupyter-widgets/controls",
          "model_name": "HTMLModel",
          "model_module_version": "1.5.0",
          "state": {
            "_dom_classes": [],
            "_model_module": "@jupyter-widgets/controls",
            "_model_module_version": "1.5.0",
            "_model_name": "HTMLModel",
            "_view_count": null,
            "_view_module": "@jupyter-widgets/controls",
            "_view_module_version": "1.5.0",
            "_view_name": "HTMLView",
            "description": "",
            "description_tooltip": null,
            "layout": "IPY_MODEL_698328bdf71e49d5acff3c7014eed5c8",
            "placeholder": "​",
            "style": "IPY_MODEL_ead6739019ed4a8e8a148f53e8eef97e",
            "value": "special_tokens_map.json: 100%"
          }
        },
        "7517bbe9660a494cb36c79e5fcd87ab5": {
          "model_module": "@jupyter-widgets/controls",
          "model_name": "FloatProgressModel",
          "model_module_version": "1.5.0",
          "state": {
            "_dom_classes": [],
            "_model_module": "@jupyter-widgets/controls",
            "_model_module_version": "1.5.0",
            "_model_name": "FloatProgressModel",
            "_view_count": null,
            "_view_module": "@jupyter-widgets/controls",
            "_view_module_version": "1.5.0",
            "_view_name": "ProgressView",
            "bar_style": "success",
            "description": "",
            "description_tooltip": null,
            "layout": "IPY_MODEL_7a3b7d87e0ef4c259a7b6d290cc0126f",
            "max": 234,
            "min": 0,
            "orientation": "horizontal",
            "style": "IPY_MODEL_11bc9736b5d349d5b2451c5a6087ffd0",
            "value": 234
          }
        },
        "9d3925093ffa4a5eaaf6b0ca514f87fe": {
          "model_module": "@jupyter-widgets/controls",
          "model_name": "HTMLModel",
          "model_module_version": "1.5.0",
          "state": {
            "_dom_classes": [],
            "_model_module": "@jupyter-widgets/controls",
            "_model_module_version": "1.5.0",
            "_model_name": "HTMLModel",
            "_view_count": null,
            "_view_module": "@jupyter-widgets/controls",
            "_view_module_version": "1.5.0",
            "_view_name": "HTMLView",
            "description": "",
            "description_tooltip": null,
            "layout": "IPY_MODEL_0150b07e80484a29a0600aa1b6512ed6",
            "placeholder": "​",
            "style": "IPY_MODEL_bda3042d4ccd46828c6f090fb3637b3c",
            "value": " 234/234 [00:00&lt;00:00, 17.9kB/s]"
          }
        },
        "4ae69140ea604fdb83c92ca0eb8fb982": {
          "model_module": "@jupyter-widgets/base",
          "model_name": "LayoutModel",
          "model_module_version": "1.2.0",
          "state": {
            "_model_module": "@jupyter-widgets/base",
            "_model_module_version": "1.2.0",
            "_model_name": "LayoutModel",
            "_view_count": null,
            "_view_module": "@jupyter-widgets/base",
            "_view_module_version": "1.2.0",
            "_view_name": "LayoutView",
            "align_content": null,
            "align_items": null,
            "align_self": null,
            "border": null,
            "bottom": null,
            "display": null,
            "flex": null,
            "flex_flow": null,
            "grid_area": null,
            "grid_auto_columns": null,
            "grid_auto_flow": null,
            "grid_auto_rows": null,
            "grid_column": null,
            "grid_gap": null,
            "grid_row": null,
            "grid_template_areas": null,
            "grid_template_columns": null,
            "grid_template_rows": null,
            "height": null,
            "justify_content": null,
            "justify_items": null,
            "left": null,
            "margin": null,
            "max_height": null,
            "max_width": null,
            "min_height": null,
            "min_width": null,
            "object_fit": null,
            "object_position": null,
            "order": null,
            "overflow": null,
            "overflow_x": null,
            "overflow_y": null,
            "padding": null,
            "right": null,
            "top": null,
            "visibility": null,
            "width": null
          }
        },
        "698328bdf71e49d5acff3c7014eed5c8": {
          "model_module": "@jupyter-widgets/base",
          "model_name": "LayoutModel",
          "model_module_version": "1.2.0",
          "state": {
            "_model_module": "@jupyter-widgets/base",
            "_model_module_version": "1.2.0",
            "_model_name": "LayoutModel",
            "_view_count": null,
            "_view_module": "@jupyter-widgets/base",
            "_view_module_version": "1.2.0",
            "_view_name": "LayoutView",
            "align_content": null,
            "align_items": null,
            "align_self": null,
            "border": null,
            "bottom": null,
            "display": null,
            "flex": null,
            "flex_flow": null,
            "grid_area": null,
            "grid_auto_columns": null,
            "grid_auto_flow": null,
            "grid_auto_rows": null,
            "grid_column": null,
            "grid_gap": null,
            "grid_row": null,
            "grid_template_areas": null,
            "grid_template_columns": null,
            "grid_template_rows": null,
            "height": null,
            "justify_content": null,
            "justify_items": null,
            "left": null,
            "margin": null,
            "max_height": null,
            "max_width": null,
            "min_height": null,
            "min_width": null,
            "object_fit": null,
            "object_position": null,
            "order": null,
            "overflow": null,
            "overflow_x": null,
            "overflow_y": null,
            "padding": null,
            "right": null,
            "top": null,
            "visibility": null,
            "width": null
          }
        },
        "ead6739019ed4a8e8a148f53e8eef97e": {
          "model_module": "@jupyter-widgets/controls",
          "model_name": "DescriptionStyleModel",
          "model_module_version": "1.5.0",
          "state": {
            "_model_module": "@jupyter-widgets/controls",
            "_model_module_version": "1.5.0",
            "_model_name": "DescriptionStyleModel",
            "_view_count": null,
            "_view_module": "@jupyter-widgets/base",
            "_view_module_version": "1.2.0",
            "_view_name": "StyleView",
            "description_width": ""
          }
        },
        "7a3b7d87e0ef4c259a7b6d290cc0126f": {
          "model_module": "@jupyter-widgets/base",
          "model_name": "LayoutModel",
          "model_module_version": "1.2.0",
          "state": {
            "_model_module": "@jupyter-widgets/base",
            "_model_module_version": "1.2.0",
            "_model_name": "LayoutModel",
            "_view_count": null,
            "_view_module": "@jupyter-widgets/base",
            "_view_module_version": "1.2.0",
            "_view_name": "LayoutView",
            "align_content": null,
            "align_items": null,
            "align_self": null,
            "border": null,
            "bottom": null,
            "display": null,
            "flex": null,
            "flex_flow": null,
            "grid_area": null,
            "grid_auto_columns": null,
            "grid_auto_flow": null,
            "grid_auto_rows": null,
            "grid_column": null,
            "grid_gap": null,
            "grid_row": null,
            "grid_template_areas": null,
            "grid_template_columns": null,
            "grid_template_rows": null,
            "height": null,
            "justify_content": null,
            "justify_items": null,
            "left": null,
            "margin": null,
            "max_height": null,
            "max_width": null,
            "min_height": null,
            "min_width": null,
            "object_fit": null,
            "object_position": null,
            "order": null,
            "overflow": null,
            "overflow_x": null,
            "overflow_y": null,
            "padding": null,
            "right": null,
            "top": null,
            "visibility": null,
            "width": null
          }
        },
        "11bc9736b5d349d5b2451c5a6087ffd0": {
          "model_module": "@jupyter-widgets/controls",
          "model_name": "ProgressStyleModel",
          "model_module_version": "1.5.0",
          "state": {
            "_model_module": "@jupyter-widgets/controls",
            "_model_module_version": "1.5.0",
            "_model_name": "ProgressStyleModel",
            "_view_count": null,
            "_view_module": "@jupyter-widgets/base",
            "_view_module_version": "1.2.0",
            "_view_name": "StyleView",
            "bar_color": null,
            "description_width": ""
          }
        },
        "0150b07e80484a29a0600aa1b6512ed6": {
          "model_module": "@jupyter-widgets/base",
          "model_name": "LayoutModel",
          "model_module_version": "1.2.0",
          "state": {
            "_model_module": "@jupyter-widgets/base",
            "_model_module_version": "1.2.0",
            "_model_name": "LayoutModel",
            "_view_count": null,
            "_view_module": "@jupyter-widgets/base",
            "_view_module_version": "1.2.0",
            "_view_name": "LayoutView",
            "align_content": null,
            "align_items": null,
            "align_self": null,
            "border": null,
            "bottom": null,
            "display": null,
            "flex": null,
            "flex_flow": null,
            "grid_area": null,
            "grid_auto_columns": null,
            "grid_auto_flow": null,
            "grid_auto_rows": null,
            "grid_column": null,
            "grid_gap": null,
            "grid_row": null,
            "grid_template_areas": null,
            "grid_template_columns": null,
            "grid_template_rows": null,
            "height": null,
            "justify_content": null,
            "justify_items": null,
            "left": null,
            "margin": null,
            "max_height": null,
            "max_width": null,
            "min_height": null,
            "min_width": null,
            "object_fit": null,
            "object_position": null,
            "order": null,
            "overflow": null,
            "overflow_x": null,
            "overflow_y": null,
            "padding": null,
            "right": null,
            "top": null,
            "visibility": null,
            "width": null
          }
        },
        "bda3042d4ccd46828c6f090fb3637b3c": {
          "model_module": "@jupyter-widgets/controls",
          "model_name": "DescriptionStyleModel",
          "model_module_version": "1.5.0",
          "state": {
            "_model_module": "@jupyter-widgets/controls",
            "_model_module_version": "1.5.0",
            "_model_name": "DescriptionStyleModel",
            "_view_count": null,
            "_view_module": "@jupyter-widgets/base",
            "_view_module_version": "1.2.0",
            "_view_name": "StyleView",
            "description_width": ""
          }
        },
        "c60f849b028e4c9dad5e699fb1b00f2b": {
          "model_module": "@jupyter-widgets/controls",
          "model_name": "HBoxModel",
          "model_module_version": "1.5.0",
          "state": {
            "_dom_classes": [],
            "_model_module": "@jupyter-widgets/controls",
            "_model_module_version": "1.5.0",
            "_model_name": "HBoxModel",
            "_view_count": null,
            "_view_module": "@jupyter-widgets/controls",
            "_view_module_version": "1.5.0",
            "_view_name": "HBoxView",
            "box_style": "",
            "children": [
              "IPY_MODEL_b70bbb84d0d84cf1a7dea39ed5edb9de",
              "IPY_MODEL_0e85e5b9c0d345cea49b854fbdd5eb57",
              "IPY_MODEL_5ac3754af39b4e8e8b2f1ac8dad94f85"
            ],
            "layout": "IPY_MODEL_1785c69a7417469dae532502ec731687"
          }
        },
        "b70bbb84d0d84cf1a7dea39ed5edb9de": {
          "model_module": "@jupyter-widgets/controls",
          "model_name": "HTMLModel",
          "model_module_version": "1.5.0",
          "state": {
            "_dom_classes": [],
            "_model_module": "@jupyter-widgets/controls",
            "_model_module_version": "1.5.0",
            "_model_name": "HTMLModel",
            "_view_count": null,
            "_view_module": "@jupyter-widgets/controls",
            "_view_module_version": "1.5.0",
            "_view_name": "HTMLView",
            "description": "",
            "description_tooltip": null,
            "layout": "IPY_MODEL_c2d306ae913d4c5b9c369b976f36f74c",
            "placeholder": "​",
            "style": "IPY_MODEL_0bb5c00d8356434d981eb7215ebb129b",
            "value": "Map: 100%"
          }
        },
        "0e85e5b9c0d345cea49b854fbdd5eb57": {
          "model_module": "@jupyter-widgets/controls",
          "model_name": "FloatProgressModel",
          "model_module_version": "1.5.0",
          "state": {
            "_dom_classes": [],
            "_model_module": "@jupyter-widgets/controls",
            "_model_module_version": "1.5.0",
            "_model_name": "FloatProgressModel",
            "_view_count": null,
            "_view_module": "@jupyter-widgets/controls",
            "_view_module_version": "1.5.0",
            "_view_name": "ProgressView",
            "bar_style": "success",
            "description": "",
            "description_tooltip": null,
            "layout": "IPY_MODEL_f3a19a22da734298b687c420081c1796",
            "max": 1000,
            "min": 0,
            "orientation": "horizontal",
            "style": "IPY_MODEL_91d5a4cf771c45ef883e684b45f59483",
            "value": 1000
          }
        },
        "5ac3754af39b4e8e8b2f1ac8dad94f85": {
          "model_module": "@jupyter-widgets/controls",
          "model_name": "HTMLModel",
          "model_module_version": "1.5.0",
          "state": {
            "_dom_classes": [],
            "_model_module": "@jupyter-widgets/controls",
            "_model_module_version": "1.5.0",
            "_model_name": "HTMLModel",
            "_view_count": null,
            "_view_module": "@jupyter-widgets/controls",
            "_view_module_version": "1.5.0",
            "_view_name": "HTMLView",
            "description": "",
            "description_tooltip": null,
            "layout": "IPY_MODEL_83078eaaeb7f44d089f81ec7e7660bba",
            "placeholder": "​",
            "style": "IPY_MODEL_28c2df5a985541bbbdd72cba1e24f2a1",
            "value": " 1000/1000 [00:00&lt;00:00, 20849.34 examples/s]"
          }
        },
        "1785c69a7417469dae532502ec731687": {
          "model_module": "@jupyter-widgets/base",
          "model_name": "LayoutModel",
          "model_module_version": "1.2.0",
          "state": {
            "_model_module": "@jupyter-widgets/base",
            "_model_module_version": "1.2.0",
            "_model_name": "LayoutModel",
            "_view_count": null,
            "_view_module": "@jupyter-widgets/base",
            "_view_module_version": "1.2.0",
            "_view_name": "LayoutView",
            "align_content": null,
            "align_items": null,
            "align_self": null,
            "border": null,
            "bottom": null,
            "display": null,
            "flex": null,
            "flex_flow": null,
            "grid_area": null,
            "grid_auto_columns": null,
            "grid_auto_flow": null,
            "grid_auto_rows": null,
            "grid_column": null,
            "grid_gap": null,
            "grid_row": null,
            "grid_template_areas": null,
            "grid_template_columns": null,
            "grid_template_rows": null,
            "height": null,
            "justify_content": null,
            "justify_items": null,
            "left": null,
            "margin": null,
            "max_height": null,
            "max_width": null,
            "min_height": null,
            "min_width": null,
            "object_fit": null,
            "object_position": null,
            "order": null,
            "overflow": null,
            "overflow_x": null,
            "overflow_y": null,
            "padding": null,
            "right": null,
            "top": null,
            "visibility": null,
            "width": null
          }
        },
        "c2d306ae913d4c5b9c369b976f36f74c": {
          "model_module": "@jupyter-widgets/base",
          "model_name": "LayoutModel",
          "model_module_version": "1.2.0",
          "state": {
            "_model_module": "@jupyter-widgets/base",
            "_model_module_version": "1.2.0",
            "_model_name": "LayoutModel",
            "_view_count": null,
            "_view_module": "@jupyter-widgets/base",
            "_view_module_version": "1.2.0",
            "_view_name": "LayoutView",
            "align_content": null,
            "align_items": null,
            "align_self": null,
            "border": null,
            "bottom": null,
            "display": null,
            "flex": null,
            "flex_flow": null,
            "grid_area": null,
            "grid_auto_columns": null,
            "grid_auto_flow": null,
            "grid_auto_rows": null,
            "grid_column": null,
            "grid_gap": null,
            "grid_row": null,
            "grid_template_areas": null,
            "grid_template_columns": null,
            "grid_template_rows": null,
            "height": null,
            "justify_content": null,
            "justify_items": null,
            "left": null,
            "margin": null,
            "max_height": null,
            "max_width": null,
            "min_height": null,
            "min_width": null,
            "object_fit": null,
            "object_position": null,
            "order": null,
            "overflow": null,
            "overflow_x": null,
            "overflow_y": null,
            "padding": null,
            "right": null,
            "top": null,
            "visibility": null,
            "width": null
          }
        },
        "0bb5c00d8356434d981eb7215ebb129b": {
          "model_module": "@jupyter-widgets/controls",
          "model_name": "DescriptionStyleModel",
          "model_module_version": "1.5.0",
          "state": {
            "_model_module": "@jupyter-widgets/controls",
            "_model_module_version": "1.5.0",
            "_model_name": "DescriptionStyleModel",
            "_view_count": null,
            "_view_module": "@jupyter-widgets/base",
            "_view_module_version": "1.2.0",
            "_view_name": "StyleView",
            "description_width": ""
          }
        },
        "f3a19a22da734298b687c420081c1796": {
          "model_module": "@jupyter-widgets/base",
          "model_name": "LayoutModel",
          "model_module_version": "1.2.0",
          "state": {
            "_model_module": "@jupyter-widgets/base",
            "_model_module_version": "1.2.0",
            "_model_name": "LayoutModel",
            "_view_count": null,
            "_view_module": "@jupyter-widgets/base",
            "_view_module_version": "1.2.0",
            "_view_name": "LayoutView",
            "align_content": null,
            "align_items": null,
            "align_self": null,
            "border": null,
            "bottom": null,
            "display": null,
            "flex": null,
            "flex_flow": null,
            "grid_area": null,
            "grid_auto_columns": null,
            "grid_auto_flow": null,
            "grid_auto_rows": null,
            "grid_column": null,
            "grid_gap": null,
            "grid_row": null,
            "grid_template_areas": null,
            "grid_template_columns": null,
            "grid_template_rows": null,
            "height": null,
            "justify_content": null,
            "justify_items": null,
            "left": null,
            "margin": null,
            "max_height": null,
            "max_width": null,
            "min_height": null,
            "min_width": null,
            "object_fit": null,
            "object_position": null,
            "order": null,
            "overflow": null,
            "overflow_x": null,
            "overflow_y": null,
            "padding": null,
            "right": null,
            "top": null,
            "visibility": null,
            "width": null
          }
        },
        "91d5a4cf771c45ef883e684b45f59483": {
          "model_module": "@jupyter-widgets/controls",
          "model_name": "ProgressStyleModel",
          "model_module_version": "1.5.0",
          "state": {
            "_model_module": "@jupyter-widgets/controls",
            "_model_module_version": "1.5.0",
            "_model_name": "ProgressStyleModel",
            "_view_count": null,
            "_view_module": "@jupyter-widgets/base",
            "_view_module_version": "1.2.0",
            "_view_name": "StyleView",
            "bar_color": null,
            "description_width": ""
          }
        },
        "83078eaaeb7f44d089f81ec7e7660bba": {
          "model_module": "@jupyter-widgets/base",
          "model_name": "LayoutModel",
          "model_module_version": "1.2.0",
          "state": {
            "_model_module": "@jupyter-widgets/base",
            "_model_module_version": "1.2.0",
            "_model_name": "LayoutModel",
            "_view_count": null,
            "_view_module": "@jupyter-widgets/base",
            "_view_module_version": "1.2.0",
            "_view_name": "LayoutView",
            "align_content": null,
            "align_items": null,
            "align_self": null,
            "border": null,
            "bottom": null,
            "display": null,
            "flex": null,
            "flex_flow": null,
            "grid_area": null,
            "grid_auto_columns": null,
            "grid_auto_flow": null,
            "grid_auto_rows": null,
            "grid_column": null,
            "grid_gap": null,
            "grid_row": null,
            "grid_template_areas": null,
            "grid_template_columns": null,
            "grid_template_rows": null,
            "height": null,
            "justify_content": null,
            "justify_items": null,
            "left": null,
            "margin": null,
            "max_height": null,
            "max_width": null,
            "min_height": null,
            "min_width": null,
            "object_fit": null,
            "object_position": null,
            "order": null,
            "overflow": null,
            "overflow_x": null,
            "overflow_y": null,
            "padding": null,
            "right": null,
            "top": null,
            "visibility": null,
            "width": null
          }
        },
        "28c2df5a985541bbbdd72cba1e24f2a1": {
          "model_module": "@jupyter-widgets/controls",
          "model_name": "DescriptionStyleModel",
          "model_module_version": "1.5.0",
          "state": {
            "_model_module": "@jupyter-widgets/controls",
            "_model_module_version": "1.5.0",
            "_model_name": "DescriptionStyleModel",
            "_view_count": null,
            "_view_module": "@jupyter-widgets/base",
            "_view_module_version": "1.2.0",
            "_view_name": "StyleView",
            "description_width": ""
          }
        },
        "c2ac87baf3444ed0ad43491eaf0c327d": {
          "model_module": "@jupyter-widgets/controls",
          "model_name": "HBoxModel",
          "model_module_version": "1.5.0",
          "state": {
            "_dom_classes": [],
            "_model_module": "@jupyter-widgets/controls",
            "_model_module_version": "1.5.0",
            "_model_name": "HBoxModel",
            "_view_count": null,
            "_view_module": "@jupyter-widgets/controls",
            "_view_module_version": "1.5.0",
            "_view_name": "HBoxView",
            "box_style": "",
            "children": [
              "IPY_MODEL_b8981f89394c498d92f99d1f6a0d1f45",
              "IPY_MODEL_b2bdd144f89845ba8ba1c6ff7f788be7",
              "IPY_MODEL_18935eae462d4b0ba2d05c1ddbba967a"
            ],
            "layout": "IPY_MODEL_d01b7d9c979c41d497d3b59012cf02a1"
          }
        },
        "b8981f89394c498d92f99d1f6a0d1f45": {
          "model_module": "@jupyter-widgets/controls",
          "model_name": "HTMLModel",
          "model_module_version": "1.5.0",
          "state": {
            "_dom_classes": [],
            "_model_module": "@jupyter-widgets/controls",
            "_model_module_version": "1.5.0",
            "_model_name": "HTMLModel",
            "_view_count": null,
            "_view_module": "@jupyter-widgets/controls",
            "_view_module_version": "1.5.0",
            "_view_name": "HTMLView",
            "description": "",
            "description_tooltip": null,
            "layout": "IPY_MODEL_a07ba035602543b5a634a8990765e7dd",
            "placeholder": "​",
            "style": "IPY_MODEL_c8b6e9c015af4336b378c2d5a8966c89",
            "value": "hyperparams.yaml: 100%"
          }
        },
        "b2bdd144f89845ba8ba1c6ff7f788be7": {
          "model_module": "@jupyter-widgets/controls",
          "model_name": "FloatProgressModel",
          "model_module_version": "1.5.0",
          "state": {
            "_dom_classes": [],
            "_model_module": "@jupyter-widgets/controls",
            "_model_module_version": "1.5.0",
            "_model_name": "FloatProgressModel",
            "_view_count": null,
            "_view_module": "@jupyter-widgets/controls",
            "_view_module_version": "1.5.0",
            "_view_name": "ProgressView",
            "bar_style": "success",
            "description": "",
            "description_tooltip": null,
            "layout": "IPY_MODEL_d25d5304a17d4029b5b0ffacb4788fa7",
            "max": 2041,
            "min": 0,
            "orientation": "horizontal",
            "style": "IPY_MODEL_d2a84d068a9b45bea628a43289465de6",
            "value": 2041
          }
        },
        "18935eae462d4b0ba2d05c1ddbba967a": {
          "model_module": "@jupyter-widgets/controls",
          "model_name": "HTMLModel",
          "model_module_version": "1.5.0",
          "state": {
            "_dom_classes": [],
            "_model_module": "@jupyter-widgets/controls",
            "_model_module_version": "1.5.0",
            "_model_name": "HTMLModel",
            "_view_count": null,
            "_view_module": "@jupyter-widgets/controls",
            "_view_module_version": "1.5.0",
            "_view_name": "HTMLView",
            "description": "",
            "description_tooltip": null,
            "layout": "IPY_MODEL_bc95b60b75fb4ba780a963c310febdb6",
            "placeholder": "​",
            "style": "IPY_MODEL_29c6ce8fb2e3417ebca701acc6300cce",
            "value": " 2.04k/2.04k [00:00&lt;00:00, 117kB/s]"
          }
        },
        "d01b7d9c979c41d497d3b59012cf02a1": {
          "model_module": "@jupyter-widgets/base",
          "model_name": "LayoutModel",
          "model_module_version": "1.2.0",
          "state": {
            "_model_module": "@jupyter-widgets/base",
            "_model_module_version": "1.2.0",
            "_model_name": "LayoutModel",
            "_view_count": null,
            "_view_module": "@jupyter-widgets/base",
            "_view_module_version": "1.2.0",
            "_view_name": "LayoutView",
            "align_content": null,
            "align_items": null,
            "align_self": null,
            "border": null,
            "bottom": null,
            "display": null,
            "flex": null,
            "flex_flow": null,
            "grid_area": null,
            "grid_auto_columns": null,
            "grid_auto_flow": null,
            "grid_auto_rows": null,
            "grid_column": null,
            "grid_gap": null,
            "grid_row": null,
            "grid_template_areas": null,
            "grid_template_columns": null,
            "grid_template_rows": null,
            "height": null,
            "justify_content": null,
            "justify_items": null,
            "left": null,
            "margin": null,
            "max_height": null,
            "max_width": null,
            "min_height": null,
            "min_width": null,
            "object_fit": null,
            "object_position": null,
            "order": null,
            "overflow": null,
            "overflow_x": null,
            "overflow_y": null,
            "padding": null,
            "right": null,
            "top": null,
            "visibility": null,
            "width": null
          }
        },
        "a07ba035602543b5a634a8990765e7dd": {
          "model_module": "@jupyter-widgets/base",
          "model_name": "LayoutModel",
          "model_module_version": "1.2.0",
          "state": {
            "_model_module": "@jupyter-widgets/base",
            "_model_module_version": "1.2.0",
            "_model_name": "LayoutModel",
            "_view_count": null,
            "_view_module": "@jupyter-widgets/base",
            "_view_module_version": "1.2.0",
            "_view_name": "LayoutView",
            "align_content": null,
            "align_items": null,
            "align_self": null,
            "border": null,
            "bottom": null,
            "display": null,
            "flex": null,
            "flex_flow": null,
            "grid_area": null,
            "grid_auto_columns": null,
            "grid_auto_flow": null,
            "grid_auto_rows": null,
            "grid_column": null,
            "grid_gap": null,
            "grid_row": null,
            "grid_template_areas": null,
            "grid_template_columns": null,
            "grid_template_rows": null,
            "height": null,
            "justify_content": null,
            "justify_items": null,
            "left": null,
            "margin": null,
            "max_height": null,
            "max_width": null,
            "min_height": null,
            "min_width": null,
            "object_fit": null,
            "object_position": null,
            "order": null,
            "overflow": null,
            "overflow_x": null,
            "overflow_y": null,
            "padding": null,
            "right": null,
            "top": null,
            "visibility": null,
            "width": null
          }
        },
        "c8b6e9c015af4336b378c2d5a8966c89": {
          "model_module": "@jupyter-widgets/controls",
          "model_name": "DescriptionStyleModel",
          "model_module_version": "1.5.0",
          "state": {
            "_model_module": "@jupyter-widgets/controls",
            "_model_module_version": "1.5.0",
            "_model_name": "DescriptionStyleModel",
            "_view_count": null,
            "_view_module": "@jupyter-widgets/base",
            "_view_module_version": "1.2.0",
            "_view_name": "StyleView",
            "description_width": ""
          }
        },
        "d25d5304a17d4029b5b0ffacb4788fa7": {
          "model_module": "@jupyter-widgets/base",
          "model_name": "LayoutModel",
          "model_module_version": "1.2.0",
          "state": {
            "_model_module": "@jupyter-widgets/base",
            "_model_module_version": "1.2.0",
            "_model_name": "LayoutModel",
            "_view_count": null,
            "_view_module": "@jupyter-widgets/base",
            "_view_module_version": "1.2.0",
            "_view_name": "LayoutView",
            "align_content": null,
            "align_items": null,
            "align_self": null,
            "border": null,
            "bottom": null,
            "display": null,
            "flex": null,
            "flex_flow": null,
            "grid_area": null,
            "grid_auto_columns": null,
            "grid_auto_flow": null,
            "grid_auto_rows": null,
            "grid_column": null,
            "grid_gap": null,
            "grid_row": null,
            "grid_template_areas": null,
            "grid_template_columns": null,
            "grid_template_rows": null,
            "height": null,
            "justify_content": null,
            "justify_items": null,
            "left": null,
            "margin": null,
            "max_height": null,
            "max_width": null,
            "min_height": null,
            "min_width": null,
            "object_fit": null,
            "object_position": null,
            "order": null,
            "overflow": null,
            "overflow_x": null,
            "overflow_y": null,
            "padding": null,
            "right": null,
            "top": null,
            "visibility": null,
            "width": null
          }
        },
        "d2a84d068a9b45bea628a43289465de6": {
          "model_module": "@jupyter-widgets/controls",
          "model_name": "ProgressStyleModel",
          "model_module_version": "1.5.0",
          "state": {
            "_model_module": "@jupyter-widgets/controls",
            "_model_module_version": "1.5.0",
            "_model_name": "ProgressStyleModel",
            "_view_count": null,
            "_view_module": "@jupyter-widgets/base",
            "_view_module_version": "1.2.0",
            "_view_name": "StyleView",
            "bar_color": null,
            "description_width": ""
          }
        },
        "bc95b60b75fb4ba780a963c310febdb6": {
          "model_module": "@jupyter-widgets/base",
          "model_name": "LayoutModel",
          "model_module_version": "1.2.0",
          "state": {
            "_model_module": "@jupyter-widgets/base",
            "_model_module_version": "1.2.0",
            "_model_name": "LayoutModel",
            "_view_count": null,
            "_view_module": "@jupyter-widgets/base",
            "_view_module_version": "1.2.0",
            "_view_name": "LayoutView",
            "align_content": null,
            "align_items": null,
            "align_self": null,
            "border": null,
            "bottom": null,
            "display": null,
            "flex": null,
            "flex_flow": null,
            "grid_area": null,
            "grid_auto_columns": null,
            "grid_auto_flow": null,
            "grid_auto_rows": null,
            "grid_column": null,
            "grid_gap": null,
            "grid_row": null,
            "grid_template_areas": null,
            "grid_template_columns": null,
            "grid_template_rows": null,
            "height": null,
            "justify_content": null,
            "justify_items": null,
            "left": null,
            "margin": null,
            "max_height": null,
            "max_width": null,
            "min_height": null,
            "min_width": null,
            "object_fit": null,
            "object_position": null,
            "order": null,
            "overflow": null,
            "overflow_x": null,
            "overflow_y": null,
            "padding": null,
            "right": null,
            "top": null,
            "visibility": null,
            "width": null
          }
        },
        "29c6ce8fb2e3417ebca701acc6300cce": {
          "model_module": "@jupyter-widgets/controls",
          "model_name": "DescriptionStyleModel",
          "model_module_version": "1.5.0",
          "state": {
            "_model_module": "@jupyter-widgets/controls",
            "_model_module_version": "1.5.0",
            "_model_name": "DescriptionStyleModel",
            "_view_count": null,
            "_view_module": "@jupyter-widgets/base",
            "_view_module_version": "1.2.0",
            "_view_name": "StyleView",
            "description_width": ""
          }
        },
        "63c9ae4df3ca4f2bba447262a51ab583": {
          "model_module": "@jupyter-widgets/controls",
          "model_name": "HBoxModel",
          "model_module_version": "1.5.0",
          "state": {
            "_dom_classes": [],
            "_model_module": "@jupyter-widgets/controls",
            "_model_module_version": "1.5.0",
            "_model_name": "HBoxModel",
            "_view_count": null,
            "_view_module": "@jupyter-widgets/controls",
            "_view_module_version": "1.5.0",
            "_view_name": "HBoxView",
            "box_style": "",
            "children": [
              "IPY_MODEL_ad417312dae04ffe9f2b831e056f7e3f",
              "IPY_MODEL_43752dfc791a4050b5cd4599f0cd8a97",
              "IPY_MODEL_bff25843ca8b457897053761f301f546"
            ],
            "layout": "IPY_MODEL_446faf7c41194a9b9393625a790805aa"
          }
        },
        "ad417312dae04ffe9f2b831e056f7e3f": {
          "model_module": "@jupyter-widgets/controls",
          "model_name": "HTMLModel",
          "model_module_version": "1.5.0",
          "state": {
            "_dom_classes": [],
            "_model_module": "@jupyter-widgets/controls",
            "_model_module_version": "1.5.0",
            "_model_name": "HTMLModel",
            "_view_count": null,
            "_view_module": "@jupyter-widgets/controls",
            "_view_module_version": "1.5.0",
            "_view_name": "HTMLView",
            "description": "",
            "description_tooltip": null,
            "layout": "IPY_MODEL_9e829dd4c6874691bdacc9b7d2fe3d3a",
            "placeholder": "​",
            "style": "IPY_MODEL_416eeea9a89f4a8c8e0830152ff9bbee",
            "value": "embedding_model.ckpt: 100%"
          }
        },
        "43752dfc791a4050b5cd4599f0cd8a97": {
          "model_module": "@jupyter-widgets/controls",
          "model_name": "FloatProgressModel",
          "model_module_version": "1.5.0",
          "state": {
            "_dom_classes": [],
            "_model_module": "@jupyter-widgets/controls",
            "_model_module_version": "1.5.0",
            "_model_name": "FloatProgressModel",
            "_view_count": null,
            "_view_module": "@jupyter-widgets/controls",
            "_view_module_version": "1.5.0",
            "_view_name": "ProgressView",
            "bar_style": "success",
            "description": "",
            "description_tooltip": null,
            "layout": "IPY_MODEL_5c714262e8ea445bb727611022bfc236",
            "max": 16887676,
            "min": 0,
            "orientation": "horizontal",
            "style": "IPY_MODEL_622e4be91c874c9c9cba810387d93108",
            "value": 16887676
          }
        },
        "bff25843ca8b457897053761f301f546": {
          "model_module": "@jupyter-widgets/controls",
          "model_name": "HTMLModel",
          "model_module_version": "1.5.0",
          "state": {
            "_dom_classes": [],
            "_model_module": "@jupyter-widgets/controls",
            "_model_module_version": "1.5.0",
            "_model_name": "HTMLModel",
            "_view_count": null,
            "_view_module": "@jupyter-widgets/controls",
            "_view_module_version": "1.5.0",
            "_view_name": "HTMLView",
            "description": "",
            "description_tooltip": null,
            "layout": "IPY_MODEL_3416a0368b9d4ea69fc6c8b40fbebdee",
            "placeholder": "​",
            "style": "IPY_MODEL_92017722e53647aab29630ab315143b2",
            "value": " 16.9M/16.9M [00:00&lt;00:00, 96.3MB/s]"
          }
        },
        "446faf7c41194a9b9393625a790805aa": {
          "model_module": "@jupyter-widgets/base",
          "model_name": "LayoutModel",
          "model_module_version": "1.2.0",
          "state": {
            "_model_module": "@jupyter-widgets/base",
            "_model_module_version": "1.2.0",
            "_model_name": "LayoutModel",
            "_view_count": null,
            "_view_module": "@jupyter-widgets/base",
            "_view_module_version": "1.2.0",
            "_view_name": "LayoutView",
            "align_content": null,
            "align_items": null,
            "align_self": null,
            "border": null,
            "bottom": null,
            "display": null,
            "flex": null,
            "flex_flow": null,
            "grid_area": null,
            "grid_auto_columns": null,
            "grid_auto_flow": null,
            "grid_auto_rows": null,
            "grid_column": null,
            "grid_gap": null,
            "grid_row": null,
            "grid_template_areas": null,
            "grid_template_columns": null,
            "grid_template_rows": null,
            "height": null,
            "justify_content": null,
            "justify_items": null,
            "left": null,
            "margin": null,
            "max_height": null,
            "max_width": null,
            "min_height": null,
            "min_width": null,
            "object_fit": null,
            "object_position": null,
            "order": null,
            "overflow": null,
            "overflow_x": null,
            "overflow_y": null,
            "padding": null,
            "right": null,
            "top": null,
            "visibility": null,
            "width": null
          }
        },
        "9e829dd4c6874691bdacc9b7d2fe3d3a": {
          "model_module": "@jupyter-widgets/base",
          "model_name": "LayoutModel",
          "model_module_version": "1.2.0",
          "state": {
            "_model_module": "@jupyter-widgets/base",
            "_model_module_version": "1.2.0",
            "_model_name": "LayoutModel",
            "_view_count": null,
            "_view_module": "@jupyter-widgets/base",
            "_view_module_version": "1.2.0",
            "_view_name": "LayoutView",
            "align_content": null,
            "align_items": null,
            "align_self": null,
            "border": null,
            "bottom": null,
            "display": null,
            "flex": null,
            "flex_flow": null,
            "grid_area": null,
            "grid_auto_columns": null,
            "grid_auto_flow": null,
            "grid_auto_rows": null,
            "grid_column": null,
            "grid_gap": null,
            "grid_row": null,
            "grid_template_areas": null,
            "grid_template_columns": null,
            "grid_template_rows": null,
            "height": null,
            "justify_content": null,
            "justify_items": null,
            "left": null,
            "margin": null,
            "max_height": null,
            "max_width": null,
            "min_height": null,
            "min_width": null,
            "object_fit": null,
            "object_position": null,
            "order": null,
            "overflow": null,
            "overflow_x": null,
            "overflow_y": null,
            "padding": null,
            "right": null,
            "top": null,
            "visibility": null,
            "width": null
          }
        },
        "416eeea9a89f4a8c8e0830152ff9bbee": {
          "model_module": "@jupyter-widgets/controls",
          "model_name": "DescriptionStyleModel",
          "model_module_version": "1.5.0",
          "state": {
            "_model_module": "@jupyter-widgets/controls",
            "_model_module_version": "1.5.0",
            "_model_name": "DescriptionStyleModel",
            "_view_count": null,
            "_view_module": "@jupyter-widgets/base",
            "_view_module_version": "1.2.0",
            "_view_name": "StyleView",
            "description_width": ""
          }
        },
        "5c714262e8ea445bb727611022bfc236": {
          "model_module": "@jupyter-widgets/base",
          "model_name": "LayoutModel",
          "model_module_version": "1.2.0",
          "state": {
            "_model_module": "@jupyter-widgets/base",
            "_model_module_version": "1.2.0",
            "_model_name": "LayoutModel",
            "_view_count": null,
            "_view_module": "@jupyter-widgets/base",
            "_view_module_version": "1.2.0",
            "_view_name": "LayoutView",
            "align_content": null,
            "align_items": null,
            "align_self": null,
            "border": null,
            "bottom": null,
            "display": null,
            "flex": null,
            "flex_flow": null,
            "grid_area": null,
            "grid_auto_columns": null,
            "grid_auto_flow": null,
            "grid_auto_rows": null,
            "grid_column": null,
            "grid_gap": null,
            "grid_row": null,
            "grid_template_areas": null,
            "grid_template_columns": null,
            "grid_template_rows": null,
            "height": null,
            "justify_content": null,
            "justify_items": null,
            "left": null,
            "margin": null,
            "max_height": null,
            "max_width": null,
            "min_height": null,
            "min_width": null,
            "object_fit": null,
            "object_position": null,
            "order": null,
            "overflow": null,
            "overflow_x": null,
            "overflow_y": null,
            "padding": null,
            "right": null,
            "top": null,
            "visibility": null,
            "width": null
          }
        },
        "622e4be91c874c9c9cba810387d93108": {
          "model_module": "@jupyter-widgets/controls",
          "model_name": "ProgressStyleModel",
          "model_module_version": "1.5.0",
          "state": {
            "_model_module": "@jupyter-widgets/controls",
            "_model_module_version": "1.5.0",
            "_model_name": "ProgressStyleModel",
            "_view_count": null,
            "_view_module": "@jupyter-widgets/base",
            "_view_module_version": "1.2.0",
            "_view_name": "StyleView",
            "bar_color": null,
            "description_width": ""
          }
        },
        "3416a0368b9d4ea69fc6c8b40fbebdee": {
          "model_module": "@jupyter-widgets/base",
          "model_name": "LayoutModel",
          "model_module_version": "1.2.0",
          "state": {
            "_model_module": "@jupyter-widgets/base",
            "_model_module_version": "1.2.0",
            "_model_name": "LayoutModel",
            "_view_count": null,
            "_view_module": "@jupyter-widgets/base",
            "_view_module_version": "1.2.0",
            "_view_name": "LayoutView",
            "align_content": null,
            "align_items": null,
            "align_self": null,
            "border": null,
            "bottom": null,
            "display": null,
            "flex": null,
            "flex_flow": null,
            "grid_area": null,
            "grid_auto_columns": null,
            "grid_auto_flow": null,
            "grid_auto_rows": null,
            "grid_column": null,
            "grid_gap": null,
            "grid_row": null,
            "grid_template_areas": null,
            "grid_template_columns": null,
            "grid_template_rows": null,
            "height": null,
            "justify_content": null,
            "justify_items": null,
            "left": null,
            "margin": null,
            "max_height": null,
            "max_width": null,
            "min_height": null,
            "min_width": null,
            "object_fit": null,
            "object_position": null,
            "order": null,
            "overflow": null,
            "overflow_x": null,
            "overflow_y": null,
            "padding": null,
            "right": null,
            "top": null,
            "visibility": null,
            "width": null
          }
        },
        "92017722e53647aab29630ab315143b2": {
          "model_module": "@jupyter-widgets/controls",
          "model_name": "DescriptionStyleModel",
          "model_module_version": "1.5.0",
          "state": {
            "_model_module": "@jupyter-widgets/controls",
            "_model_module_version": "1.5.0",
            "_model_name": "DescriptionStyleModel",
            "_view_count": null,
            "_view_module": "@jupyter-widgets/base",
            "_view_module_version": "1.2.0",
            "_view_name": "StyleView",
            "description_width": ""
          }
        },
        "b47b7f93e8ab49d1b35c31af900e8e8b": {
          "model_module": "@jupyter-widgets/controls",
          "model_name": "HBoxModel",
          "model_module_version": "1.5.0",
          "state": {
            "_dom_classes": [],
            "_model_module": "@jupyter-widgets/controls",
            "_model_module_version": "1.5.0",
            "_model_name": "HBoxModel",
            "_view_count": null,
            "_view_module": "@jupyter-widgets/controls",
            "_view_module_version": "1.5.0",
            "_view_name": "HBoxView",
            "box_style": "",
            "children": [
              "IPY_MODEL_faa627afcd4b432fb7805fb7ab0f73ec",
              "IPY_MODEL_22b621865b444e0d81a1ea854a153c45",
              "IPY_MODEL_c6105e4d16944880aed34fb79db4a4a7"
            ],
            "layout": "IPY_MODEL_faa1bd1920444846a4cf673f1dd0bb7b"
          }
        },
        "faa627afcd4b432fb7805fb7ab0f73ec": {
          "model_module": "@jupyter-widgets/controls",
          "model_name": "HTMLModel",
          "model_module_version": "1.5.0",
          "state": {
            "_dom_classes": [],
            "_model_module": "@jupyter-widgets/controls",
            "_model_module_version": "1.5.0",
            "_model_name": "HTMLModel",
            "_view_count": null,
            "_view_module": "@jupyter-widgets/controls",
            "_view_module_version": "1.5.0",
            "_view_name": "HTMLView",
            "description": "",
            "description_tooltip": null,
            "layout": "IPY_MODEL_6768b903fb18482b9f8a2300f0a297d2",
            "placeholder": "​",
            "style": "IPY_MODEL_de97cbd3e7094bfb8d74c67d5b581945",
            "value": "mean_var_norm_emb.ckpt: 100%"
          }
        },
        "22b621865b444e0d81a1ea854a153c45": {
          "model_module": "@jupyter-widgets/controls",
          "model_name": "FloatProgressModel",
          "model_module_version": "1.5.0",
          "state": {
            "_dom_classes": [],
            "_model_module": "@jupyter-widgets/controls",
            "_model_module_version": "1.5.0",
            "_model_name": "FloatProgressModel",
            "_view_count": null,
            "_view_module": "@jupyter-widgets/controls",
            "_view_module_version": "1.5.0",
            "_view_name": "ProgressView",
            "bar_style": "success",
            "description": "",
            "description_tooltip": null,
            "layout": "IPY_MODEL_fbf435b7c38343c897e9b851afa5e96f",
            "max": 3201,
            "min": 0,
            "orientation": "horizontal",
            "style": "IPY_MODEL_ac390e108d184e8fbfacf6bd1ab0ac4a",
            "value": 3201
          }
        },
        "c6105e4d16944880aed34fb79db4a4a7": {
          "model_module": "@jupyter-widgets/controls",
          "model_name": "HTMLModel",
          "model_module_version": "1.5.0",
          "state": {
            "_dom_classes": [],
            "_model_module": "@jupyter-widgets/controls",
            "_model_module_version": "1.5.0",
            "_model_name": "HTMLModel",
            "_view_count": null,
            "_view_module": "@jupyter-widgets/controls",
            "_view_module_version": "1.5.0",
            "_view_name": "HTMLView",
            "description": "",
            "description_tooltip": null,
            "layout": "IPY_MODEL_953d3a2195cc4b4b8af6869a2f6f17eb",
            "placeholder": "​",
            "style": "IPY_MODEL_488a00eaffe941ccb0ce5b702288c4c7",
            "value": " 3.20k/3.20k [00:00&lt;00:00, 168kB/s]"
          }
        },
        "faa1bd1920444846a4cf673f1dd0bb7b": {
          "model_module": "@jupyter-widgets/base",
          "model_name": "LayoutModel",
          "model_module_version": "1.2.0",
          "state": {
            "_model_module": "@jupyter-widgets/base",
            "_model_module_version": "1.2.0",
            "_model_name": "LayoutModel",
            "_view_count": null,
            "_view_module": "@jupyter-widgets/base",
            "_view_module_version": "1.2.0",
            "_view_name": "LayoutView",
            "align_content": null,
            "align_items": null,
            "align_self": null,
            "border": null,
            "bottom": null,
            "display": null,
            "flex": null,
            "flex_flow": null,
            "grid_area": null,
            "grid_auto_columns": null,
            "grid_auto_flow": null,
            "grid_auto_rows": null,
            "grid_column": null,
            "grid_gap": null,
            "grid_row": null,
            "grid_template_areas": null,
            "grid_template_columns": null,
            "grid_template_rows": null,
            "height": null,
            "justify_content": null,
            "justify_items": null,
            "left": null,
            "margin": null,
            "max_height": null,
            "max_width": null,
            "min_height": null,
            "min_width": null,
            "object_fit": null,
            "object_position": null,
            "order": null,
            "overflow": null,
            "overflow_x": null,
            "overflow_y": null,
            "padding": null,
            "right": null,
            "top": null,
            "visibility": null,
            "width": null
          }
        },
        "6768b903fb18482b9f8a2300f0a297d2": {
          "model_module": "@jupyter-widgets/base",
          "model_name": "LayoutModel",
          "model_module_version": "1.2.0",
          "state": {
            "_model_module": "@jupyter-widgets/base",
            "_model_module_version": "1.2.0",
            "_model_name": "LayoutModel",
            "_view_count": null,
            "_view_module": "@jupyter-widgets/base",
            "_view_module_version": "1.2.0",
            "_view_name": "LayoutView",
            "align_content": null,
            "align_items": null,
            "align_self": null,
            "border": null,
            "bottom": null,
            "display": null,
            "flex": null,
            "flex_flow": null,
            "grid_area": null,
            "grid_auto_columns": null,
            "grid_auto_flow": null,
            "grid_auto_rows": null,
            "grid_column": null,
            "grid_gap": null,
            "grid_row": null,
            "grid_template_areas": null,
            "grid_template_columns": null,
            "grid_template_rows": null,
            "height": null,
            "justify_content": null,
            "justify_items": null,
            "left": null,
            "margin": null,
            "max_height": null,
            "max_width": null,
            "min_height": null,
            "min_width": null,
            "object_fit": null,
            "object_position": null,
            "order": null,
            "overflow": null,
            "overflow_x": null,
            "overflow_y": null,
            "padding": null,
            "right": null,
            "top": null,
            "visibility": null,
            "width": null
          }
        },
        "de97cbd3e7094bfb8d74c67d5b581945": {
          "model_module": "@jupyter-widgets/controls",
          "model_name": "DescriptionStyleModel",
          "model_module_version": "1.5.0",
          "state": {
            "_model_module": "@jupyter-widgets/controls",
            "_model_module_version": "1.5.0",
            "_model_name": "DescriptionStyleModel",
            "_view_count": null,
            "_view_module": "@jupyter-widgets/base",
            "_view_module_version": "1.2.0",
            "_view_name": "StyleView",
            "description_width": ""
          }
        },
        "fbf435b7c38343c897e9b851afa5e96f": {
          "model_module": "@jupyter-widgets/base",
          "model_name": "LayoutModel",
          "model_module_version": "1.2.0",
          "state": {
            "_model_module": "@jupyter-widgets/base",
            "_model_module_version": "1.2.0",
            "_model_name": "LayoutModel",
            "_view_count": null,
            "_view_module": "@jupyter-widgets/base",
            "_view_module_version": "1.2.0",
            "_view_name": "LayoutView",
            "align_content": null,
            "align_items": null,
            "align_self": null,
            "border": null,
            "bottom": null,
            "display": null,
            "flex": null,
            "flex_flow": null,
            "grid_area": null,
            "grid_auto_columns": null,
            "grid_auto_flow": null,
            "grid_auto_rows": null,
            "grid_column": null,
            "grid_gap": null,
            "grid_row": null,
            "grid_template_areas": null,
            "grid_template_columns": null,
            "grid_template_rows": null,
            "height": null,
            "justify_content": null,
            "justify_items": null,
            "left": null,
            "margin": null,
            "max_height": null,
            "max_width": null,
            "min_height": null,
            "min_width": null,
            "object_fit": null,
            "object_position": null,
            "order": null,
            "overflow": null,
            "overflow_x": null,
            "overflow_y": null,
            "padding": null,
            "right": null,
            "top": null,
            "visibility": null,
            "width": null
          }
        },
        "ac390e108d184e8fbfacf6bd1ab0ac4a": {
          "model_module": "@jupyter-widgets/controls",
          "model_name": "ProgressStyleModel",
          "model_module_version": "1.5.0",
          "state": {
            "_model_module": "@jupyter-widgets/controls",
            "_model_module_version": "1.5.0",
            "_model_name": "ProgressStyleModel",
            "_view_count": null,
            "_view_module": "@jupyter-widgets/base",
            "_view_module_version": "1.2.0",
            "_view_name": "StyleView",
            "bar_color": null,
            "description_width": ""
          }
        },
        "953d3a2195cc4b4b8af6869a2f6f17eb": {
          "model_module": "@jupyter-widgets/base",
          "model_name": "LayoutModel",
          "model_module_version": "1.2.0",
          "state": {
            "_model_module": "@jupyter-widgets/base",
            "_model_module_version": "1.2.0",
            "_model_name": "LayoutModel",
            "_view_count": null,
            "_view_module": "@jupyter-widgets/base",
            "_view_module_version": "1.2.0",
            "_view_name": "LayoutView",
            "align_content": null,
            "align_items": null,
            "align_self": null,
            "border": null,
            "bottom": null,
            "display": null,
            "flex": null,
            "flex_flow": null,
            "grid_area": null,
            "grid_auto_columns": null,
            "grid_auto_flow": null,
            "grid_auto_rows": null,
            "grid_column": null,
            "grid_gap": null,
            "grid_row": null,
            "grid_template_areas": null,
            "grid_template_columns": null,
            "grid_template_rows": null,
            "height": null,
            "justify_content": null,
            "justify_items": null,
            "left": null,
            "margin": null,
            "max_height": null,
            "max_width": null,
            "min_height": null,
            "min_width": null,
            "object_fit": null,
            "object_position": null,
            "order": null,
            "overflow": null,
            "overflow_x": null,
            "overflow_y": null,
            "padding": null,
            "right": null,
            "top": null,
            "visibility": null,
            "width": null
          }
        },
        "488a00eaffe941ccb0ce5b702288c4c7": {
          "model_module": "@jupyter-widgets/controls",
          "model_name": "DescriptionStyleModel",
          "model_module_version": "1.5.0",
          "state": {
            "_model_module": "@jupyter-widgets/controls",
            "_model_module_version": "1.5.0",
            "_model_name": "DescriptionStyleModel",
            "_view_count": null,
            "_view_module": "@jupyter-widgets/base",
            "_view_module_version": "1.2.0",
            "_view_name": "StyleView",
            "description_width": ""
          }
        },
        "6d03f5548ed44acd85a5c9fa2102738f": {
          "model_module": "@jupyter-widgets/controls",
          "model_name": "HBoxModel",
          "model_module_version": "1.5.0",
          "state": {
            "_dom_classes": [],
            "_model_module": "@jupyter-widgets/controls",
            "_model_module_version": "1.5.0",
            "_model_name": "HBoxModel",
            "_view_count": null,
            "_view_module": "@jupyter-widgets/controls",
            "_view_module_version": "1.5.0",
            "_view_name": "HBoxView",
            "box_style": "",
            "children": [
              "IPY_MODEL_a2467976eac14bde86f35a905e9ff3c1",
              "IPY_MODEL_8f3298d40bf247c596dd376ec05d3cb6",
              "IPY_MODEL_6f3bf60ec3ae4503b0e0786bd424e2cf"
            ],
            "layout": "IPY_MODEL_f1e468dcb6d04dd8a641a4542e51516a"
          }
        },
        "a2467976eac14bde86f35a905e9ff3c1": {
          "model_module": "@jupyter-widgets/controls",
          "model_name": "HTMLModel",
          "model_module_version": "1.5.0",
          "state": {
            "_dom_classes": [],
            "_model_module": "@jupyter-widgets/controls",
            "_model_module_version": "1.5.0",
            "_model_name": "HTMLModel",
            "_view_count": null,
            "_view_module": "@jupyter-widgets/controls",
            "_view_module_version": "1.5.0",
            "_view_name": "HTMLView",
            "description": "",
            "description_tooltip": null,
            "layout": "IPY_MODEL_bd403e63ff77448c8b4ff04dc0eac413",
            "placeholder": "​",
            "style": "IPY_MODEL_7ee59b83afc74bc696f1dee8f01afd1a",
            "value": "classifier.ckpt: 100%"
          }
        },
        "8f3298d40bf247c596dd376ec05d3cb6": {
          "model_module": "@jupyter-widgets/controls",
          "model_name": "FloatProgressModel",
          "model_module_version": "1.5.0",
          "state": {
            "_dom_classes": [],
            "_model_module": "@jupyter-widgets/controls",
            "_model_module_version": "1.5.0",
            "_model_name": "FloatProgressModel",
            "_view_count": null,
            "_view_module": "@jupyter-widgets/controls",
            "_view_module_version": "1.5.0",
            "_view_name": "ProgressView",
            "bar_style": "success",
            "description": "",
            "description_tooltip": null,
            "layout": "IPY_MODEL_10760be6bc794f549ed141a9edbc9bc9",
            "max": 15856877,
            "min": 0,
            "orientation": "horizontal",
            "style": "IPY_MODEL_e8752a3b6d8c4cd583a119b1c24c0de9",
            "value": 15856877
          }
        },
        "6f3bf60ec3ae4503b0e0786bd424e2cf": {
          "model_module": "@jupyter-widgets/controls",
          "model_name": "HTMLModel",
          "model_module_version": "1.5.0",
          "state": {
            "_dom_classes": [],
            "_model_module": "@jupyter-widgets/controls",
            "_model_module_version": "1.5.0",
            "_model_name": "HTMLModel",
            "_view_count": null,
            "_view_module": "@jupyter-widgets/controls",
            "_view_module_version": "1.5.0",
            "_view_name": "HTMLView",
            "description": "",
            "description_tooltip": null,
            "layout": "IPY_MODEL_8b603550620c4a4e90bb8b26d026153d",
            "placeholder": "​",
            "style": "IPY_MODEL_73e3bec673834edfb6a24c83595bd748",
            "value": " 15.9M/15.9M [00:00&lt;00:00, 217MB/s]"
          }
        },
        "f1e468dcb6d04dd8a641a4542e51516a": {
          "model_module": "@jupyter-widgets/base",
          "model_name": "LayoutModel",
          "model_module_version": "1.2.0",
          "state": {
            "_model_module": "@jupyter-widgets/base",
            "_model_module_version": "1.2.0",
            "_model_name": "LayoutModel",
            "_view_count": null,
            "_view_module": "@jupyter-widgets/base",
            "_view_module_version": "1.2.0",
            "_view_name": "LayoutView",
            "align_content": null,
            "align_items": null,
            "align_self": null,
            "border": null,
            "bottom": null,
            "display": null,
            "flex": null,
            "flex_flow": null,
            "grid_area": null,
            "grid_auto_columns": null,
            "grid_auto_flow": null,
            "grid_auto_rows": null,
            "grid_column": null,
            "grid_gap": null,
            "grid_row": null,
            "grid_template_areas": null,
            "grid_template_columns": null,
            "grid_template_rows": null,
            "height": null,
            "justify_content": null,
            "justify_items": null,
            "left": null,
            "margin": null,
            "max_height": null,
            "max_width": null,
            "min_height": null,
            "min_width": null,
            "object_fit": null,
            "object_position": null,
            "order": null,
            "overflow": null,
            "overflow_x": null,
            "overflow_y": null,
            "padding": null,
            "right": null,
            "top": null,
            "visibility": null,
            "width": null
          }
        },
        "bd403e63ff77448c8b4ff04dc0eac413": {
          "model_module": "@jupyter-widgets/base",
          "model_name": "LayoutModel",
          "model_module_version": "1.2.0",
          "state": {
            "_model_module": "@jupyter-widgets/base",
            "_model_module_version": "1.2.0",
            "_model_name": "LayoutModel",
            "_view_count": null,
            "_view_module": "@jupyter-widgets/base",
            "_view_module_version": "1.2.0",
            "_view_name": "LayoutView",
            "align_content": null,
            "align_items": null,
            "align_self": null,
            "border": null,
            "bottom": null,
            "display": null,
            "flex": null,
            "flex_flow": null,
            "grid_area": null,
            "grid_auto_columns": null,
            "grid_auto_flow": null,
            "grid_auto_rows": null,
            "grid_column": null,
            "grid_gap": null,
            "grid_row": null,
            "grid_template_areas": null,
            "grid_template_columns": null,
            "grid_template_rows": null,
            "height": null,
            "justify_content": null,
            "justify_items": null,
            "left": null,
            "margin": null,
            "max_height": null,
            "max_width": null,
            "min_height": null,
            "min_width": null,
            "object_fit": null,
            "object_position": null,
            "order": null,
            "overflow": null,
            "overflow_x": null,
            "overflow_y": null,
            "padding": null,
            "right": null,
            "top": null,
            "visibility": null,
            "width": null
          }
        },
        "7ee59b83afc74bc696f1dee8f01afd1a": {
          "model_module": "@jupyter-widgets/controls",
          "model_name": "DescriptionStyleModel",
          "model_module_version": "1.5.0",
          "state": {
            "_model_module": "@jupyter-widgets/controls",
            "_model_module_version": "1.5.0",
            "_model_name": "DescriptionStyleModel",
            "_view_count": null,
            "_view_module": "@jupyter-widgets/base",
            "_view_module_version": "1.2.0",
            "_view_name": "StyleView",
            "description_width": ""
          }
        },
        "10760be6bc794f549ed141a9edbc9bc9": {
          "model_module": "@jupyter-widgets/base",
          "model_name": "LayoutModel",
          "model_module_version": "1.2.0",
          "state": {
            "_model_module": "@jupyter-widgets/base",
            "_model_module_version": "1.2.0",
            "_model_name": "LayoutModel",
            "_view_count": null,
            "_view_module": "@jupyter-widgets/base",
            "_view_module_version": "1.2.0",
            "_view_name": "LayoutView",
            "align_content": null,
            "align_items": null,
            "align_self": null,
            "border": null,
            "bottom": null,
            "display": null,
            "flex": null,
            "flex_flow": null,
            "grid_area": null,
            "grid_auto_columns": null,
            "grid_auto_flow": null,
            "grid_auto_rows": null,
            "grid_column": null,
            "grid_gap": null,
            "grid_row": null,
            "grid_template_areas": null,
            "grid_template_columns": null,
            "grid_template_rows": null,
            "height": null,
            "justify_content": null,
            "justify_items": null,
            "left": null,
            "margin": null,
            "max_height": null,
            "max_width": null,
            "min_height": null,
            "min_width": null,
            "object_fit": null,
            "object_position": null,
            "order": null,
            "overflow": null,
            "overflow_x": null,
            "overflow_y": null,
            "padding": null,
            "right": null,
            "top": null,
            "visibility": null,
            "width": null
          }
        },
        "e8752a3b6d8c4cd583a119b1c24c0de9": {
          "model_module": "@jupyter-widgets/controls",
          "model_name": "ProgressStyleModel",
          "model_module_version": "1.5.0",
          "state": {
            "_model_module": "@jupyter-widgets/controls",
            "_model_module_version": "1.5.0",
            "_model_name": "ProgressStyleModel",
            "_view_count": null,
            "_view_module": "@jupyter-widgets/base",
            "_view_module_version": "1.2.0",
            "_view_name": "StyleView",
            "bar_color": null,
            "description_width": ""
          }
        },
        "8b603550620c4a4e90bb8b26d026153d": {
          "model_module": "@jupyter-widgets/base",
          "model_name": "LayoutModel",
          "model_module_version": "1.2.0",
          "state": {
            "_model_module": "@jupyter-widgets/base",
            "_model_module_version": "1.2.0",
            "_model_name": "LayoutModel",
            "_view_count": null,
            "_view_module": "@jupyter-widgets/base",
            "_view_module_version": "1.2.0",
            "_view_name": "LayoutView",
            "align_content": null,
            "align_items": null,
            "align_self": null,
            "border": null,
            "bottom": null,
            "display": null,
            "flex": null,
            "flex_flow": null,
            "grid_area": null,
            "grid_auto_columns": null,
            "grid_auto_flow": null,
            "grid_auto_rows": null,
            "grid_column": null,
            "grid_gap": null,
            "grid_row": null,
            "grid_template_areas": null,
            "grid_template_columns": null,
            "grid_template_rows": null,
            "height": null,
            "justify_content": null,
            "justify_items": null,
            "left": null,
            "margin": null,
            "max_height": null,
            "max_width": null,
            "min_height": null,
            "min_width": null,
            "object_fit": null,
            "object_position": null,
            "order": null,
            "overflow": null,
            "overflow_x": null,
            "overflow_y": null,
            "padding": null,
            "right": null,
            "top": null,
            "visibility": null,
            "width": null
          }
        },
        "73e3bec673834edfb6a24c83595bd748": {
          "model_module": "@jupyter-widgets/controls",
          "model_name": "DescriptionStyleModel",
          "model_module_version": "1.5.0",
          "state": {
            "_model_module": "@jupyter-widgets/controls",
            "_model_module_version": "1.5.0",
            "_model_name": "DescriptionStyleModel",
            "_view_count": null,
            "_view_module": "@jupyter-widgets/base",
            "_view_module_version": "1.2.0",
            "_view_name": "StyleView",
            "description_width": ""
          }
        },
        "d476493e99334aa09912ca90903c46d3": {
          "model_module": "@jupyter-widgets/controls",
          "model_name": "HBoxModel",
          "model_module_version": "1.5.0",
          "state": {
            "_dom_classes": [],
            "_model_module": "@jupyter-widgets/controls",
            "_model_module_version": "1.5.0",
            "_model_name": "HBoxModel",
            "_view_count": null,
            "_view_module": "@jupyter-widgets/controls",
            "_view_module_version": "1.5.0",
            "_view_name": "HBoxView",
            "box_style": "",
            "children": [
              "IPY_MODEL_a2522b65ab7c4468b5e2732b89583c35",
              "IPY_MODEL_04bccf103e514802a1868c7c8b2e70bf",
              "IPY_MODEL_1346174578f9486eb185b2a267119a5f"
            ],
            "layout": "IPY_MODEL_1f8cac2d2c7a465db455e2f0e38fee32"
          }
        },
        "a2522b65ab7c4468b5e2732b89583c35": {
          "model_module": "@jupyter-widgets/controls",
          "model_name": "HTMLModel",
          "model_module_version": "1.5.0",
          "state": {
            "_dom_classes": [],
            "_model_module": "@jupyter-widgets/controls",
            "_model_module_version": "1.5.0",
            "_model_name": "HTMLModel",
            "_view_count": null,
            "_view_module": "@jupyter-widgets/controls",
            "_view_module_version": "1.5.0",
            "_view_name": "HTMLView",
            "description": "",
            "description_tooltip": null,
            "layout": "IPY_MODEL_7cbd1142d5f841608609b8bcf4d30984",
            "placeholder": "​",
            "style": "IPY_MODEL_d7aef0f249474b879ff3928b74c66c27",
            "value": "label_encoder.txt: 100%"
          }
        },
        "04bccf103e514802a1868c7c8b2e70bf": {
          "model_module": "@jupyter-widgets/controls",
          "model_name": "FloatProgressModel",
          "model_module_version": "1.5.0",
          "state": {
            "_dom_classes": [],
            "_model_module": "@jupyter-widgets/controls",
            "_model_module_version": "1.5.0",
            "_model_name": "FloatProgressModel",
            "_view_count": null,
            "_view_module": "@jupyter-widgets/controls",
            "_view_module_version": "1.5.0",
            "_view_name": "ProgressView",
            "bar_style": "success",
            "description": "",
            "description_tooltip": null,
            "layout": "IPY_MODEL_3e038fef5fee45e688ff04326fcc5c97",
            "max": 128619,
            "min": 0,
            "orientation": "horizontal",
            "style": "IPY_MODEL_b4add5bb7baf42a1b45e85c1cb9801f0",
            "value": 128619
          }
        },
        "1346174578f9486eb185b2a267119a5f": {
          "model_module": "@jupyter-widgets/controls",
          "model_name": "HTMLModel",
          "model_module_version": "1.5.0",
          "state": {
            "_dom_classes": [],
            "_model_module": "@jupyter-widgets/controls",
            "_model_module_version": "1.5.0",
            "_model_name": "HTMLModel",
            "_view_count": null,
            "_view_module": "@jupyter-widgets/controls",
            "_view_module_version": "1.5.0",
            "_view_name": "HTMLView",
            "description": "",
            "description_tooltip": null,
            "layout": "IPY_MODEL_59aceb4883c34b29b7652aeecc27c339",
            "placeholder": "​",
            "style": "IPY_MODEL_6eba4532b8184ef69c481f4093a9d3f1",
            "value": " 129k/129k [00:00&lt;00:00, 7.60MB/s]"
          }
        },
        "1f8cac2d2c7a465db455e2f0e38fee32": {
          "model_module": "@jupyter-widgets/base",
          "model_name": "LayoutModel",
          "model_module_version": "1.2.0",
          "state": {
            "_model_module": "@jupyter-widgets/base",
            "_model_module_version": "1.2.0",
            "_model_name": "LayoutModel",
            "_view_count": null,
            "_view_module": "@jupyter-widgets/base",
            "_view_module_version": "1.2.0",
            "_view_name": "LayoutView",
            "align_content": null,
            "align_items": null,
            "align_self": null,
            "border": null,
            "bottom": null,
            "display": null,
            "flex": null,
            "flex_flow": null,
            "grid_area": null,
            "grid_auto_columns": null,
            "grid_auto_flow": null,
            "grid_auto_rows": null,
            "grid_column": null,
            "grid_gap": null,
            "grid_row": null,
            "grid_template_areas": null,
            "grid_template_columns": null,
            "grid_template_rows": null,
            "height": null,
            "justify_content": null,
            "justify_items": null,
            "left": null,
            "margin": null,
            "max_height": null,
            "max_width": null,
            "min_height": null,
            "min_width": null,
            "object_fit": null,
            "object_position": null,
            "order": null,
            "overflow": null,
            "overflow_x": null,
            "overflow_y": null,
            "padding": null,
            "right": null,
            "top": null,
            "visibility": null,
            "width": null
          }
        },
        "7cbd1142d5f841608609b8bcf4d30984": {
          "model_module": "@jupyter-widgets/base",
          "model_name": "LayoutModel",
          "model_module_version": "1.2.0",
          "state": {
            "_model_module": "@jupyter-widgets/base",
            "_model_module_version": "1.2.0",
            "_model_name": "LayoutModel",
            "_view_count": null,
            "_view_module": "@jupyter-widgets/base",
            "_view_module_version": "1.2.0",
            "_view_name": "LayoutView",
            "align_content": null,
            "align_items": null,
            "align_self": null,
            "border": null,
            "bottom": null,
            "display": null,
            "flex": null,
            "flex_flow": null,
            "grid_area": null,
            "grid_auto_columns": null,
            "grid_auto_flow": null,
            "grid_auto_rows": null,
            "grid_column": null,
            "grid_gap": null,
            "grid_row": null,
            "grid_template_areas": null,
            "grid_template_columns": null,
            "grid_template_rows": null,
            "height": null,
            "justify_content": null,
            "justify_items": null,
            "left": null,
            "margin": null,
            "max_height": null,
            "max_width": null,
            "min_height": null,
            "min_width": null,
            "object_fit": null,
            "object_position": null,
            "order": null,
            "overflow": null,
            "overflow_x": null,
            "overflow_y": null,
            "padding": null,
            "right": null,
            "top": null,
            "visibility": null,
            "width": null
          }
        },
        "d7aef0f249474b879ff3928b74c66c27": {
          "model_module": "@jupyter-widgets/controls",
          "model_name": "DescriptionStyleModel",
          "model_module_version": "1.5.0",
          "state": {
            "_model_module": "@jupyter-widgets/controls",
            "_model_module_version": "1.5.0",
            "_model_name": "DescriptionStyleModel",
            "_view_count": null,
            "_view_module": "@jupyter-widgets/base",
            "_view_module_version": "1.2.0",
            "_view_name": "StyleView",
            "description_width": ""
          }
        },
        "3e038fef5fee45e688ff04326fcc5c97": {
          "model_module": "@jupyter-widgets/base",
          "model_name": "LayoutModel",
          "model_module_version": "1.2.0",
          "state": {
            "_model_module": "@jupyter-widgets/base",
            "_model_module_version": "1.2.0",
            "_model_name": "LayoutModel",
            "_view_count": null,
            "_view_module": "@jupyter-widgets/base",
            "_view_module_version": "1.2.0",
            "_view_name": "LayoutView",
            "align_content": null,
            "align_items": null,
            "align_self": null,
            "border": null,
            "bottom": null,
            "display": null,
            "flex": null,
            "flex_flow": null,
            "grid_area": null,
            "grid_auto_columns": null,
            "grid_auto_flow": null,
            "grid_auto_rows": null,
            "grid_column": null,
            "grid_gap": null,
            "grid_row": null,
            "grid_template_areas": null,
            "grid_template_columns": null,
            "grid_template_rows": null,
            "height": null,
            "justify_content": null,
            "justify_items": null,
            "left": null,
            "margin": null,
            "max_height": null,
            "max_width": null,
            "min_height": null,
            "min_width": null,
            "object_fit": null,
            "object_position": null,
            "order": null,
            "overflow": null,
            "overflow_x": null,
            "overflow_y": null,
            "padding": null,
            "right": null,
            "top": null,
            "visibility": null,
            "width": null
          }
        },
        "b4add5bb7baf42a1b45e85c1cb9801f0": {
          "model_module": "@jupyter-widgets/controls",
          "model_name": "ProgressStyleModel",
          "model_module_version": "1.5.0",
          "state": {
            "_model_module": "@jupyter-widgets/controls",
            "_model_module_version": "1.5.0",
            "_model_name": "ProgressStyleModel",
            "_view_count": null,
            "_view_module": "@jupyter-widgets/base",
            "_view_module_version": "1.2.0",
            "_view_name": "StyleView",
            "bar_color": null,
            "description_width": ""
          }
        },
        "59aceb4883c34b29b7652aeecc27c339": {
          "model_module": "@jupyter-widgets/base",
          "model_name": "LayoutModel",
          "model_module_version": "1.2.0",
          "state": {
            "_model_module": "@jupyter-widgets/base",
            "_model_module_version": "1.2.0",
            "_model_name": "LayoutModel",
            "_view_count": null,
            "_view_module": "@jupyter-widgets/base",
            "_view_module_version": "1.2.0",
            "_view_name": "LayoutView",
            "align_content": null,
            "align_items": null,
            "align_self": null,
            "border": null,
            "bottom": null,
            "display": null,
            "flex": null,
            "flex_flow": null,
            "grid_area": null,
            "grid_auto_columns": null,
            "grid_auto_flow": null,
            "grid_auto_rows": null,
            "grid_column": null,
            "grid_gap": null,
            "grid_row": null,
            "grid_template_areas": null,
            "grid_template_columns": null,
            "grid_template_rows": null,
            "height": null,
            "justify_content": null,
            "justify_items": null,
            "left": null,
            "margin": null,
            "max_height": null,
            "max_width": null,
            "min_height": null,
            "min_width": null,
            "object_fit": null,
            "object_position": null,
            "order": null,
            "overflow": null,
            "overflow_x": null,
            "overflow_y": null,
            "padding": null,
            "right": null,
            "top": null,
            "visibility": null,
            "width": null
          }
        },
        "6eba4532b8184ef69c481f4093a9d3f1": {
          "model_module": "@jupyter-widgets/controls",
          "model_name": "DescriptionStyleModel",
          "model_module_version": "1.5.0",
          "state": {
            "_model_module": "@jupyter-widgets/controls",
            "_model_module_version": "1.5.0",
            "_model_name": "DescriptionStyleModel",
            "_view_count": null,
            "_view_module": "@jupyter-widgets/base",
            "_view_module_version": "1.2.0",
            "_view_name": "StyleView",
            "description_width": ""
          }
        },
        "ee6b518d95b349c192b624493dd4e921": {
          "model_module": "@jupyter-widgets/controls",
          "model_name": "HBoxModel",
          "model_module_version": "1.5.0",
          "state": {
            "_dom_classes": [],
            "_model_module": "@jupyter-widgets/controls",
            "_model_module_version": "1.5.0",
            "_model_name": "HBoxModel",
            "_view_count": null,
            "_view_module": "@jupyter-widgets/controls",
            "_view_module_version": "1.5.0",
            "_view_name": "HBoxView",
            "box_style": "",
            "children": [
              "IPY_MODEL_4d30bcf9187e4ff38e1bb76e470efb13",
              "IPY_MODEL_0f1fabcd56d548a98bf4f2f7c45871ca",
              "IPY_MODEL_308c1c78745447fdb2717f6ccf0fce1e"
            ],
            "layout": "IPY_MODEL_46655286bc3a4208ae277435844ca258"
          }
        },
        "4d30bcf9187e4ff38e1bb76e470efb13": {
          "model_module": "@jupyter-widgets/controls",
          "model_name": "HTMLModel",
          "model_module_version": "1.5.0",
          "state": {
            "_dom_classes": [],
            "_model_module": "@jupyter-widgets/controls",
            "_model_module_version": "1.5.0",
            "_model_name": "HTMLModel",
            "_view_count": null,
            "_view_module": "@jupyter-widgets/controls",
            "_view_module_version": "1.5.0",
            "_view_name": "HTMLView",
            "description": "",
            "description_tooltip": null,
            "layout": "IPY_MODEL_f52bb6c24d9b4289b21ac4687884c1ac",
            "placeholder": "​",
            "style": "IPY_MODEL_bbca39c36a394378826d36b62b45e9a8",
            "value": "Map: 100%"
          }
        },
        "0f1fabcd56d548a98bf4f2f7c45871ca": {
          "model_module": "@jupyter-widgets/controls",
          "model_name": "FloatProgressModel",
          "model_module_version": "1.5.0",
          "state": {
            "_dom_classes": [],
            "_model_module": "@jupyter-widgets/controls",
            "_model_module_version": "1.5.0",
            "_model_name": "FloatProgressModel",
            "_view_count": null,
            "_view_module": "@jupyter-widgets/controls",
            "_view_module_version": "1.5.0",
            "_view_name": "ProgressView",
            "bar_style": "success",
            "description": "",
            "description_tooltip": null,
            "layout": "IPY_MODEL_ce48bfd7c4564886bcaabe1da3a479e7",
            "max": 1000,
            "min": 0,
            "orientation": "horizontal",
            "style": "IPY_MODEL_7e6f8186ff9d4da5a211e56e96767fdf",
            "value": 1000
          }
        },
        "308c1c78745447fdb2717f6ccf0fce1e": {
          "model_module": "@jupyter-widgets/controls",
          "model_name": "HTMLModel",
          "model_module_version": "1.5.0",
          "state": {
            "_dom_classes": [],
            "_model_module": "@jupyter-widgets/controls",
            "_model_module_version": "1.5.0",
            "_model_name": "HTMLModel",
            "_view_count": null,
            "_view_module": "@jupyter-widgets/controls",
            "_view_module_version": "1.5.0",
            "_view_name": "HTMLView",
            "description": "",
            "description_tooltip": null,
            "layout": "IPY_MODEL_1af2b728962640e0bdf372ae42f8ac91",
            "placeholder": "​",
            "style": "IPY_MODEL_40894bf3c3334b12bf8369a5842bc613",
            "value": " 1000/1000 [00:39&lt;00:00, 35.41 examples/s]"
          }
        },
        "46655286bc3a4208ae277435844ca258": {
          "model_module": "@jupyter-widgets/base",
          "model_name": "LayoutModel",
          "model_module_version": "1.2.0",
          "state": {
            "_model_module": "@jupyter-widgets/base",
            "_model_module_version": "1.2.0",
            "_model_name": "LayoutModel",
            "_view_count": null,
            "_view_module": "@jupyter-widgets/base",
            "_view_module_version": "1.2.0",
            "_view_name": "LayoutView",
            "align_content": null,
            "align_items": null,
            "align_self": null,
            "border": null,
            "bottom": null,
            "display": null,
            "flex": null,
            "flex_flow": null,
            "grid_area": null,
            "grid_auto_columns": null,
            "grid_auto_flow": null,
            "grid_auto_rows": null,
            "grid_column": null,
            "grid_gap": null,
            "grid_row": null,
            "grid_template_areas": null,
            "grid_template_columns": null,
            "grid_template_rows": null,
            "height": null,
            "justify_content": null,
            "justify_items": null,
            "left": null,
            "margin": null,
            "max_height": null,
            "max_width": null,
            "min_height": null,
            "min_width": null,
            "object_fit": null,
            "object_position": null,
            "order": null,
            "overflow": null,
            "overflow_x": null,
            "overflow_y": null,
            "padding": null,
            "right": null,
            "top": null,
            "visibility": null,
            "width": null
          }
        },
        "f52bb6c24d9b4289b21ac4687884c1ac": {
          "model_module": "@jupyter-widgets/base",
          "model_name": "LayoutModel",
          "model_module_version": "1.2.0",
          "state": {
            "_model_module": "@jupyter-widgets/base",
            "_model_module_version": "1.2.0",
            "_model_name": "LayoutModel",
            "_view_count": null,
            "_view_module": "@jupyter-widgets/base",
            "_view_module_version": "1.2.0",
            "_view_name": "LayoutView",
            "align_content": null,
            "align_items": null,
            "align_self": null,
            "border": null,
            "bottom": null,
            "display": null,
            "flex": null,
            "flex_flow": null,
            "grid_area": null,
            "grid_auto_columns": null,
            "grid_auto_flow": null,
            "grid_auto_rows": null,
            "grid_column": null,
            "grid_gap": null,
            "grid_row": null,
            "grid_template_areas": null,
            "grid_template_columns": null,
            "grid_template_rows": null,
            "height": null,
            "justify_content": null,
            "justify_items": null,
            "left": null,
            "margin": null,
            "max_height": null,
            "max_width": null,
            "min_height": null,
            "min_width": null,
            "object_fit": null,
            "object_position": null,
            "order": null,
            "overflow": null,
            "overflow_x": null,
            "overflow_y": null,
            "padding": null,
            "right": null,
            "top": null,
            "visibility": null,
            "width": null
          }
        },
        "bbca39c36a394378826d36b62b45e9a8": {
          "model_module": "@jupyter-widgets/controls",
          "model_name": "DescriptionStyleModel",
          "model_module_version": "1.5.0",
          "state": {
            "_model_module": "@jupyter-widgets/controls",
            "_model_module_version": "1.5.0",
            "_model_name": "DescriptionStyleModel",
            "_view_count": null,
            "_view_module": "@jupyter-widgets/base",
            "_view_module_version": "1.2.0",
            "_view_name": "StyleView",
            "description_width": ""
          }
        },
        "ce48bfd7c4564886bcaabe1da3a479e7": {
          "model_module": "@jupyter-widgets/base",
          "model_name": "LayoutModel",
          "model_module_version": "1.2.0",
          "state": {
            "_model_module": "@jupyter-widgets/base",
            "_model_module_version": "1.2.0",
            "_model_name": "LayoutModel",
            "_view_count": null,
            "_view_module": "@jupyter-widgets/base",
            "_view_module_version": "1.2.0",
            "_view_name": "LayoutView",
            "align_content": null,
            "align_items": null,
            "align_self": null,
            "border": null,
            "bottom": null,
            "display": null,
            "flex": null,
            "flex_flow": null,
            "grid_area": null,
            "grid_auto_columns": null,
            "grid_auto_flow": null,
            "grid_auto_rows": null,
            "grid_column": null,
            "grid_gap": null,
            "grid_row": null,
            "grid_template_areas": null,
            "grid_template_columns": null,
            "grid_template_rows": null,
            "height": null,
            "justify_content": null,
            "justify_items": null,
            "left": null,
            "margin": null,
            "max_height": null,
            "max_width": null,
            "min_height": null,
            "min_width": null,
            "object_fit": null,
            "object_position": null,
            "order": null,
            "overflow": null,
            "overflow_x": null,
            "overflow_y": null,
            "padding": null,
            "right": null,
            "top": null,
            "visibility": null,
            "width": null
          }
        },
        "7e6f8186ff9d4da5a211e56e96767fdf": {
          "model_module": "@jupyter-widgets/controls",
          "model_name": "ProgressStyleModel",
          "model_module_version": "1.5.0",
          "state": {
            "_model_module": "@jupyter-widgets/controls",
            "_model_module_version": "1.5.0",
            "_model_name": "ProgressStyleModel",
            "_view_count": null,
            "_view_module": "@jupyter-widgets/base",
            "_view_module_version": "1.2.0",
            "_view_name": "StyleView",
            "bar_color": null,
            "description_width": ""
          }
        },
        "1af2b728962640e0bdf372ae42f8ac91": {
          "model_module": "@jupyter-widgets/base",
          "model_name": "LayoutModel",
          "model_module_version": "1.2.0",
          "state": {
            "_model_module": "@jupyter-widgets/base",
            "_model_module_version": "1.2.0",
            "_model_name": "LayoutModel",
            "_view_count": null,
            "_view_module": "@jupyter-widgets/base",
            "_view_module_version": "1.2.0",
            "_view_name": "LayoutView",
            "align_content": null,
            "align_items": null,
            "align_self": null,
            "border": null,
            "bottom": null,
            "display": null,
            "flex": null,
            "flex_flow": null,
            "grid_area": null,
            "grid_auto_columns": null,
            "grid_auto_flow": null,
            "grid_auto_rows": null,
            "grid_column": null,
            "grid_gap": null,
            "grid_row": null,
            "grid_template_areas": null,
            "grid_template_columns": null,
            "grid_template_rows": null,
            "height": null,
            "justify_content": null,
            "justify_items": null,
            "left": null,
            "margin": null,
            "max_height": null,
            "max_width": null,
            "min_height": null,
            "min_width": null,
            "object_fit": null,
            "object_position": null,
            "order": null,
            "overflow": null,
            "overflow_x": null,
            "overflow_y": null,
            "padding": null,
            "right": null,
            "top": null,
            "visibility": null,
            "width": null
          }
        },
        "40894bf3c3334b12bf8369a5842bc613": {
          "model_module": "@jupyter-widgets/controls",
          "model_name": "DescriptionStyleModel",
          "model_module_version": "1.5.0",
          "state": {
            "_model_module": "@jupyter-widgets/controls",
            "_model_module_version": "1.5.0",
            "_model_name": "DescriptionStyleModel",
            "_view_count": null,
            "_view_module": "@jupyter-widgets/base",
            "_view_module_version": "1.2.0",
            "_view_name": "StyleView",
            "description_width": ""
          }
        },
        "157758b843ea49b09b6f6219286b62a5": {
          "model_module": "@jupyter-widgets/controls",
          "model_name": "HBoxModel",
          "model_module_version": "1.5.0",
          "state": {
            "_dom_classes": [],
            "_model_module": "@jupyter-widgets/controls",
            "_model_module_version": "1.5.0",
            "_model_name": "HBoxModel",
            "_view_count": null,
            "_view_module": "@jupyter-widgets/controls",
            "_view_module_version": "1.5.0",
            "_view_name": "HBoxView",
            "box_style": "",
            "children": [
              "IPY_MODEL_059f4d4252a944c0abe99a88db7c78a3",
              "IPY_MODEL_f6cb4a25a8054d2bacdc48e6792f23cb",
              "IPY_MODEL_c389187e38a74deb83b54e05ccd5e97a"
            ],
            "layout": "IPY_MODEL_2f133f9a2dbb44e499e47f603a653440"
          }
        },
        "059f4d4252a944c0abe99a88db7c78a3": {
          "model_module": "@jupyter-widgets/controls",
          "model_name": "HTMLModel",
          "model_module_version": "1.5.0",
          "state": {
            "_dom_classes": [],
            "_model_module": "@jupyter-widgets/controls",
            "_model_module_version": "1.5.0",
            "_model_name": "HTMLModel",
            "_view_count": null,
            "_view_module": "@jupyter-widgets/controls",
            "_view_module_version": "1.5.0",
            "_view_name": "HTMLView",
            "description": "",
            "description_tooltip": null,
            "layout": "IPY_MODEL_ed11b8289c2e482cb02af975925228d5",
            "placeholder": "​",
            "style": "IPY_MODEL_270faab0613f40ff88704bb80a97b3d4",
            "value": "Filter: 100%"
          }
        },
        "f6cb4a25a8054d2bacdc48e6792f23cb": {
          "model_module": "@jupyter-widgets/controls",
          "model_name": "FloatProgressModel",
          "model_module_version": "1.5.0",
          "state": {
            "_dom_classes": [],
            "_model_module": "@jupyter-widgets/controls",
            "_model_module_version": "1.5.0",
            "_model_name": "FloatProgressModel",
            "_view_count": null,
            "_view_module": "@jupyter-widgets/controls",
            "_view_module_version": "1.5.0",
            "_view_name": "ProgressView",
            "bar_style": "success",
            "description": "",
            "description_tooltip": null,
            "layout": "IPY_MODEL_8ef6ee9b55bf4895970a971abd163c4a",
            "max": 1000,
            "min": 0,
            "orientation": "horizontal",
            "style": "IPY_MODEL_fef538e761774c7ba724d94f0f1ba491",
            "value": 1000
          }
        },
        "c389187e38a74deb83b54e05ccd5e97a": {
          "model_module": "@jupyter-widgets/controls",
          "model_name": "HTMLModel",
          "model_module_version": "1.5.0",
          "state": {
            "_dom_classes": [],
            "_model_module": "@jupyter-widgets/controls",
            "_model_module_version": "1.5.0",
            "_model_name": "HTMLModel",
            "_view_count": null,
            "_view_module": "@jupyter-widgets/controls",
            "_view_module_version": "1.5.0",
            "_view_name": "HTMLView",
            "description": "",
            "description_tooltip": null,
            "layout": "IPY_MODEL_c7f4dc21a3cb4b41b24c669afe1d64c4",
            "placeholder": "​",
            "style": "IPY_MODEL_fc9e7b04e99d4ae684516ed1078795f1",
            "value": " 1000/1000 [00:00&lt;00:00, 10724.05 examples/s]"
          }
        },
        "2f133f9a2dbb44e499e47f603a653440": {
          "model_module": "@jupyter-widgets/base",
          "model_name": "LayoutModel",
          "model_module_version": "1.2.0",
          "state": {
            "_model_module": "@jupyter-widgets/base",
            "_model_module_version": "1.2.0",
            "_model_name": "LayoutModel",
            "_view_count": null,
            "_view_module": "@jupyter-widgets/base",
            "_view_module_version": "1.2.0",
            "_view_name": "LayoutView",
            "align_content": null,
            "align_items": null,
            "align_self": null,
            "border": null,
            "bottom": null,
            "display": null,
            "flex": null,
            "flex_flow": null,
            "grid_area": null,
            "grid_auto_columns": null,
            "grid_auto_flow": null,
            "grid_auto_rows": null,
            "grid_column": null,
            "grid_gap": null,
            "grid_row": null,
            "grid_template_areas": null,
            "grid_template_columns": null,
            "grid_template_rows": null,
            "height": null,
            "justify_content": null,
            "justify_items": null,
            "left": null,
            "margin": null,
            "max_height": null,
            "max_width": null,
            "min_height": null,
            "min_width": null,
            "object_fit": null,
            "object_position": null,
            "order": null,
            "overflow": null,
            "overflow_x": null,
            "overflow_y": null,
            "padding": null,
            "right": null,
            "top": null,
            "visibility": null,
            "width": null
          }
        },
        "ed11b8289c2e482cb02af975925228d5": {
          "model_module": "@jupyter-widgets/base",
          "model_name": "LayoutModel",
          "model_module_version": "1.2.0",
          "state": {
            "_model_module": "@jupyter-widgets/base",
            "_model_module_version": "1.2.0",
            "_model_name": "LayoutModel",
            "_view_count": null,
            "_view_module": "@jupyter-widgets/base",
            "_view_module_version": "1.2.0",
            "_view_name": "LayoutView",
            "align_content": null,
            "align_items": null,
            "align_self": null,
            "border": null,
            "bottom": null,
            "display": null,
            "flex": null,
            "flex_flow": null,
            "grid_area": null,
            "grid_auto_columns": null,
            "grid_auto_flow": null,
            "grid_auto_rows": null,
            "grid_column": null,
            "grid_gap": null,
            "grid_row": null,
            "grid_template_areas": null,
            "grid_template_columns": null,
            "grid_template_rows": null,
            "height": null,
            "justify_content": null,
            "justify_items": null,
            "left": null,
            "margin": null,
            "max_height": null,
            "max_width": null,
            "min_height": null,
            "min_width": null,
            "object_fit": null,
            "object_position": null,
            "order": null,
            "overflow": null,
            "overflow_x": null,
            "overflow_y": null,
            "padding": null,
            "right": null,
            "top": null,
            "visibility": null,
            "width": null
          }
        },
        "270faab0613f40ff88704bb80a97b3d4": {
          "model_module": "@jupyter-widgets/controls",
          "model_name": "DescriptionStyleModel",
          "model_module_version": "1.5.0",
          "state": {
            "_model_module": "@jupyter-widgets/controls",
            "_model_module_version": "1.5.0",
            "_model_name": "DescriptionStyleModel",
            "_view_count": null,
            "_view_module": "@jupyter-widgets/base",
            "_view_module_version": "1.2.0",
            "_view_name": "StyleView",
            "description_width": ""
          }
        },
        "8ef6ee9b55bf4895970a971abd163c4a": {
          "model_module": "@jupyter-widgets/base",
          "model_name": "LayoutModel",
          "model_module_version": "1.2.0",
          "state": {
            "_model_module": "@jupyter-widgets/base",
            "_model_module_version": "1.2.0",
            "_model_name": "LayoutModel",
            "_view_count": null,
            "_view_module": "@jupyter-widgets/base",
            "_view_module_version": "1.2.0",
            "_view_name": "LayoutView",
            "align_content": null,
            "align_items": null,
            "align_self": null,
            "border": null,
            "bottom": null,
            "display": null,
            "flex": null,
            "flex_flow": null,
            "grid_area": null,
            "grid_auto_columns": null,
            "grid_auto_flow": null,
            "grid_auto_rows": null,
            "grid_column": null,
            "grid_gap": null,
            "grid_row": null,
            "grid_template_areas": null,
            "grid_template_columns": null,
            "grid_template_rows": null,
            "height": null,
            "justify_content": null,
            "justify_items": null,
            "left": null,
            "margin": null,
            "max_height": null,
            "max_width": null,
            "min_height": null,
            "min_width": null,
            "object_fit": null,
            "object_position": null,
            "order": null,
            "overflow": null,
            "overflow_x": null,
            "overflow_y": null,
            "padding": null,
            "right": null,
            "top": null,
            "visibility": null,
            "width": null
          }
        },
        "fef538e761774c7ba724d94f0f1ba491": {
          "model_module": "@jupyter-widgets/controls",
          "model_name": "ProgressStyleModel",
          "model_module_version": "1.5.0",
          "state": {
            "_model_module": "@jupyter-widgets/controls",
            "_model_module_version": "1.5.0",
            "_model_name": "ProgressStyleModel",
            "_view_count": null,
            "_view_module": "@jupyter-widgets/base",
            "_view_module_version": "1.2.0",
            "_view_name": "StyleView",
            "bar_color": null,
            "description_width": ""
          }
        },
        "c7f4dc21a3cb4b41b24c669afe1d64c4": {
          "model_module": "@jupyter-widgets/base",
          "model_name": "LayoutModel",
          "model_module_version": "1.2.0",
          "state": {
            "_model_module": "@jupyter-widgets/base",
            "_model_module_version": "1.2.0",
            "_model_name": "LayoutModel",
            "_view_count": null,
            "_view_module": "@jupyter-widgets/base",
            "_view_module_version": "1.2.0",
            "_view_name": "LayoutView",
            "align_content": null,
            "align_items": null,
            "align_self": null,
            "border": null,
            "bottom": null,
            "display": null,
            "flex": null,
            "flex_flow": null,
            "grid_area": null,
            "grid_auto_columns": null,
            "grid_auto_flow": null,
            "grid_auto_rows": null,
            "grid_column": null,
            "grid_gap": null,
            "grid_row": null,
            "grid_template_areas": null,
            "grid_template_columns": null,
            "grid_template_rows": null,
            "height": null,
            "justify_content": null,
            "justify_items": null,
            "left": null,
            "margin": null,
            "max_height": null,
            "max_width": null,
            "min_height": null,
            "min_width": null,
            "object_fit": null,
            "object_position": null,
            "order": null,
            "overflow": null,
            "overflow_x": null,
            "overflow_y": null,
            "padding": null,
            "right": null,
            "top": null,
            "visibility": null,
            "width": null
          }
        },
        "fc9e7b04e99d4ae684516ed1078795f1": {
          "model_module": "@jupyter-widgets/controls",
          "model_name": "DescriptionStyleModel",
          "model_module_version": "1.5.0",
          "state": {
            "_model_module": "@jupyter-widgets/controls",
            "_model_module_version": "1.5.0",
            "_model_name": "DescriptionStyleModel",
            "_view_count": null,
            "_view_module": "@jupyter-widgets/base",
            "_view_module_version": "1.2.0",
            "_view_name": "StyleView",
            "description_width": ""
          }
        },
        "edebdf4ae421435ebde7d93528c0d6df": {
          "model_module": "@jupyter-widgets/controls",
          "model_name": "HBoxModel",
          "model_module_version": "1.5.0",
          "state": {
            "_dom_classes": [],
            "_model_module": "@jupyter-widgets/controls",
            "_model_module_version": "1.5.0",
            "_model_name": "HBoxModel",
            "_view_count": null,
            "_view_module": "@jupyter-widgets/controls",
            "_view_module_version": "1.5.0",
            "_view_name": "HBoxView",
            "box_style": "",
            "children": [
              "IPY_MODEL_32652a39b29e4f51a9c0c16edcaf4b16",
              "IPY_MODEL_e705952c6edc4a53af0fab1bff4191ef",
              "IPY_MODEL_f76fff75480c4001968e74bdeca3a626"
            ],
            "layout": "IPY_MODEL_2d7b2888b61d44ed89b12eed38a68152"
          }
        },
        "32652a39b29e4f51a9c0c16edcaf4b16": {
          "model_module": "@jupyter-widgets/controls",
          "model_name": "HTMLModel",
          "model_module_version": "1.5.0",
          "state": {
            "_dom_classes": [],
            "_model_module": "@jupyter-widgets/controls",
            "_model_module_version": "1.5.0",
            "_model_name": "HTMLModel",
            "_view_count": null,
            "_view_module": "@jupyter-widgets/controls",
            "_view_module_version": "1.5.0",
            "_view_name": "HTMLView",
            "description": "",
            "description_tooltip": null,
            "layout": "IPY_MODEL_12d716d358bf4f43898001898db271ea",
            "placeholder": "​",
            "style": "IPY_MODEL_e0171d5dff0040a09456715406f4ce24",
            "value": "config.json: 100%"
          }
        },
        "e705952c6edc4a53af0fab1bff4191ef": {
          "model_module": "@jupyter-widgets/controls",
          "model_name": "FloatProgressModel",
          "model_module_version": "1.5.0",
          "state": {
            "_dom_classes": [],
            "_model_module": "@jupyter-widgets/controls",
            "_model_module_version": "1.5.0",
            "_model_name": "FloatProgressModel",
            "_view_count": null,
            "_view_module": "@jupyter-widgets/controls",
            "_view_module_version": "1.5.0",
            "_view_name": "ProgressView",
            "bar_style": "success",
            "description": "",
            "description_tooltip": null,
            "layout": "IPY_MODEL_18ce648bc53d4736a4af4f702f07a199",
            "max": 2062,
            "min": 0,
            "orientation": "horizontal",
            "style": "IPY_MODEL_08def8c6590844cbaf87dc68e5680fb7",
            "value": 2062
          }
        },
        "f76fff75480c4001968e74bdeca3a626": {
          "model_module": "@jupyter-widgets/controls",
          "model_name": "HTMLModel",
          "model_module_version": "1.5.0",
          "state": {
            "_dom_classes": [],
            "_model_module": "@jupyter-widgets/controls",
            "_model_module_version": "1.5.0",
            "_model_name": "HTMLModel",
            "_view_count": null,
            "_view_module": "@jupyter-widgets/controls",
            "_view_module_version": "1.5.0",
            "_view_name": "HTMLView",
            "description": "",
            "description_tooltip": null,
            "layout": "IPY_MODEL_f15c5803302a4404b835bc26c642a63d",
            "placeholder": "​",
            "style": "IPY_MODEL_292055846e954fdc91b7872f6df8ae58",
            "value": " 2.06k/2.06k [00:00&lt;00:00, 76.5kB/s]"
          }
        },
        "2d7b2888b61d44ed89b12eed38a68152": {
          "model_module": "@jupyter-widgets/base",
          "model_name": "LayoutModel",
          "model_module_version": "1.2.0",
          "state": {
            "_model_module": "@jupyter-widgets/base",
            "_model_module_version": "1.2.0",
            "_model_name": "LayoutModel",
            "_view_count": null,
            "_view_module": "@jupyter-widgets/base",
            "_view_module_version": "1.2.0",
            "_view_name": "LayoutView",
            "align_content": null,
            "align_items": null,
            "align_self": null,
            "border": null,
            "bottom": null,
            "display": null,
            "flex": null,
            "flex_flow": null,
            "grid_area": null,
            "grid_auto_columns": null,
            "grid_auto_flow": null,
            "grid_auto_rows": null,
            "grid_column": null,
            "grid_gap": null,
            "grid_row": null,
            "grid_template_areas": null,
            "grid_template_columns": null,
            "grid_template_rows": null,
            "height": null,
            "justify_content": null,
            "justify_items": null,
            "left": null,
            "margin": null,
            "max_height": null,
            "max_width": null,
            "min_height": null,
            "min_width": null,
            "object_fit": null,
            "object_position": null,
            "order": null,
            "overflow": null,
            "overflow_x": null,
            "overflow_y": null,
            "padding": null,
            "right": null,
            "top": null,
            "visibility": null,
            "width": null
          }
        },
        "12d716d358bf4f43898001898db271ea": {
          "model_module": "@jupyter-widgets/base",
          "model_name": "LayoutModel",
          "model_module_version": "1.2.0",
          "state": {
            "_model_module": "@jupyter-widgets/base",
            "_model_module_version": "1.2.0",
            "_model_name": "LayoutModel",
            "_view_count": null,
            "_view_module": "@jupyter-widgets/base",
            "_view_module_version": "1.2.0",
            "_view_name": "LayoutView",
            "align_content": null,
            "align_items": null,
            "align_self": null,
            "border": null,
            "bottom": null,
            "display": null,
            "flex": null,
            "flex_flow": null,
            "grid_area": null,
            "grid_auto_columns": null,
            "grid_auto_flow": null,
            "grid_auto_rows": null,
            "grid_column": null,
            "grid_gap": null,
            "grid_row": null,
            "grid_template_areas": null,
            "grid_template_columns": null,
            "grid_template_rows": null,
            "height": null,
            "justify_content": null,
            "justify_items": null,
            "left": null,
            "margin": null,
            "max_height": null,
            "max_width": null,
            "min_height": null,
            "min_width": null,
            "object_fit": null,
            "object_position": null,
            "order": null,
            "overflow": null,
            "overflow_x": null,
            "overflow_y": null,
            "padding": null,
            "right": null,
            "top": null,
            "visibility": null,
            "width": null
          }
        },
        "e0171d5dff0040a09456715406f4ce24": {
          "model_module": "@jupyter-widgets/controls",
          "model_name": "DescriptionStyleModel",
          "model_module_version": "1.5.0",
          "state": {
            "_model_module": "@jupyter-widgets/controls",
            "_model_module_version": "1.5.0",
            "_model_name": "DescriptionStyleModel",
            "_view_count": null,
            "_view_module": "@jupyter-widgets/base",
            "_view_module_version": "1.2.0",
            "_view_name": "StyleView",
            "description_width": ""
          }
        },
        "18ce648bc53d4736a4af4f702f07a199": {
          "model_module": "@jupyter-widgets/base",
          "model_name": "LayoutModel",
          "model_module_version": "1.2.0",
          "state": {
            "_model_module": "@jupyter-widgets/base",
            "_model_module_version": "1.2.0",
            "_model_name": "LayoutModel",
            "_view_count": null,
            "_view_module": "@jupyter-widgets/base",
            "_view_module_version": "1.2.0",
            "_view_name": "LayoutView",
            "align_content": null,
            "align_items": null,
            "align_self": null,
            "border": null,
            "bottom": null,
            "display": null,
            "flex": null,
            "flex_flow": null,
            "grid_area": null,
            "grid_auto_columns": null,
            "grid_auto_flow": null,
            "grid_auto_rows": null,
            "grid_column": null,
            "grid_gap": null,
            "grid_row": null,
            "grid_template_areas": null,
            "grid_template_columns": null,
            "grid_template_rows": null,
            "height": null,
            "justify_content": null,
            "justify_items": null,
            "left": null,
            "margin": null,
            "max_height": null,
            "max_width": null,
            "min_height": null,
            "min_width": null,
            "object_fit": null,
            "object_position": null,
            "order": null,
            "overflow": null,
            "overflow_x": null,
            "overflow_y": null,
            "padding": null,
            "right": null,
            "top": null,
            "visibility": null,
            "width": null
          }
        },
        "08def8c6590844cbaf87dc68e5680fb7": {
          "model_module": "@jupyter-widgets/controls",
          "model_name": "ProgressStyleModel",
          "model_module_version": "1.5.0",
          "state": {
            "_model_module": "@jupyter-widgets/controls",
            "_model_module_version": "1.5.0",
            "_model_name": "ProgressStyleModel",
            "_view_count": null,
            "_view_module": "@jupyter-widgets/base",
            "_view_module_version": "1.2.0",
            "_view_name": "StyleView",
            "bar_color": null,
            "description_width": ""
          }
        },
        "f15c5803302a4404b835bc26c642a63d": {
          "model_module": "@jupyter-widgets/base",
          "model_name": "LayoutModel",
          "model_module_version": "1.2.0",
          "state": {
            "_model_module": "@jupyter-widgets/base",
            "_model_module_version": "1.2.0",
            "_model_name": "LayoutModel",
            "_view_count": null,
            "_view_module": "@jupyter-widgets/base",
            "_view_module_version": "1.2.0",
            "_view_name": "LayoutView",
            "align_content": null,
            "align_items": null,
            "align_self": null,
            "border": null,
            "bottom": null,
            "display": null,
            "flex": null,
            "flex_flow": null,
            "grid_area": null,
            "grid_auto_columns": null,
            "grid_auto_flow": null,
            "grid_auto_rows": null,
            "grid_column": null,
            "grid_gap": null,
            "grid_row": null,
            "grid_template_areas": null,
            "grid_template_columns": null,
            "grid_template_rows": null,
            "height": null,
            "justify_content": null,
            "justify_items": null,
            "left": null,
            "margin": null,
            "max_height": null,
            "max_width": null,
            "min_height": null,
            "min_width": null,
            "object_fit": null,
            "object_position": null,
            "order": null,
            "overflow": null,
            "overflow_x": null,
            "overflow_y": null,
            "padding": null,
            "right": null,
            "top": null,
            "visibility": null,
            "width": null
          }
        },
        "292055846e954fdc91b7872f6df8ae58": {
          "model_module": "@jupyter-widgets/controls",
          "model_name": "DescriptionStyleModel",
          "model_module_version": "1.5.0",
          "state": {
            "_model_module": "@jupyter-widgets/controls",
            "_model_module_version": "1.5.0",
            "_model_name": "DescriptionStyleModel",
            "_view_count": null,
            "_view_module": "@jupyter-widgets/base",
            "_view_module_version": "1.2.0",
            "_view_name": "StyleView",
            "description_width": ""
          }
        },
        "7f0397f7767a474db8b2fea84ae3a3d8": {
          "model_module": "@jupyter-widgets/controls",
          "model_name": "HBoxModel",
          "model_module_version": "1.5.0",
          "state": {
            "_dom_classes": [],
            "_model_module": "@jupyter-widgets/controls",
            "_model_module_version": "1.5.0",
            "_model_name": "HBoxModel",
            "_view_count": null,
            "_view_module": "@jupyter-widgets/controls",
            "_view_module_version": "1.5.0",
            "_view_name": "HBoxView",
            "box_style": "",
            "children": [
              "IPY_MODEL_62618de0a4f749c39fb890ef47b32585",
              "IPY_MODEL_3ecd21fbf5a443a9bcac5d21a7d43a72",
              "IPY_MODEL_290de5d3f174485b98917cf418ea6eb9"
            ],
            "layout": "IPY_MODEL_90ea70b5c693448dadd00123b3aaa762"
          }
        },
        "62618de0a4f749c39fb890ef47b32585": {
          "model_module": "@jupyter-widgets/controls",
          "model_name": "HTMLModel",
          "model_module_version": "1.5.0",
          "state": {
            "_dom_classes": [],
            "_model_module": "@jupyter-widgets/controls",
            "_model_module_version": "1.5.0",
            "_model_name": "HTMLModel",
            "_view_count": null,
            "_view_module": "@jupyter-widgets/controls",
            "_view_module_version": "1.5.0",
            "_view_name": "HTMLView",
            "description": "",
            "description_tooltip": null,
            "layout": "IPY_MODEL_6e6b8c6b480b40e49399abe83ab7336e",
            "placeholder": "​",
            "style": "IPY_MODEL_a538579caddb4c84b1dc5936b1e898fb",
            "value": "pytorch_model.bin: 100%"
          }
        },
        "3ecd21fbf5a443a9bcac5d21a7d43a72": {
          "model_module": "@jupyter-widgets/controls",
          "model_name": "FloatProgressModel",
          "model_module_version": "1.5.0",
          "state": {
            "_dom_classes": [],
            "_model_module": "@jupyter-widgets/controls",
            "_model_module_version": "1.5.0",
            "_model_name": "FloatProgressModel",
            "_view_count": null,
            "_view_module": "@jupyter-widgets/controls",
            "_view_module_version": "1.5.0",
            "_view_name": "ProgressView",
            "bar_style": "success",
            "description": "",
            "description_tooltip": null,
            "layout": "IPY_MODEL_9464792db3294b48b8842384fd0517a9",
            "max": 585476837,
            "min": 0,
            "orientation": "horizontal",
            "style": "IPY_MODEL_e9a5fcaaa4be4c1ba3c275efe45f7002",
            "value": 585476837
          }
        },
        "290de5d3f174485b98917cf418ea6eb9": {
          "model_module": "@jupyter-widgets/controls",
          "model_name": "HTMLModel",
          "model_module_version": "1.5.0",
          "state": {
            "_dom_classes": [],
            "_model_module": "@jupyter-widgets/controls",
            "_model_module_version": "1.5.0",
            "_model_name": "HTMLModel",
            "_view_count": null,
            "_view_module": "@jupyter-widgets/controls",
            "_view_module_version": "1.5.0",
            "_view_name": "HTMLView",
            "description": "",
            "description_tooltip": null,
            "layout": "IPY_MODEL_b60c550289044e7097097294de459f3a",
            "placeholder": "​",
            "style": "IPY_MODEL_796c7acdb11242e7bacbaf3bba8a2afa",
            "value": " 585M/585M [00:04&lt;00:00, 151MB/s]"
          }
        },
        "90ea70b5c693448dadd00123b3aaa762": {
          "model_module": "@jupyter-widgets/base",
          "model_name": "LayoutModel",
          "model_module_version": "1.2.0",
          "state": {
            "_model_module": "@jupyter-widgets/base",
            "_model_module_version": "1.2.0",
            "_model_name": "LayoutModel",
            "_view_count": null,
            "_view_module": "@jupyter-widgets/base",
            "_view_module_version": "1.2.0",
            "_view_name": "LayoutView",
            "align_content": null,
            "align_items": null,
            "align_self": null,
            "border": null,
            "bottom": null,
            "display": null,
            "flex": null,
            "flex_flow": null,
            "grid_area": null,
            "grid_auto_columns": null,
            "grid_auto_flow": null,
            "grid_auto_rows": null,
            "grid_column": null,
            "grid_gap": null,
            "grid_row": null,
            "grid_template_areas": null,
            "grid_template_columns": null,
            "grid_template_rows": null,
            "height": null,
            "justify_content": null,
            "justify_items": null,
            "left": null,
            "margin": null,
            "max_height": null,
            "max_width": null,
            "min_height": null,
            "min_width": null,
            "object_fit": null,
            "object_position": null,
            "order": null,
            "overflow": null,
            "overflow_x": null,
            "overflow_y": null,
            "padding": null,
            "right": null,
            "top": null,
            "visibility": null,
            "width": null
          }
        },
        "6e6b8c6b480b40e49399abe83ab7336e": {
          "model_module": "@jupyter-widgets/base",
          "model_name": "LayoutModel",
          "model_module_version": "1.2.0",
          "state": {
            "_model_module": "@jupyter-widgets/base",
            "_model_module_version": "1.2.0",
            "_model_name": "LayoutModel",
            "_view_count": null,
            "_view_module": "@jupyter-widgets/base",
            "_view_module_version": "1.2.0",
            "_view_name": "LayoutView",
            "align_content": null,
            "align_items": null,
            "align_self": null,
            "border": null,
            "bottom": null,
            "display": null,
            "flex": null,
            "flex_flow": null,
            "grid_area": null,
            "grid_auto_columns": null,
            "grid_auto_flow": null,
            "grid_auto_rows": null,
            "grid_column": null,
            "grid_gap": null,
            "grid_row": null,
            "grid_template_areas": null,
            "grid_template_columns": null,
            "grid_template_rows": null,
            "height": null,
            "justify_content": null,
            "justify_items": null,
            "left": null,
            "margin": null,
            "max_height": null,
            "max_width": null,
            "min_height": null,
            "min_width": null,
            "object_fit": null,
            "object_position": null,
            "order": null,
            "overflow": null,
            "overflow_x": null,
            "overflow_y": null,
            "padding": null,
            "right": null,
            "top": null,
            "visibility": null,
            "width": null
          }
        },
        "a538579caddb4c84b1dc5936b1e898fb": {
          "model_module": "@jupyter-widgets/controls",
          "model_name": "DescriptionStyleModel",
          "model_module_version": "1.5.0",
          "state": {
            "_model_module": "@jupyter-widgets/controls",
            "_model_module_version": "1.5.0",
            "_model_name": "DescriptionStyleModel",
            "_view_count": null,
            "_view_module": "@jupyter-widgets/base",
            "_view_module_version": "1.2.0",
            "_view_name": "StyleView",
            "description_width": ""
          }
        },
        "9464792db3294b48b8842384fd0517a9": {
          "model_module": "@jupyter-widgets/base",
          "model_name": "LayoutModel",
          "model_module_version": "1.2.0",
          "state": {
            "_model_module": "@jupyter-widgets/base",
            "_model_module_version": "1.2.0",
            "_model_name": "LayoutModel",
            "_view_count": null,
            "_view_module": "@jupyter-widgets/base",
            "_view_module_version": "1.2.0",
            "_view_name": "LayoutView",
            "align_content": null,
            "align_items": null,
            "align_self": null,
            "border": null,
            "bottom": null,
            "display": null,
            "flex": null,
            "flex_flow": null,
            "grid_area": null,
            "grid_auto_columns": null,
            "grid_auto_flow": null,
            "grid_auto_rows": null,
            "grid_column": null,
            "grid_gap": null,
            "grid_row": null,
            "grid_template_areas": null,
            "grid_template_columns": null,
            "grid_template_rows": null,
            "height": null,
            "justify_content": null,
            "justify_items": null,
            "left": null,
            "margin": null,
            "max_height": null,
            "max_width": null,
            "min_height": null,
            "min_width": null,
            "object_fit": null,
            "object_position": null,
            "order": null,
            "overflow": null,
            "overflow_x": null,
            "overflow_y": null,
            "padding": null,
            "right": null,
            "top": null,
            "visibility": null,
            "width": null
          }
        },
        "e9a5fcaaa4be4c1ba3c275efe45f7002": {
          "model_module": "@jupyter-widgets/controls",
          "model_name": "ProgressStyleModel",
          "model_module_version": "1.5.0",
          "state": {
            "_model_module": "@jupyter-widgets/controls",
            "_model_module_version": "1.5.0",
            "_model_name": "ProgressStyleModel",
            "_view_count": null,
            "_view_module": "@jupyter-widgets/base",
            "_view_module_version": "1.2.0",
            "_view_name": "StyleView",
            "bar_color": null,
            "description_width": ""
          }
        },
        "b60c550289044e7097097294de459f3a": {
          "model_module": "@jupyter-widgets/base",
          "model_name": "LayoutModel",
          "model_module_version": "1.2.0",
          "state": {
            "_model_module": "@jupyter-widgets/base",
            "_model_module_version": "1.2.0",
            "_model_name": "LayoutModel",
            "_view_count": null,
            "_view_module": "@jupyter-widgets/base",
            "_view_module_version": "1.2.0",
            "_view_name": "LayoutView",
            "align_content": null,
            "align_items": null,
            "align_self": null,
            "border": null,
            "bottom": null,
            "display": null,
            "flex": null,
            "flex_flow": null,
            "grid_area": null,
            "grid_auto_columns": null,
            "grid_auto_flow": null,
            "grid_auto_rows": null,
            "grid_column": null,
            "grid_gap": null,
            "grid_row": null,
            "grid_template_areas": null,
            "grid_template_columns": null,
            "grid_template_rows": null,
            "height": null,
            "justify_content": null,
            "justify_items": null,
            "left": null,
            "margin": null,
            "max_height": null,
            "max_width": null,
            "min_height": null,
            "min_width": null,
            "object_fit": null,
            "object_position": null,
            "order": null,
            "overflow": null,
            "overflow_x": null,
            "overflow_y": null,
            "padding": null,
            "right": null,
            "top": null,
            "visibility": null,
            "width": null
          }
        },
        "796c7acdb11242e7bacbaf3bba8a2afa": {
          "model_module": "@jupyter-widgets/controls",
          "model_name": "DescriptionStyleModel",
          "model_module_version": "1.5.0",
          "state": {
            "_model_module": "@jupyter-widgets/controls",
            "_model_module_version": "1.5.0",
            "_model_name": "DescriptionStyleModel",
            "_view_count": null,
            "_view_module": "@jupyter-widgets/base",
            "_view_module_version": "1.2.0",
            "_view_name": "StyleView",
            "description_width": ""
          }
        },
        "6d84fd78983b4040b4b792c1d66d154a": {
          "model_module": "@jupyter-widgets/controls",
          "model_name": "HBoxModel",
          "model_module_version": "1.5.0",
          "state": {
            "_dom_classes": [],
            "_model_module": "@jupyter-widgets/controls",
            "_model_module_version": "1.5.0",
            "_model_name": "HBoxModel",
            "_view_count": null,
            "_view_module": "@jupyter-widgets/controls",
            "_view_module_version": "1.5.0",
            "_view_name": "HBoxView",
            "box_style": "",
            "children": [
              "IPY_MODEL_460d1d5755834967822b24daed1cdac6",
              "IPY_MODEL_50451e715baa4d548b20446c49c90423",
              "IPY_MODEL_22a936f0a15149f0b470c10682cddc56"
            ],
            "layout": "IPY_MODEL_70ba35322004415083481f99a1e6838c"
          }
        },
        "460d1d5755834967822b24daed1cdac6": {
          "model_module": "@jupyter-widgets/controls",
          "model_name": "HTMLModel",
          "model_module_version": "1.5.0",
          "state": {
            "_dom_classes": [],
            "_model_module": "@jupyter-widgets/controls",
            "_model_module_version": "1.5.0",
            "_model_name": "HTMLModel",
            "_view_count": null,
            "_view_module": "@jupyter-widgets/controls",
            "_view_module_version": "1.5.0",
            "_view_name": "HTMLView",
            "description": "",
            "description_tooltip": null,
            "layout": "IPY_MODEL_013f85f4169e4852ada360482005aa8d",
            "placeholder": "​",
            "style": "IPY_MODEL_eef3d504b4314d8da3dc29fa95285118",
            "value": "config.json: 100%"
          }
        },
        "50451e715baa4d548b20446c49c90423": {
          "model_module": "@jupyter-widgets/controls",
          "model_name": "FloatProgressModel",
          "model_module_version": "1.5.0",
          "state": {
            "_dom_classes": [],
            "_model_module": "@jupyter-widgets/controls",
            "_model_module_version": "1.5.0",
            "_model_name": "FloatProgressModel",
            "_view_count": null,
            "_view_module": "@jupyter-widgets/controls",
            "_view_module_version": "1.5.0",
            "_view_name": "ProgressView",
            "bar_style": "success",
            "description": "",
            "description_tooltip": null,
            "layout": "IPY_MODEL_d1a609597c2345a69148e85aacffe224",
            "max": 636,
            "min": 0,
            "orientation": "horizontal",
            "style": "IPY_MODEL_9563bada1d1b40c9a7d63c7c4a8ada29",
            "value": 636
          }
        },
        "22a936f0a15149f0b470c10682cddc56": {
          "model_module": "@jupyter-widgets/controls",
          "model_name": "HTMLModel",
          "model_module_version": "1.5.0",
          "state": {
            "_dom_classes": [],
            "_model_module": "@jupyter-widgets/controls",
            "_model_module_version": "1.5.0",
            "_model_name": "HTMLModel",
            "_view_count": null,
            "_view_module": "@jupyter-widgets/controls",
            "_view_module_version": "1.5.0",
            "_view_name": "HTMLView",
            "description": "",
            "description_tooltip": null,
            "layout": "IPY_MODEL_78ebb323c8ac4f16a98c62d2bff6c8f8",
            "placeholder": "​",
            "style": "IPY_MODEL_9a8d5628b5c54f8bbc58db3573bd6134",
            "value": " 636/636 [00:00&lt;00:00, 44.8kB/s]"
          }
        },
        "70ba35322004415083481f99a1e6838c": {
          "model_module": "@jupyter-widgets/base",
          "model_name": "LayoutModel",
          "model_module_version": "1.2.0",
          "state": {
            "_model_module": "@jupyter-widgets/base",
            "_model_module_version": "1.2.0",
            "_model_name": "LayoutModel",
            "_view_count": null,
            "_view_module": "@jupyter-widgets/base",
            "_view_module_version": "1.2.0",
            "_view_name": "LayoutView",
            "align_content": null,
            "align_items": null,
            "align_self": null,
            "border": null,
            "bottom": null,
            "display": null,
            "flex": null,
            "flex_flow": null,
            "grid_area": null,
            "grid_auto_columns": null,
            "grid_auto_flow": null,
            "grid_auto_rows": null,
            "grid_column": null,
            "grid_gap": null,
            "grid_row": null,
            "grid_template_areas": null,
            "grid_template_columns": null,
            "grid_template_rows": null,
            "height": null,
            "justify_content": null,
            "justify_items": null,
            "left": null,
            "margin": null,
            "max_height": null,
            "max_width": null,
            "min_height": null,
            "min_width": null,
            "object_fit": null,
            "object_position": null,
            "order": null,
            "overflow": null,
            "overflow_x": null,
            "overflow_y": null,
            "padding": null,
            "right": null,
            "top": null,
            "visibility": null,
            "width": null
          }
        },
        "013f85f4169e4852ada360482005aa8d": {
          "model_module": "@jupyter-widgets/base",
          "model_name": "LayoutModel",
          "model_module_version": "1.2.0",
          "state": {
            "_model_module": "@jupyter-widgets/base",
            "_model_module_version": "1.2.0",
            "_model_name": "LayoutModel",
            "_view_count": null,
            "_view_module": "@jupyter-widgets/base",
            "_view_module_version": "1.2.0",
            "_view_name": "LayoutView",
            "align_content": null,
            "align_items": null,
            "align_self": null,
            "border": null,
            "bottom": null,
            "display": null,
            "flex": null,
            "flex_flow": null,
            "grid_area": null,
            "grid_auto_columns": null,
            "grid_auto_flow": null,
            "grid_auto_rows": null,
            "grid_column": null,
            "grid_gap": null,
            "grid_row": null,
            "grid_template_areas": null,
            "grid_template_columns": null,
            "grid_template_rows": null,
            "height": null,
            "justify_content": null,
            "justify_items": null,
            "left": null,
            "margin": null,
            "max_height": null,
            "max_width": null,
            "min_height": null,
            "min_width": null,
            "object_fit": null,
            "object_position": null,
            "order": null,
            "overflow": null,
            "overflow_x": null,
            "overflow_y": null,
            "padding": null,
            "right": null,
            "top": null,
            "visibility": null,
            "width": null
          }
        },
        "eef3d504b4314d8da3dc29fa95285118": {
          "model_module": "@jupyter-widgets/controls",
          "model_name": "DescriptionStyleModel",
          "model_module_version": "1.5.0",
          "state": {
            "_model_module": "@jupyter-widgets/controls",
            "_model_module_version": "1.5.0",
            "_model_name": "DescriptionStyleModel",
            "_view_count": null,
            "_view_module": "@jupyter-widgets/base",
            "_view_module_version": "1.2.0",
            "_view_name": "StyleView",
            "description_width": ""
          }
        },
        "d1a609597c2345a69148e85aacffe224": {
          "model_module": "@jupyter-widgets/base",
          "model_name": "LayoutModel",
          "model_module_version": "1.2.0",
          "state": {
            "_model_module": "@jupyter-widgets/base",
            "_model_module_version": "1.2.0",
            "_model_name": "LayoutModel",
            "_view_count": null,
            "_view_module": "@jupyter-widgets/base",
            "_view_module_version": "1.2.0",
            "_view_name": "LayoutView",
            "align_content": null,
            "align_items": null,
            "align_self": null,
            "border": null,
            "bottom": null,
            "display": null,
            "flex": null,
            "flex_flow": null,
            "grid_area": null,
            "grid_auto_columns": null,
            "grid_auto_flow": null,
            "grid_auto_rows": null,
            "grid_column": null,
            "grid_gap": null,
            "grid_row": null,
            "grid_template_areas": null,
            "grid_template_columns": null,
            "grid_template_rows": null,
            "height": null,
            "justify_content": null,
            "justify_items": null,
            "left": null,
            "margin": null,
            "max_height": null,
            "max_width": null,
            "min_height": null,
            "min_width": null,
            "object_fit": null,
            "object_position": null,
            "order": null,
            "overflow": null,
            "overflow_x": null,
            "overflow_y": null,
            "padding": null,
            "right": null,
            "top": null,
            "visibility": null,
            "width": null
          }
        },
        "9563bada1d1b40c9a7d63c7c4a8ada29": {
          "model_module": "@jupyter-widgets/controls",
          "model_name": "ProgressStyleModel",
          "model_module_version": "1.5.0",
          "state": {
            "_model_module": "@jupyter-widgets/controls",
            "_model_module_version": "1.5.0",
            "_model_name": "ProgressStyleModel",
            "_view_count": null,
            "_view_module": "@jupyter-widgets/base",
            "_view_module_version": "1.2.0",
            "_view_name": "StyleView",
            "bar_color": null,
            "description_width": ""
          }
        },
        "78ebb323c8ac4f16a98c62d2bff6c8f8": {
          "model_module": "@jupyter-widgets/base",
          "model_name": "LayoutModel",
          "model_module_version": "1.2.0",
          "state": {
            "_model_module": "@jupyter-widgets/base",
            "_model_module_version": "1.2.0",
            "_model_name": "LayoutModel",
            "_view_count": null,
            "_view_module": "@jupyter-widgets/base",
            "_view_module_version": "1.2.0",
            "_view_name": "LayoutView",
            "align_content": null,
            "align_items": null,
            "align_self": null,
            "border": null,
            "bottom": null,
            "display": null,
            "flex": null,
            "flex_flow": null,
            "grid_area": null,
            "grid_auto_columns": null,
            "grid_auto_flow": null,
            "grid_auto_rows": null,
            "grid_column": null,
            "grid_gap": null,
            "grid_row": null,
            "grid_template_areas": null,
            "grid_template_columns": null,
            "grid_template_rows": null,
            "height": null,
            "justify_content": null,
            "justify_items": null,
            "left": null,
            "margin": null,
            "max_height": null,
            "max_width": null,
            "min_height": null,
            "min_width": null,
            "object_fit": null,
            "object_position": null,
            "order": null,
            "overflow": null,
            "overflow_x": null,
            "overflow_y": null,
            "padding": null,
            "right": null,
            "top": null,
            "visibility": null,
            "width": null
          }
        },
        "9a8d5628b5c54f8bbc58db3573bd6134": {
          "model_module": "@jupyter-widgets/controls",
          "model_name": "DescriptionStyleModel",
          "model_module_version": "1.5.0",
          "state": {
            "_model_module": "@jupyter-widgets/controls",
            "_model_module_version": "1.5.0",
            "_model_name": "DescriptionStyleModel",
            "_view_count": null,
            "_view_module": "@jupyter-widgets/base",
            "_view_module_version": "1.2.0",
            "_view_name": "StyleView",
            "description_width": ""
          }
        },
        "a0a2a6b6cf244d8d9398533947b5c05a": {
          "model_module": "@jupyter-widgets/controls",
          "model_name": "HBoxModel",
          "model_module_version": "1.5.0",
          "state": {
            "_dom_classes": [],
            "_model_module": "@jupyter-widgets/controls",
            "_model_module_version": "1.5.0",
            "_model_name": "HBoxModel",
            "_view_count": null,
            "_view_module": "@jupyter-widgets/controls",
            "_view_module_version": "1.5.0",
            "_view_name": "HBoxView",
            "box_style": "",
            "children": [
              "IPY_MODEL_85d26ad493d442d79110b93829430722",
              "IPY_MODEL_e1ac386564f7419cbb6e844421b94f8f",
              "IPY_MODEL_01af46e1096d4e4dbcc0d9d5efdeb4b1"
            ],
            "layout": "IPY_MODEL_6bab4fa3711b4520ba93b4d7f78642ae"
          }
        },
        "85d26ad493d442d79110b93829430722": {
          "model_module": "@jupyter-widgets/controls",
          "model_name": "HTMLModel",
          "model_module_version": "1.5.0",
          "state": {
            "_dom_classes": [],
            "_model_module": "@jupyter-widgets/controls",
            "_model_module_version": "1.5.0",
            "_model_name": "HTMLModel",
            "_view_count": null,
            "_view_module": "@jupyter-widgets/controls",
            "_view_module_version": "1.5.0",
            "_view_name": "HTMLView",
            "description": "",
            "description_tooltip": null,
            "layout": "IPY_MODEL_bbe98e8ed3a14da1a8b8b70133eb9ac3",
            "placeholder": "​",
            "style": "IPY_MODEL_4d2ca1dbbfd8459eb044f9fbf441626f",
            "value": "pytorch_model.bin: 100%"
          }
        },
        "e1ac386564f7419cbb6e844421b94f8f": {
          "model_module": "@jupyter-widgets/controls",
          "model_name": "FloatProgressModel",
          "model_module_version": "1.5.0",
          "state": {
            "_dom_classes": [],
            "_model_module": "@jupyter-widgets/controls",
            "_model_module_version": "1.5.0",
            "_model_name": "FloatProgressModel",
            "_view_count": null,
            "_view_module": "@jupyter-widgets/controls",
            "_view_module_version": "1.5.0",
            "_view_name": "ProgressView",
            "bar_style": "success",
            "description": "",
            "description_tooltip": null,
            "layout": "IPY_MODEL_d1a0a0d2b7db4d9ca677f11f9df9da88",
            "max": 50672453,
            "min": 0,
            "orientation": "horizontal",
            "style": "IPY_MODEL_5a64ad67c6d74564b4a8882770efb56c",
            "value": 50672453
          }
        },
        "01af46e1096d4e4dbcc0d9d5efdeb4b1": {
          "model_module": "@jupyter-widgets/controls",
          "model_name": "HTMLModel",
          "model_module_version": "1.5.0",
          "state": {
            "_dom_classes": [],
            "_model_module": "@jupyter-widgets/controls",
            "_model_module_version": "1.5.0",
            "_model_name": "HTMLModel",
            "_view_count": null,
            "_view_module": "@jupyter-widgets/controls",
            "_view_module_version": "1.5.0",
            "_view_name": "HTMLView",
            "description": "",
            "description_tooltip": null,
            "layout": "IPY_MODEL_b38f301247a144cc86680f4fbd1124db",
            "placeholder": "​",
            "style": "IPY_MODEL_4ad4dbedc50d4c8aa7acbc1bc3bd768e",
            "value": " 50.7M/50.7M [00:00&lt;00:00, 78.7MB/s]"
          }
        },
        "6bab4fa3711b4520ba93b4d7f78642ae": {
          "model_module": "@jupyter-widgets/base",
          "model_name": "LayoutModel",
          "model_module_version": "1.2.0",
          "state": {
            "_model_module": "@jupyter-widgets/base",
            "_model_module_version": "1.2.0",
            "_model_name": "LayoutModel",
            "_view_count": null,
            "_view_module": "@jupyter-widgets/base",
            "_view_module_version": "1.2.0",
            "_view_name": "LayoutView",
            "align_content": null,
            "align_items": null,
            "align_self": null,
            "border": null,
            "bottom": null,
            "display": null,
            "flex": null,
            "flex_flow": null,
            "grid_area": null,
            "grid_auto_columns": null,
            "grid_auto_flow": null,
            "grid_auto_rows": null,
            "grid_column": null,
            "grid_gap": null,
            "grid_row": null,
            "grid_template_areas": null,
            "grid_template_columns": null,
            "grid_template_rows": null,
            "height": null,
            "justify_content": null,
            "justify_items": null,
            "left": null,
            "margin": null,
            "max_height": null,
            "max_width": null,
            "min_height": null,
            "min_width": null,
            "object_fit": null,
            "object_position": null,
            "order": null,
            "overflow": null,
            "overflow_x": null,
            "overflow_y": null,
            "padding": null,
            "right": null,
            "top": null,
            "visibility": null,
            "width": null
          }
        },
        "bbe98e8ed3a14da1a8b8b70133eb9ac3": {
          "model_module": "@jupyter-widgets/base",
          "model_name": "LayoutModel",
          "model_module_version": "1.2.0",
          "state": {
            "_model_module": "@jupyter-widgets/base",
            "_model_module_version": "1.2.0",
            "_model_name": "LayoutModel",
            "_view_count": null,
            "_view_module": "@jupyter-widgets/base",
            "_view_module_version": "1.2.0",
            "_view_name": "LayoutView",
            "align_content": null,
            "align_items": null,
            "align_self": null,
            "border": null,
            "bottom": null,
            "display": null,
            "flex": null,
            "flex_flow": null,
            "grid_area": null,
            "grid_auto_columns": null,
            "grid_auto_flow": null,
            "grid_auto_rows": null,
            "grid_column": null,
            "grid_gap": null,
            "grid_row": null,
            "grid_template_areas": null,
            "grid_template_columns": null,
            "grid_template_rows": null,
            "height": null,
            "justify_content": null,
            "justify_items": null,
            "left": null,
            "margin": null,
            "max_height": null,
            "max_width": null,
            "min_height": null,
            "min_width": null,
            "object_fit": null,
            "object_position": null,
            "order": null,
            "overflow": null,
            "overflow_x": null,
            "overflow_y": null,
            "padding": null,
            "right": null,
            "top": null,
            "visibility": null,
            "width": null
          }
        },
        "4d2ca1dbbfd8459eb044f9fbf441626f": {
          "model_module": "@jupyter-widgets/controls",
          "model_name": "DescriptionStyleModel",
          "model_module_version": "1.5.0",
          "state": {
            "_model_module": "@jupyter-widgets/controls",
            "_model_module_version": "1.5.0",
            "_model_name": "DescriptionStyleModel",
            "_view_count": null,
            "_view_module": "@jupyter-widgets/base",
            "_view_module_version": "1.2.0",
            "_view_name": "StyleView",
            "description_width": ""
          }
        },
        "d1a0a0d2b7db4d9ca677f11f9df9da88": {
          "model_module": "@jupyter-widgets/base",
          "model_name": "LayoutModel",
          "model_module_version": "1.2.0",
          "state": {
            "_model_module": "@jupyter-widgets/base",
            "_model_module_version": "1.2.0",
            "_model_name": "LayoutModel",
            "_view_count": null,
            "_view_module": "@jupyter-widgets/base",
            "_view_module_version": "1.2.0",
            "_view_name": "LayoutView",
            "align_content": null,
            "align_items": null,
            "align_self": null,
            "border": null,
            "bottom": null,
            "display": null,
            "flex": null,
            "flex_flow": null,
            "grid_area": null,
            "grid_auto_columns": null,
            "grid_auto_flow": null,
            "grid_auto_rows": null,
            "grid_column": null,
            "grid_gap": null,
            "grid_row": null,
            "grid_template_areas": null,
            "grid_template_columns": null,
            "grid_template_rows": null,
            "height": null,
            "justify_content": null,
            "justify_items": null,
            "left": null,
            "margin": null,
            "max_height": null,
            "max_width": null,
            "min_height": null,
            "min_width": null,
            "object_fit": null,
            "object_position": null,
            "order": null,
            "overflow": null,
            "overflow_x": null,
            "overflow_y": null,
            "padding": null,
            "right": null,
            "top": null,
            "visibility": null,
            "width": null
          }
        },
        "5a64ad67c6d74564b4a8882770efb56c": {
          "model_module": "@jupyter-widgets/controls",
          "model_name": "ProgressStyleModel",
          "model_module_version": "1.5.0",
          "state": {
            "_model_module": "@jupyter-widgets/controls",
            "_model_module_version": "1.5.0",
            "_model_name": "ProgressStyleModel",
            "_view_count": null,
            "_view_module": "@jupyter-widgets/base",
            "_view_module_version": "1.2.0",
            "_view_name": "StyleView",
            "bar_color": null,
            "description_width": ""
          }
        },
        "b38f301247a144cc86680f4fbd1124db": {
          "model_module": "@jupyter-widgets/base",
          "model_name": "LayoutModel",
          "model_module_version": "1.2.0",
          "state": {
            "_model_module": "@jupyter-widgets/base",
            "_model_module_version": "1.2.0",
            "_model_name": "LayoutModel",
            "_view_count": null,
            "_view_module": "@jupyter-widgets/base",
            "_view_module_version": "1.2.0",
            "_view_name": "LayoutView",
            "align_content": null,
            "align_items": null,
            "align_self": null,
            "border": null,
            "bottom": null,
            "display": null,
            "flex": null,
            "flex_flow": null,
            "grid_area": null,
            "grid_auto_columns": null,
            "grid_auto_flow": null,
            "grid_auto_rows": null,
            "grid_column": null,
            "grid_gap": null,
            "grid_row": null,
            "grid_template_areas": null,
            "grid_template_columns": null,
            "grid_template_rows": null,
            "height": null,
            "justify_content": null,
            "justify_items": null,
            "left": null,
            "margin": null,
            "max_height": null,
            "max_width": null,
            "min_height": null,
            "min_width": null,
            "object_fit": null,
            "object_position": null,
            "order": null,
            "overflow": null,
            "overflow_x": null,
            "overflow_y": null,
            "padding": null,
            "right": null,
            "top": null,
            "visibility": null,
            "width": null
          }
        },
        "4ad4dbedc50d4c8aa7acbc1bc3bd768e": {
          "model_module": "@jupyter-widgets/controls",
          "model_name": "DescriptionStyleModel",
          "model_module_version": "1.5.0",
          "state": {
            "_model_module": "@jupyter-widgets/controls",
            "_model_module_version": "1.5.0",
            "_model_name": "DescriptionStyleModel",
            "_view_count": null,
            "_view_module": "@jupyter-widgets/base",
            "_view_module_version": "1.2.0",
            "_view_name": "StyleView",
            "description_width": ""
          }
        }
      }
    }
  },
  "nbformat": 4,
  "nbformat_minor": 0
}